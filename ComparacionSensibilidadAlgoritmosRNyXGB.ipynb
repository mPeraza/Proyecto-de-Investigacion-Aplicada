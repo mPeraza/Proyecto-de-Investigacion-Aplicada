{
  "nbformat": 4,
  "nbformat_minor": 0,
  "metadata": {
    "colab": {
      "name": "ComparacionSensibilidadAlgoritmosRNyXGB.ipynb",
      "provenance": [],
      "collapsed_sections": []
    },
    "kernelspec": {
      "name": "python3",
      "display_name": "Python 3"
    },
    "language_info": {
      "name": "python"
    }
  },
  "cells": [
    {
      "cell_type": "markdown",
      "source": [
        "## Proyecto aplicado: Comparación de la sensibilidad de los algoritmos de clasificación bosque aleatorio y extreme gradient boosting ante alteraciones de un conjunto de datos de intención de compra"
      ],
      "metadata": {
        "id": "XJfGNGkKcuhX"
      }
    },
    {
      "cell_type": "code",
      "source": [
        "pip install xgboost"
      ],
      "metadata": {
        "colab": {
          "base_uri": "https://localhost:8080/"
        },
        "id": "tcLEugY_PJBL",
        "outputId": "34007f12-98c3-4fdb-fcd1-098f861e84b1"
      },
      "execution_count": null,
      "outputs": [
        {
          "output_type": "stream",
          "name": "stdout",
          "text": [
            "Looking in indexes: https://pypi.org/simple, https://us-python.pkg.dev/colab-wheels/public/simple/\n",
            "Requirement already satisfied: xgboost in /usr/local/lib/python3.7/dist-packages (0.90)\n",
            "Requirement already satisfied: numpy in /usr/local/lib/python3.7/dist-packages (from xgboost) (1.21.6)\n",
            "Requirement already satisfied: scipy in /usr/local/lib/python3.7/dist-packages (from xgboost) (1.7.3)\n"
          ]
        }
      ]
    },
    {
      "cell_type": "code",
      "source": [
        "import numpy as np \n",
        "import pandas as pd \n",
        "import os\n",
        "import random\n",
        "import matplotlib.pyplot as plt\n",
        "import seaborn as sns\n",
        "from numpy import asarray\n",
        "from sklearn.preprocessing import LabelEncoder\n",
        "from xgboost import XGBClassifier\n",
        "from numpy import std\n",
        "from sklearn.model_selection import train_test_split\n",
        "from numpy import mean\n",
        "from sklearn.ensemble import RandomForestClassifier\n",
        "from sklearn.metrics import classification_report\n",
        "from sklearn.metrics import precision_score\n",
        "from sklearn.metrics import recall_score\n",
        "from sklearn.metrics import precision_recall_fscore_support as score\n",
        "import xgboost"
      ],
      "metadata": {
        "id": "W216zsnpfvdf"
      },
      "execution_count": null,
      "outputs": []
    },
    {
      "cell_type": "code",
      "source": [
        "raw_data = pd.read_csv(\"/content/online_shoppers_intention.csv\")\n",
        "raw_data.head()"
      ],
      "metadata": {
        "colab": {
          "base_uri": "https://localhost:8080/",
          "height": 270
        },
        "id": "60x04jKn3HFC",
        "outputId": "caeea649-39d3-4852-f09b-e181230fda91"
      },
      "execution_count": null,
      "outputs": [
        {
          "output_type": "execute_result",
          "data": {
            "text/plain": [
              "   Administrative  Administrative_Duration  Informational  \\\n",
              "0               0                      0.0              0   \n",
              "1               0                      0.0              0   \n",
              "2               0                      0.0              0   \n",
              "3               0                      0.0              0   \n",
              "4               0                      0.0              0   \n",
              "\n",
              "   Informational_Duration  ProductRelated  ProductRelated_Duration  \\\n",
              "0                     0.0               1                 0.000000   \n",
              "1                     0.0               2                64.000000   \n",
              "2                     0.0               1                 0.000000   \n",
              "3                     0.0               2                 2.666667   \n",
              "4                     0.0              10               627.500000   \n",
              "\n",
              "   BounceRates  ExitRates  PageValues  SpecialDay Month  OperatingSystems  \\\n",
              "0         0.20       0.20         0.0         0.0   Feb                 1   \n",
              "1         0.00       0.10         0.0         0.0   Feb                 2   \n",
              "2         0.20       0.20         0.0         0.0   Feb                 4   \n",
              "3         0.05       0.14         0.0         0.0   Feb                 3   \n",
              "4         0.02       0.05         0.0         0.0   Feb                 3   \n",
              "\n",
              "   Browser  Region  TrafficType        VisitorType  Weekend  Revenue  \n",
              "0        1       1            1  Returning_Visitor        0        0  \n",
              "1        2       1            2  Returning_Visitor        0        0  \n",
              "2        1       9            3  Returning_Visitor        0        0  \n",
              "3        2       2            4  Returning_Visitor        0        0  \n",
              "4        3       1            4  Returning_Visitor        1        0  "
            ],
            "text/html": [
              "\n",
              "  <div id=\"df-440fc029-da63-40a9-846e-2a29057f5624\">\n",
              "    <div class=\"colab-df-container\">\n",
              "      <div>\n",
              "<style scoped>\n",
              "    .dataframe tbody tr th:only-of-type {\n",
              "        vertical-align: middle;\n",
              "    }\n",
              "\n",
              "    .dataframe tbody tr th {\n",
              "        vertical-align: top;\n",
              "    }\n",
              "\n",
              "    .dataframe thead th {\n",
              "        text-align: right;\n",
              "    }\n",
              "</style>\n",
              "<table border=\"1\" class=\"dataframe\">\n",
              "  <thead>\n",
              "    <tr style=\"text-align: right;\">\n",
              "      <th></th>\n",
              "      <th>Administrative</th>\n",
              "      <th>Administrative_Duration</th>\n",
              "      <th>Informational</th>\n",
              "      <th>Informational_Duration</th>\n",
              "      <th>ProductRelated</th>\n",
              "      <th>ProductRelated_Duration</th>\n",
              "      <th>BounceRates</th>\n",
              "      <th>ExitRates</th>\n",
              "      <th>PageValues</th>\n",
              "      <th>SpecialDay</th>\n",
              "      <th>Month</th>\n",
              "      <th>OperatingSystems</th>\n",
              "      <th>Browser</th>\n",
              "      <th>Region</th>\n",
              "      <th>TrafficType</th>\n",
              "      <th>VisitorType</th>\n",
              "      <th>Weekend</th>\n",
              "      <th>Revenue</th>\n",
              "    </tr>\n",
              "  </thead>\n",
              "  <tbody>\n",
              "    <tr>\n",
              "      <th>0</th>\n",
              "      <td>0</td>\n",
              "      <td>0.0</td>\n",
              "      <td>0</td>\n",
              "      <td>0.0</td>\n",
              "      <td>1</td>\n",
              "      <td>0.000000</td>\n",
              "      <td>0.20</td>\n",
              "      <td>0.20</td>\n",
              "      <td>0.0</td>\n",
              "      <td>0.0</td>\n",
              "      <td>Feb</td>\n",
              "      <td>1</td>\n",
              "      <td>1</td>\n",
              "      <td>1</td>\n",
              "      <td>1</td>\n",
              "      <td>Returning_Visitor</td>\n",
              "      <td>0</td>\n",
              "      <td>0</td>\n",
              "    </tr>\n",
              "    <tr>\n",
              "      <th>1</th>\n",
              "      <td>0</td>\n",
              "      <td>0.0</td>\n",
              "      <td>0</td>\n",
              "      <td>0.0</td>\n",
              "      <td>2</td>\n",
              "      <td>64.000000</td>\n",
              "      <td>0.00</td>\n",
              "      <td>0.10</td>\n",
              "      <td>0.0</td>\n",
              "      <td>0.0</td>\n",
              "      <td>Feb</td>\n",
              "      <td>2</td>\n",
              "      <td>2</td>\n",
              "      <td>1</td>\n",
              "      <td>2</td>\n",
              "      <td>Returning_Visitor</td>\n",
              "      <td>0</td>\n",
              "      <td>0</td>\n",
              "    </tr>\n",
              "    <tr>\n",
              "      <th>2</th>\n",
              "      <td>0</td>\n",
              "      <td>0.0</td>\n",
              "      <td>0</td>\n",
              "      <td>0.0</td>\n",
              "      <td>1</td>\n",
              "      <td>0.000000</td>\n",
              "      <td>0.20</td>\n",
              "      <td>0.20</td>\n",
              "      <td>0.0</td>\n",
              "      <td>0.0</td>\n",
              "      <td>Feb</td>\n",
              "      <td>4</td>\n",
              "      <td>1</td>\n",
              "      <td>9</td>\n",
              "      <td>3</td>\n",
              "      <td>Returning_Visitor</td>\n",
              "      <td>0</td>\n",
              "      <td>0</td>\n",
              "    </tr>\n",
              "    <tr>\n",
              "      <th>3</th>\n",
              "      <td>0</td>\n",
              "      <td>0.0</td>\n",
              "      <td>0</td>\n",
              "      <td>0.0</td>\n",
              "      <td>2</td>\n",
              "      <td>2.666667</td>\n",
              "      <td>0.05</td>\n",
              "      <td>0.14</td>\n",
              "      <td>0.0</td>\n",
              "      <td>0.0</td>\n",
              "      <td>Feb</td>\n",
              "      <td>3</td>\n",
              "      <td>2</td>\n",
              "      <td>2</td>\n",
              "      <td>4</td>\n",
              "      <td>Returning_Visitor</td>\n",
              "      <td>0</td>\n",
              "      <td>0</td>\n",
              "    </tr>\n",
              "    <tr>\n",
              "      <th>4</th>\n",
              "      <td>0</td>\n",
              "      <td>0.0</td>\n",
              "      <td>0</td>\n",
              "      <td>0.0</td>\n",
              "      <td>10</td>\n",
              "      <td>627.500000</td>\n",
              "      <td>0.02</td>\n",
              "      <td>0.05</td>\n",
              "      <td>0.0</td>\n",
              "      <td>0.0</td>\n",
              "      <td>Feb</td>\n",
              "      <td>3</td>\n",
              "      <td>3</td>\n",
              "      <td>1</td>\n",
              "      <td>4</td>\n",
              "      <td>Returning_Visitor</td>\n",
              "      <td>1</td>\n",
              "      <td>0</td>\n",
              "    </tr>\n",
              "  </tbody>\n",
              "</table>\n",
              "</div>\n",
              "      <button class=\"colab-df-convert\" onclick=\"convertToInteractive('df-440fc029-da63-40a9-846e-2a29057f5624')\"\n",
              "              title=\"Convert this dataframe to an interactive table.\"\n",
              "              style=\"display:none;\">\n",
              "        \n",
              "  <svg xmlns=\"http://www.w3.org/2000/svg\" height=\"24px\"viewBox=\"0 0 24 24\"\n",
              "       width=\"24px\">\n",
              "    <path d=\"M0 0h24v24H0V0z\" fill=\"none\"/>\n",
              "    <path d=\"M18.56 5.44l.94 2.06.94-2.06 2.06-.94-2.06-.94-.94-2.06-.94 2.06-2.06.94zm-11 1L8.5 8.5l.94-2.06 2.06-.94-2.06-.94L8.5 2.5l-.94 2.06-2.06.94zm10 10l.94 2.06.94-2.06 2.06-.94-2.06-.94-.94-2.06-.94 2.06-2.06.94z\"/><path d=\"M17.41 7.96l-1.37-1.37c-.4-.4-.92-.59-1.43-.59-.52 0-1.04.2-1.43.59L10.3 9.45l-7.72 7.72c-.78.78-.78 2.05 0 2.83L4 21.41c.39.39.9.59 1.41.59.51 0 1.02-.2 1.41-.59l7.78-7.78 2.81-2.81c.8-.78.8-2.07 0-2.86zM5.41 20L4 18.59l7.72-7.72 1.47 1.35L5.41 20z\"/>\n",
              "  </svg>\n",
              "      </button>\n",
              "      \n",
              "  <style>\n",
              "    .colab-df-container {\n",
              "      display:flex;\n",
              "      flex-wrap:wrap;\n",
              "      gap: 12px;\n",
              "    }\n",
              "\n",
              "    .colab-df-convert {\n",
              "      background-color: #E8F0FE;\n",
              "      border: none;\n",
              "      border-radius: 50%;\n",
              "      cursor: pointer;\n",
              "      display: none;\n",
              "      fill: #1967D2;\n",
              "      height: 32px;\n",
              "      padding: 0 0 0 0;\n",
              "      width: 32px;\n",
              "    }\n",
              "\n",
              "    .colab-df-convert:hover {\n",
              "      background-color: #E2EBFA;\n",
              "      box-shadow: 0px 1px 2px rgba(60, 64, 67, 0.3), 0px 1px 3px 1px rgba(60, 64, 67, 0.15);\n",
              "      fill: #174EA6;\n",
              "    }\n",
              "\n",
              "    [theme=dark] .colab-df-convert {\n",
              "      background-color: #3B4455;\n",
              "      fill: #D2E3FC;\n",
              "    }\n",
              "\n",
              "    [theme=dark] .colab-df-convert:hover {\n",
              "      background-color: #434B5C;\n",
              "      box-shadow: 0px 1px 3px 1px rgba(0, 0, 0, 0.15);\n",
              "      filter: drop-shadow(0px 1px 2px rgba(0, 0, 0, 0.3));\n",
              "      fill: #FFFFFF;\n",
              "    }\n",
              "  </style>\n",
              "\n",
              "      <script>\n",
              "        const buttonEl =\n",
              "          document.querySelector('#df-440fc029-da63-40a9-846e-2a29057f5624 button.colab-df-convert');\n",
              "        buttonEl.style.display =\n",
              "          google.colab.kernel.accessAllowed ? 'block' : 'none';\n",
              "\n",
              "        async function convertToInteractive(key) {\n",
              "          const element = document.querySelector('#df-440fc029-da63-40a9-846e-2a29057f5624');\n",
              "          const dataTable =\n",
              "            await google.colab.kernel.invokeFunction('convertToInteractive',\n",
              "                                                     [key], {});\n",
              "          if (!dataTable) return;\n",
              "\n",
              "          const docLinkHtml = 'Like what you see? Visit the ' +\n",
              "            '<a target=\"_blank\" href=https://colab.research.google.com/notebooks/data_table.ipynb>data table notebook</a>'\n",
              "            + ' to learn more about interactive tables.';\n",
              "          element.innerHTML = '';\n",
              "          dataTable['output_type'] = 'display_data';\n",
              "          await google.colab.output.renderOutput(dataTable, element);\n",
              "          const docLink = document.createElement('div');\n",
              "          docLink.innerHTML = docLinkHtml;\n",
              "          element.appendChild(docLink);\n",
              "        }\n",
              "      </script>\n",
              "    </div>\n",
              "  </div>\n",
              "  "
            ]
          },
          "metadata": {},
          "execution_count": 108
        }
      ]
    },
    {
      "cell_type": "markdown",
      "source": [
        "# Análisis exploratorio\n"
      ],
      "metadata": {
        "id": "X-3nPoJBgegA"
      }
    },
    {
      "cell_type": "markdown",
      "source": [
        "Determinar cuantos y cuales atributos aportan valor a las predicciones que se plantean realizar:"
      ],
      "metadata": {
        "id": "SSDM2nyuQTWH"
      }
    },
    {
      "cell_type": "code",
      "source": [
        "raw_data.nunique()"
      ],
      "metadata": {
        "colab": {
          "base_uri": "https://localhost:8080/"
        },
        "id": "paxZ_5YhcvN3",
        "outputId": "d57c24bc-686b-43bd-feb9-d7976b05fcbb"
      },
      "execution_count": null,
      "outputs": [
        {
          "output_type": "execute_result",
          "data": {
            "text/plain": [
              "Administrative               27\n",
              "Administrative_Duration    3335\n",
              "Informational                17\n",
              "Informational_Duration     1258\n",
              "ProductRelated              311\n",
              "ProductRelated_Duration    9551\n",
              "BounceRates                1872\n",
              "ExitRates                  4777\n",
              "PageValues                 2704\n",
              "SpecialDay                    6\n",
              "Month                        10\n",
              "OperatingSystems              8\n",
              "Browser                      13\n",
              "Region                        9\n",
              "TrafficType                  20\n",
              "VisitorType                   3\n",
              "Weekend                       2\n",
              "Revenue                       2\n",
              "dtype: int64"
            ]
          },
          "metadata": {},
          "execution_count": 4
        }
      ]
    },
    {
      "cell_type": "code",
      "source": [
        "raw_data.head()"
      ],
      "metadata": {
        "colab": {
          "base_uri": "https://localhost:8080/",
          "height": 270
        },
        "id": "HJcOqbwPCe08",
        "outputId": "f4c9645a-a116-4c99-9f54-dca368b66a19"
      },
      "execution_count": null,
      "outputs": [
        {
          "output_type": "execute_result",
          "data": {
            "text/plain": [
              "   Administrative  Administrative_Duration  Informational  \\\n",
              "0               0                      0.0              0   \n",
              "1               0                      0.0              0   \n",
              "2               0                      0.0              0   \n",
              "3               0                      0.0              0   \n",
              "4               0                      0.0              0   \n",
              "\n",
              "   Informational_Duration  ProductRelated  ProductRelated_Duration  \\\n",
              "0                     0.0               1                 0.000000   \n",
              "1                     0.0               2                64.000000   \n",
              "2                     0.0               1                 0.000000   \n",
              "3                     0.0               2                 2.666667   \n",
              "4                     0.0              10               627.500000   \n",
              "\n",
              "   BounceRates  ExitRates  PageValues  SpecialDay Month  OperatingSystems  \\\n",
              "0         0.20       0.20         0.0         0.0   Feb                 1   \n",
              "1         0.00       0.10         0.0         0.0   Feb                 2   \n",
              "2         0.20       0.20         0.0         0.0   Feb                 4   \n",
              "3         0.05       0.14         0.0         0.0   Feb                 3   \n",
              "4         0.02       0.05         0.0         0.0   Feb                 3   \n",
              "\n",
              "   Browser  Region  TrafficType        VisitorType  Weekend  Revenue  \n",
              "0        1       1            1  Returning_Visitor        0        0  \n",
              "1        2       1            2  Returning_Visitor        0        0  \n",
              "2        1       9            3  Returning_Visitor        0        0  \n",
              "3        2       2            4  Returning_Visitor        0        0  \n",
              "4        3       1            4  Returning_Visitor        1        0  "
            ],
            "text/html": [
              "\n",
              "  <div id=\"df-f1f0763f-94a8-44fd-9c40-f715fdf7bd06\">\n",
              "    <div class=\"colab-df-container\">\n",
              "      <div>\n",
              "<style scoped>\n",
              "    .dataframe tbody tr th:only-of-type {\n",
              "        vertical-align: middle;\n",
              "    }\n",
              "\n",
              "    .dataframe tbody tr th {\n",
              "        vertical-align: top;\n",
              "    }\n",
              "\n",
              "    .dataframe thead th {\n",
              "        text-align: right;\n",
              "    }\n",
              "</style>\n",
              "<table border=\"1\" class=\"dataframe\">\n",
              "  <thead>\n",
              "    <tr style=\"text-align: right;\">\n",
              "      <th></th>\n",
              "      <th>Administrative</th>\n",
              "      <th>Administrative_Duration</th>\n",
              "      <th>Informational</th>\n",
              "      <th>Informational_Duration</th>\n",
              "      <th>ProductRelated</th>\n",
              "      <th>ProductRelated_Duration</th>\n",
              "      <th>BounceRates</th>\n",
              "      <th>ExitRates</th>\n",
              "      <th>PageValues</th>\n",
              "      <th>SpecialDay</th>\n",
              "      <th>Month</th>\n",
              "      <th>OperatingSystems</th>\n",
              "      <th>Browser</th>\n",
              "      <th>Region</th>\n",
              "      <th>TrafficType</th>\n",
              "      <th>VisitorType</th>\n",
              "      <th>Weekend</th>\n",
              "      <th>Revenue</th>\n",
              "    </tr>\n",
              "  </thead>\n",
              "  <tbody>\n",
              "    <tr>\n",
              "      <th>0</th>\n",
              "      <td>0</td>\n",
              "      <td>0.0</td>\n",
              "      <td>0</td>\n",
              "      <td>0.0</td>\n",
              "      <td>1</td>\n",
              "      <td>0.000000</td>\n",
              "      <td>0.20</td>\n",
              "      <td>0.20</td>\n",
              "      <td>0.0</td>\n",
              "      <td>0.0</td>\n",
              "      <td>Feb</td>\n",
              "      <td>1</td>\n",
              "      <td>1</td>\n",
              "      <td>1</td>\n",
              "      <td>1</td>\n",
              "      <td>Returning_Visitor</td>\n",
              "      <td>0</td>\n",
              "      <td>0</td>\n",
              "    </tr>\n",
              "    <tr>\n",
              "      <th>1</th>\n",
              "      <td>0</td>\n",
              "      <td>0.0</td>\n",
              "      <td>0</td>\n",
              "      <td>0.0</td>\n",
              "      <td>2</td>\n",
              "      <td>64.000000</td>\n",
              "      <td>0.00</td>\n",
              "      <td>0.10</td>\n",
              "      <td>0.0</td>\n",
              "      <td>0.0</td>\n",
              "      <td>Feb</td>\n",
              "      <td>2</td>\n",
              "      <td>2</td>\n",
              "      <td>1</td>\n",
              "      <td>2</td>\n",
              "      <td>Returning_Visitor</td>\n",
              "      <td>0</td>\n",
              "      <td>0</td>\n",
              "    </tr>\n",
              "    <tr>\n",
              "      <th>2</th>\n",
              "      <td>0</td>\n",
              "      <td>0.0</td>\n",
              "      <td>0</td>\n",
              "      <td>0.0</td>\n",
              "      <td>1</td>\n",
              "      <td>0.000000</td>\n",
              "      <td>0.20</td>\n",
              "      <td>0.20</td>\n",
              "      <td>0.0</td>\n",
              "      <td>0.0</td>\n",
              "      <td>Feb</td>\n",
              "      <td>4</td>\n",
              "      <td>1</td>\n",
              "      <td>9</td>\n",
              "      <td>3</td>\n",
              "      <td>Returning_Visitor</td>\n",
              "      <td>0</td>\n",
              "      <td>0</td>\n",
              "    </tr>\n",
              "    <tr>\n",
              "      <th>3</th>\n",
              "      <td>0</td>\n",
              "      <td>0.0</td>\n",
              "      <td>0</td>\n",
              "      <td>0.0</td>\n",
              "      <td>2</td>\n",
              "      <td>2.666667</td>\n",
              "      <td>0.05</td>\n",
              "      <td>0.14</td>\n",
              "      <td>0.0</td>\n",
              "      <td>0.0</td>\n",
              "      <td>Feb</td>\n",
              "      <td>3</td>\n",
              "      <td>2</td>\n",
              "      <td>2</td>\n",
              "      <td>4</td>\n",
              "      <td>Returning_Visitor</td>\n",
              "      <td>0</td>\n",
              "      <td>0</td>\n",
              "    </tr>\n",
              "    <tr>\n",
              "      <th>4</th>\n",
              "      <td>0</td>\n",
              "      <td>0.0</td>\n",
              "      <td>0</td>\n",
              "      <td>0.0</td>\n",
              "      <td>10</td>\n",
              "      <td>627.500000</td>\n",
              "      <td>0.02</td>\n",
              "      <td>0.05</td>\n",
              "      <td>0.0</td>\n",
              "      <td>0.0</td>\n",
              "      <td>Feb</td>\n",
              "      <td>3</td>\n",
              "      <td>3</td>\n",
              "      <td>1</td>\n",
              "      <td>4</td>\n",
              "      <td>Returning_Visitor</td>\n",
              "      <td>1</td>\n",
              "      <td>0</td>\n",
              "    </tr>\n",
              "  </tbody>\n",
              "</table>\n",
              "</div>\n",
              "      <button class=\"colab-df-convert\" onclick=\"convertToInteractive('df-f1f0763f-94a8-44fd-9c40-f715fdf7bd06')\"\n",
              "              title=\"Convert this dataframe to an interactive table.\"\n",
              "              style=\"display:none;\">\n",
              "        \n",
              "  <svg xmlns=\"http://www.w3.org/2000/svg\" height=\"24px\"viewBox=\"0 0 24 24\"\n",
              "       width=\"24px\">\n",
              "    <path d=\"M0 0h24v24H0V0z\" fill=\"none\"/>\n",
              "    <path d=\"M18.56 5.44l.94 2.06.94-2.06 2.06-.94-2.06-.94-.94-2.06-.94 2.06-2.06.94zm-11 1L8.5 8.5l.94-2.06 2.06-.94-2.06-.94L8.5 2.5l-.94 2.06-2.06.94zm10 10l.94 2.06.94-2.06 2.06-.94-2.06-.94-.94-2.06-.94 2.06-2.06.94z\"/><path d=\"M17.41 7.96l-1.37-1.37c-.4-.4-.92-.59-1.43-.59-.52 0-1.04.2-1.43.59L10.3 9.45l-7.72 7.72c-.78.78-.78 2.05 0 2.83L4 21.41c.39.39.9.59 1.41.59.51 0 1.02-.2 1.41-.59l7.78-7.78 2.81-2.81c.8-.78.8-2.07 0-2.86zM5.41 20L4 18.59l7.72-7.72 1.47 1.35L5.41 20z\"/>\n",
              "  </svg>\n",
              "      </button>\n",
              "      \n",
              "  <style>\n",
              "    .colab-df-container {\n",
              "      display:flex;\n",
              "      flex-wrap:wrap;\n",
              "      gap: 12px;\n",
              "    }\n",
              "\n",
              "    .colab-df-convert {\n",
              "      background-color: #E8F0FE;\n",
              "      border: none;\n",
              "      border-radius: 50%;\n",
              "      cursor: pointer;\n",
              "      display: none;\n",
              "      fill: #1967D2;\n",
              "      height: 32px;\n",
              "      padding: 0 0 0 0;\n",
              "      width: 32px;\n",
              "    }\n",
              "\n",
              "    .colab-df-convert:hover {\n",
              "      background-color: #E2EBFA;\n",
              "      box-shadow: 0px 1px 2px rgba(60, 64, 67, 0.3), 0px 1px 3px 1px rgba(60, 64, 67, 0.15);\n",
              "      fill: #174EA6;\n",
              "    }\n",
              "\n",
              "    [theme=dark] .colab-df-convert {\n",
              "      background-color: #3B4455;\n",
              "      fill: #D2E3FC;\n",
              "    }\n",
              "\n",
              "    [theme=dark] .colab-df-convert:hover {\n",
              "      background-color: #434B5C;\n",
              "      box-shadow: 0px 1px 3px 1px rgba(0, 0, 0, 0.15);\n",
              "      filter: drop-shadow(0px 1px 2px rgba(0, 0, 0, 0.3));\n",
              "      fill: #FFFFFF;\n",
              "    }\n",
              "  </style>\n",
              "\n",
              "      <script>\n",
              "        const buttonEl =\n",
              "          document.querySelector('#df-f1f0763f-94a8-44fd-9c40-f715fdf7bd06 button.colab-df-convert');\n",
              "        buttonEl.style.display =\n",
              "          google.colab.kernel.accessAllowed ? 'block' : 'none';\n",
              "\n",
              "        async function convertToInteractive(key) {\n",
              "          const element = document.querySelector('#df-f1f0763f-94a8-44fd-9c40-f715fdf7bd06');\n",
              "          const dataTable =\n",
              "            await google.colab.kernel.invokeFunction('convertToInteractive',\n",
              "                                                     [key], {});\n",
              "          if (!dataTable) return;\n",
              "\n",
              "          const docLinkHtml = 'Like what you see? Visit the ' +\n",
              "            '<a target=\"_blank\" href=https://colab.research.google.com/notebooks/data_table.ipynb>data table notebook</a>'\n",
              "            + ' to learn more about interactive tables.';\n",
              "          element.innerHTML = '';\n",
              "          dataTable['output_type'] = 'display_data';\n",
              "          await google.colab.output.renderOutput(dataTable, element);\n",
              "          const docLink = document.createElement('div');\n",
              "          docLink.innerHTML = docLinkHtml;\n",
              "          element.appendChild(docLink);\n",
              "        }\n",
              "      </script>\n",
              "    </div>\n",
              "  </div>\n",
              "  "
            ]
          },
          "metadata": {},
          "execution_count": 5
        }
      ]
    },
    {
      "cell_type": "code",
      "source": [
        "raw_data.describe()"
      ],
      "metadata": {
        "colab": {
          "base_uri": "https://localhost:8080/",
          "height": 364
        },
        "id": "cZmZnE70OQeG",
        "outputId": "bf97777a-7f3e-46f7-e88d-4ddc50bcac28"
      },
      "execution_count": null,
      "outputs": [
        {
          "output_type": "execute_result",
          "data": {
            "text/plain": [
              "       Administrative  Administrative_Duration  Informational  \\\n",
              "count    12330.000000             12330.000000   12330.000000   \n",
              "mean         2.315166                80.818611       0.503569   \n",
              "std          3.321784               176.779107       1.270156   \n",
              "min          0.000000                 0.000000       0.000000   \n",
              "25%          0.000000                 0.000000       0.000000   \n",
              "50%          1.000000                 7.500000       0.000000   \n",
              "75%          4.000000                93.256250       0.000000   \n",
              "max         27.000000              3398.750000      24.000000   \n",
              "\n",
              "       Informational_Duration  ProductRelated  ProductRelated_Duration  \\\n",
              "count            12330.000000    12330.000000             12330.000000   \n",
              "mean                34.472398       31.731468              1194.746220   \n",
              "std                140.749294       44.475503              1913.669288   \n",
              "min                  0.000000        0.000000                 0.000000   \n",
              "25%                  0.000000        7.000000               184.137500   \n",
              "50%                  0.000000       18.000000               598.936905   \n",
              "75%                  0.000000       38.000000              1464.157214   \n",
              "max               2549.375000      705.000000             63973.522230   \n",
              "\n",
              "        BounceRates     ExitRates    PageValues    SpecialDay  \\\n",
              "count  12330.000000  12330.000000  12330.000000  12330.000000   \n",
              "mean       0.022191      0.043073      5.889258      0.061427   \n",
              "std        0.048488      0.048597     18.568437      0.198917   \n",
              "min        0.000000      0.000000      0.000000      0.000000   \n",
              "25%        0.000000      0.014286      0.000000      0.000000   \n",
              "50%        0.003112      0.025156      0.000000      0.000000   \n",
              "75%        0.016813      0.050000      0.000000      0.000000   \n",
              "max        0.200000      0.200000    361.763742      1.000000   \n",
              "\n",
              "       OperatingSystems       Browser        Region   TrafficType  \\\n",
              "count      12330.000000  12330.000000  12330.000000  12330.000000   \n",
              "mean           2.124006      2.357097      3.147364      4.069586   \n",
              "std            0.911325      1.717277      2.401591      4.025169   \n",
              "min            1.000000      1.000000      1.000000      1.000000   \n",
              "25%            2.000000      2.000000      1.000000      2.000000   \n",
              "50%            2.000000      2.000000      3.000000      2.000000   \n",
              "75%            3.000000      2.000000      4.000000      4.000000   \n",
              "max            8.000000     13.000000      9.000000     20.000000   \n",
              "\n",
              "            Weekend       Revenue  \n",
              "count  12330.000000  12330.000000  \n",
              "mean       0.232603      0.154745  \n",
              "std        0.422509      0.361676  \n",
              "min        0.000000      0.000000  \n",
              "25%        0.000000      0.000000  \n",
              "50%        0.000000      0.000000  \n",
              "75%        0.000000      0.000000  \n",
              "max        1.000000      1.000000  "
            ],
            "text/html": [
              "\n",
              "  <div id=\"df-0c522de3-e851-41d5-a7be-ad50e0e44c65\">\n",
              "    <div class=\"colab-df-container\">\n",
              "      <div>\n",
              "<style scoped>\n",
              "    .dataframe tbody tr th:only-of-type {\n",
              "        vertical-align: middle;\n",
              "    }\n",
              "\n",
              "    .dataframe tbody tr th {\n",
              "        vertical-align: top;\n",
              "    }\n",
              "\n",
              "    .dataframe thead th {\n",
              "        text-align: right;\n",
              "    }\n",
              "</style>\n",
              "<table border=\"1\" class=\"dataframe\">\n",
              "  <thead>\n",
              "    <tr style=\"text-align: right;\">\n",
              "      <th></th>\n",
              "      <th>Administrative</th>\n",
              "      <th>Administrative_Duration</th>\n",
              "      <th>Informational</th>\n",
              "      <th>Informational_Duration</th>\n",
              "      <th>ProductRelated</th>\n",
              "      <th>ProductRelated_Duration</th>\n",
              "      <th>BounceRates</th>\n",
              "      <th>ExitRates</th>\n",
              "      <th>PageValues</th>\n",
              "      <th>SpecialDay</th>\n",
              "      <th>OperatingSystems</th>\n",
              "      <th>Browser</th>\n",
              "      <th>Region</th>\n",
              "      <th>TrafficType</th>\n",
              "      <th>Weekend</th>\n",
              "      <th>Revenue</th>\n",
              "    </tr>\n",
              "  </thead>\n",
              "  <tbody>\n",
              "    <tr>\n",
              "      <th>count</th>\n",
              "      <td>12330.000000</td>\n",
              "      <td>12330.000000</td>\n",
              "      <td>12330.000000</td>\n",
              "      <td>12330.000000</td>\n",
              "      <td>12330.000000</td>\n",
              "      <td>12330.000000</td>\n",
              "      <td>12330.000000</td>\n",
              "      <td>12330.000000</td>\n",
              "      <td>12330.000000</td>\n",
              "      <td>12330.000000</td>\n",
              "      <td>12330.000000</td>\n",
              "      <td>12330.000000</td>\n",
              "      <td>12330.000000</td>\n",
              "      <td>12330.000000</td>\n",
              "      <td>12330.000000</td>\n",
              "      <td>12330.000000</td>\n",
              "    </tr>\n",
              "    <tr>\n",
              "      <th>mean</th>\n",
              "      <td>2.315166</td>\n",
              "      <td>80.818611</td>\n",
              "      <td>0.503569</td>\n",
              "      <td>34.472398</td>\n",
              "      <td>31.731468</td>\n",
              "      <td>1194.746220</td>\n",
              "      <td>0.022191</td>\n",
              "      <td>0.043073</td>\n",
              "      <td>5.889258</td>\n",
              "      <td>0.061427</td>\n",
              "      <td>2.124006</td>\n",
              "      <td>2.357097</td>\n",
              "      <td>3.147364</td>\n",
              "      <td>4.069586</td>\n",
              "      <td>0.232603</td>\n",
              "      <td>0.154745</td>\n",
              "    </tr>\n",
              "    <tr>\n",
              "      <th>std</th>\n",
              "      <td>3.321784</td>\n",
              "      <td>176.779107</td>\n",
              "      <td>1.270156</td>\n",
              "      <td>140.749294</td>\n",
              "      <td>44.475503</td>\n",
              "      <td>1913.669288</td>\n",
              "      <td>0.048488</td>\n",
              "      <td>0.048597</td>\n",
              "      <td>18.568437</td>\n",
              "      <td>0.198917</td>\n",
              "      <td>0.911325</td>\n",
              "      <td>1.717277</td>\n",
              "      <td>2.401591</td>\n",
              "      <td>4.025169</td>\n",
              "      <td>0.422509</td>\n",
              "      <td>0.361676</td>\n",
              "    </tr>\n",
              "    <tr>\n",
              "      <th>min</th>\n",
              "      <td>0.000000</td>\n",
              "      <td>0.000000</td>\n",
              "      <td>0.000000</td>\n",
              "      <td>0.000000</td>\n",
              "      <td>0.000000</td>\n",
              "      <td>0.000000</td>\n",
              "      <td>0.000000</td>\n",
              "      <td>0.000000</td>\n",
              "      <td>0.000000</td>\n",
              "      <td>0.000000</td>\n",
              "      <td>1.000000</td>\n",
              "      <td>1.000000</td>\n",
              "      <td>1.000000</td>\n",
              "      <td>1.000000</td>\n",
              "      <td>0.000000</td>\n",
              "      <td>0.000000</td>\n",
              "    </tr>\n",
              "    <tr>\n",
              "      <th>25%</th>\n",
              "      <td>0.000000</td>\n",
              "      <td>0.000000</td>\n",
              "      <td>0.000000</td>\n",
              "      <td>0.000000</td>\n",
              "      <td>7.000000</td>\n",
              "      <td>184.137500</td>\n",
              "      <td>0.000000</td>\n",
              "      <td>0.014286</td>\n",
              "      <td>0.000000</td>\n",
              "      <td>0.000000</td>\n",
              "      <td>2.000000</td>\n",
              "      <td>2.000000</td>\n",
              "      <td>1.000000</td>\n",
              "      <td>2.000000</td>\n",
              "      <td>0.000000</td>\n",
              "      <td>0.000000</td>\n",
              "    </tr>\n",
              "    <tr>\n",
              "      <th>50%</th>\n",
              "      <td>1.000000</td>\n",
              "      <td>7.500000</td>\n",
              "      <td>0.000000</td>\n",
              "      <td>0.000000</td>\n",
              "      <td>18.000000</td>\n",
              "      <td>598.936905</td>\n",
              "      <td>0.003112</td>\n",
              "      <td>0.025156</td>\n",
              "      <td>0.000000</td>\n",
              "      <td>0.000000</td>\n",
              "      <td>2.000000</td>\n",
              "      <td>2.000000</td>\n",
              "      <td>3.000000</td>\n",
              "      <td>2.000000</td>\n",
              "      <td>0.000000</td>\n",
              "      <td>0.000000</td>\n",
              "    </tr>\n",
              "    <tr>\n",
              "      <th>75%</th>\n",
              "      <td>4.000000</td>\n",
              "      <td>93.256250</td>\n",
              "      <td>0.000000</td>\n",
              "      <td>0.000000</td>\n",
              "      <td>38.000000</td>\n",
              "      <td>1464.157214</td>\n",
              "      <td>0.016813</td>\n",
              "      <td>0.050000</td>\n",
              "      <td>0.000000</td>\n",
              "      <td>0.000000</td>\n",
              "      <td>3.000000</td>\n",
              "      <td>2.000000</td>\n",
              "      <td>4.000000</td>\n",
              "      <td>4.000000</td>\n",
              "      <td>0.000000</td>\n",
              "      <td>0.000000</td>\n",
              "    </tr>\n",
              "    <tr>\n",
              "      <th>max</th>\n",
              "      <td>27.000000</td>\n",
              "      <td>3398.750000</td>\n",
              "      <td>24.000000</td>\n",
              "      <td>2549.375000</td>\n",
              "      <td>705.000000</td>\n",
              "      <td>63973.522230</td>\n",
              "      <td>0.200000</td>\n",
              "      <td>0.200000</td>\n",
              "      <td>361.763742</td>\n",
              "      <td>1.000000</td>\n",
              "      <td>8.000000</td>\n",
              "      <td>13.000000</td>\n",
              "      <td>9.000000</td>\n",
              "      <td>20.000000</td>\n",
              "      <td>1.000000</td>\n",
              "      <td>1.000000</td>\n",
              "    </tr>\n",
              "  </tbody>\n",
              "</table>\n",
              "</div>\n",
              "      <button class=\"colab-df-convert\" onclick=\"convertToInteractive('df-0c522de3-e851-41d5-a7be-ad50e0e44c65')\"\n",
              "              title=\"Convert this dataframe to an interactive table.\"\n",
              "              style=\"display:none;\">\n",
              "        \n",
              "  <svg xmlns=\"http://www.w3.org/2000/svg\" height=\"24px\"viewBox=\"0 0 24 24\"\n",
              "       width=\"24px\">\n",
              "    <path d=\"M0 0h24v24H0V0z\" fill=\"none\"/>\n",
              "    <path d=\"M18.56 5.44l.94 2.06.94-2.06 2.06-.94-2.06-.94-.94-2.06-.94 2.06-2.06.94zm-11 1L8.5 8.5l.94-2.06 2.06-.94-2.06-.94L8.5 2.5l-.94 2.06-2.06.94zm10 10l.94 2.06.94-2.06 2.06-.94-2.06-.94-.94-2.06-.94 2.06-2.06.94z\"/><path d=\"M17.41 7.96l-1.37-1.37c-.4-.4-.92-.59-1.43-.59-.52 0-1.04.2-1.43.59L10.3 9.45l-7.72 7.72c-.78.78-.78 2.05 0 2.83L4 21.41c.39.39.9.59 1.41.59.51 0 1.02-.2 1.41-.59l7.78-7.78 2.81-2.81c.8-.78.8-2.07 0-2.86zM5.41 20L4 18.59l7.72-7.72 1.47 1.35L5.41 20z\"/>\n",
              "  </svg>\n",
              "      </button>\n",
              "      \n",
              "  <style>\n",
              "    .colab-df-container {\n",
              "      display:flex;\n",
              "      flex-wrap:wrap;\n",
              "      gap: 12px;\n",
              "    }\n",
              "\n",
              "    .colab-df-convert {\n",
              "      background-color: #E8F0FE;\n",
              "      border: none;\n",
              "      border-radius: 50%;\n",
              "      cursor: pointer;\n",
              "      display: none;\n",
              "      fill: #1967D2;\n",
              "      height: 32px;\n",
              "      padding: 0 0 0 0;\n",
              "      width: 32px;\n",
              "    }\n",
              "\n",
              "    .colab-df-convert:hover {\n",
              "      background-color: #E2EBFA;\n",
              "      box-shadow: 0px 1px 2px rgba(60, 64, 67, 0.3), 0px 1px 3px 1px rgba(60, 64, 67, 0.15);\n",
              "      fill: #174EA6;\n",
              "    }\n",
              "\n",
              "    [theme=dark] .colab-df-convert {\n",
              "      background-color: #3B4455;\n",
              "      fill: #D2E3FC;\n",
              "    }\n",
              "\n",
              "    [theme=dark] .colab-df-convert:hover {\n",
              "      background-color: #434B5C;\n",
              "      box-shadow: 0px 1px 3px 1px rgba(0, 0, 0, 0.15);\n",
              "      filter: drop-shadow(0px 1px 2px rgba(0, 0, 0, 0.3));\n",
              "      fill: #FFFFFF;\n",
              "    }\n",
              "  </style>\n",
              "\n",
              "      <script>\n",
              "        const buttonEl =\n",
              "          document.querySelector('#df-0c522de3-e851-41d5-a7be-ad50e0e44c65 button.colab-df-convert');\n",
              "        buttonEl.style.display =\n",
              "          google.colab.kernel.accessAllowed ? 'block' : 'none';\n",
              "\n",
              "        async function convertToInteractive(key) {\n",
              "          const element = document.querySelector('#df-0c522de3-e851-41d5-a7be-ad50e0e44c65');\n",
              "          const dataTable =\n",
              "            await google.colab.kernel.invokeFunction('convertToInteractive',\n",
              "                                                     [key], {});\n",
              "          if (!dataTable) return;\n",
              "\n",
              "          const docLinkHtml = 'Like what you see? Visit the ' +\n",
              "            '<a target=\"_blank\" href=https://colab.research.google.com/notebooks/data_table.ipynb>data table notebook</a>'\n",
              "            + ' to learn more about interactive tables.';\n",
              "          element.innerHTML = '';\n",
              "          dataTable['output_type'] = 'display_data';\n",
              "          await google.colab.output.renderOutput(dataTable, element);\n",
              "          const docLink = document.createElement('div');\n",
              "          docLink.innerHTML = docLinkHtml;\n",
              "          element.appendChild(docLink);\n",
              "        }\n",
              "      </script>\n",
              "    </div>\n",
              "  </div>\n",
              "  "
            ]
          },
          "metadata": {},
          "execution_count": 6
        }
      ]
    },
    {
      "cell_type": "code",
      "source": [
        "raw_data.groupby(raw_data.Revenue).hist(bins=20, alpha=0.5, figsize=(16,16))"
      ],
      "metadata": {
        "colab": {
          "base_uri": "https://localhost:8080/",
          "height": 1000
        },
        "id": "N9XgtOf7iJ7D",
        "outputId": "7a738dac-035e-43f6-e19f-4e1b2a8cce54"
      },
      "execution_count": null,
      "outputs": [
        {
          "output_type": "execute_result",
          "data": {
            "text/plain": [
              "Revenue\n",
              "0    [[AxesSubplot(0.125,0.725918;0.158163x0.154082...\n",
              "1    [[AxesSubplot(0.125,0.725918;0.158163x0.154082...\n",
              "dtype: object"
            ]
          },
          "metadata": {},
          "execution_count": 7
        },
        {
          "output_type": "display_data",
          "data": {
            "text/plain": [
              "<Figure size 1152x1152 with 16 Axes>"
            ],
            "image/png": "[encoded data removed]"
          },
          "metadata": {
            "needs_background": "light"
          }
        },
        {
          "output_type": "display_data",
          "data": {
            "text/plain": [
              "<Figure size 1152x1152 with 16 Axes>"
            ],
            "image/png": "[encoded data removed]"
          },
          "metadata": {
            "needs_background": "light"
          }
        }
      ]
    },
    {
      "cell_type": "markdown",
      "source": [
        "#### Correlación entre atributos"
      ],
      "metadata": {
        "id": "wvigvU8KdCoW"
      }
    },
    {
      "cell_type": "code",
      "source": [
        "fig, ax = plt.subplots(figsize=(15,15)) \n",
        "matrix = raw_data.corr().round(2)\n",
        "sns.heatmap(matrix, annot=True, ax=ax, cmap=\"YlGnBu\")\n",
        "plt.show()"
      ],
      "metadata": {
        "colab": {
          "base_uri": "https://localhost:8080/",
          "height": 982
        },
        "id": "3AaZjd2ejSAv",
        "outputId": "2bb52042-d97b-46d4-f8c9-1266d749d4e8"
      },
      "execution_count": null,
      "outputs": [
        {
          "output_type": "display_data",
          "data": {
            "text/plain": [
              "<Figure size 1080x1080 with 2 Axes>"
            ],
            "image/png": "[encoded data removed]"
          },
          "metadata": {
            "needs_background": "light"
          }
        }
      ]
    },
    {
      "cell_type": "code",
      "source": [
        "raw_data.dtypes"
      ],
      "metadata": {
        "colab": {
          "base_uri": "https://localhost:8080/"
        },
        "id": "nDixIJvJdj1O",
        "outputId": "539d8161-df8e-42af-b90a-8ef7ef4051d0"
      },
      "execution_count": null,
      "outputs": [
        {
          "output_type": "execute_result",
          "data": {
            "text/plain": [
              "Administrative               int64\n",
              "Administrative_Duration    float64\n",
              "Informational                int64\n",
              "Informational_Duration     float64\n",
              "ProductRelated               int64\n",
              "ProductRelated_Duration    float64\n",
              "BounceRates                float64\n",
              "ExitRates                  float64\n",
              "PageValues                 float64\n",
              "SpecialDay                 float64\n",
              "Month                       object\n",
              "OperatingSystems             int64\n",
              "Browser                      int64\n",
              "Region                       int64\n",
              "TrafficType                  int64\n",
              "VisitorType                 object\n",
              "Weekend                      int64\n",
              "Revenue                      int64\n",
              "dtype: object"
            ]
          },
          "metadata": {},
          "execution_count": 9
        }
      ]
    },
    {
      "cell_type": "markdown",
      "source": [
        "#Transformación de datos"
      ],
      "metadata": {
        "id": "p3SZgp3UlM7b"
      }
    },
    {
      "cell_type": "markdown",
      "source": [
        "En este caso fue necesario realizar  una transofrmación de la variable Month en la cual se pasó de los datos de tipo categórico (String) a numéricos para representar los distintos meses. "
      ],
      "metadata": {
        "id": "cCfTRH4SeD7F"
      }
    },
    {
      "cell_type": "code",
      "source": [
        "from sklearn.preprocessing import LabelEncoder \n",
        "le = LabelEncoder()\n",
        "raw_data['Month'] = le.fit_transform(raw_data['Month'])"
      ],
      "metadata": {
        "id": "-IBRRHpzfiHY"
      },
      "execution_count": null,
      "outputs": []
    },
    {
      "cell_type": "markdown",
      "source": [
        "La segunda transformación que se realizó fue descartar la variable Visitor_Type ya que no aportaba al análisis."
      ],
      "metadata": {
        "id": "tX117ggOgcf2"
      }
    },
    {
      "cell_type": "code",
      "source": [
        "raw_data = raw_data.drop([\"VisitorType\"], axis=1)"
      ],
      "metadata": {
        "id": "PcelBIWk2EhR"
      },
      "execution_count": null,
      "outputs": []
    },
    {
      "cell_type": "markdown",
      "source": [
        "# Metodos para perturbar el dataset de compras"
      ],
      "metadata": {
        "id": "4khObacW7jtx"
      }
    },
    {
      "cell_type": "markdown",
      "source": [
        "Función: metodo que permite realizar la perturbación en el conjunto de datos indicado. \n",
        "Parametros:\n",
        "- alfa: valor constante.\n",
        "- columna_a_perturbar: atributo que será modificado.\n",
        "- cant_datos_perturbar: indica el número de observaciones que serán modificadas.\n",
        "- x_test_a_modificar: subconjunto de datos a modificar."
      ],
      "metadata": {
        "id": "VhqsP7LbdQX8"
      }
    },
    {
      "cell_type": "code",
      "source": [
        "import random\n",
        "from numpy.ma.core import std\n",
        "def crear_perturbacion(alfa, columna_a_perturbar, cant_datos_pertubar, x_test_a_modificar):\n",
        "  for i in range(cant_datos_pertubar):\n",
        "    desviacion_estandar = x_test_a_modificar[columna_a_perturbar].std()\n",
        "    cambio = alfa * desviacion_estandar\n",
        "    indice = random.randint(0,cant_datos_pertubar)\n",
        "    valor_inicial = x_test_a_modificar[columna_a_perturbar][indice]\n",
        "  \n",
        "    if(i % 2 == 0):\n",
        "      valor_modificado = valor_inicial + cambio\n",
        "    else:\n",
        "      valor_modificado = valor_inicial - cambio \n",
        "    x_test_a_modificar.at[indice, columna_a_perturbar]= valor_modificado\n",
        "    x_test_nuevo = x_test_a_modificar\n",
        "\n",
        "  return x_test_nuevo"
      ],
      "metadata": {
        "id": "TwnDKc2I7pY3"
      },
      "execution_count": null,
      "outputs": []
    },
    {
      "cell_type": "markdown",
      "source": [
        "### Seleccionar columnas\n",
        "Método encargado de seleccionar columnas  candidatas a ser perturbadas de forma aleatoria de acuerdo a la cantidad de columnas que se le pasen por parámetro. Retorna una lista con los nombres de las columnas y no posee reemplazo, es decir, una vez que se elige una columna no puede ser elegida nuevamente en el mismo llamado del método."
      ],
      "metadata": {
        "id": "nWFfNT5lkNQ_"
      }
    },
    {
      "cell_type": "code",
      "source": [
        "def seleccionar_columnas(cant_columnas):\n",
        "  columnas_a_perturbar = [\"Administrative_Duration\",\"Informational\",\"Informational_Duration\",\"ProductRelated\",\"ProductRelated_Duration\",\"BounceRates\",\"PageValues\",\"ExitRates\"]\n",
        "  columnas = random.sample(columnas_a_perturbar, cant_columnas)\n",
        "  return columnas"
      ],
      "metadata": {
        "id": "28PfPBEB7s4n"
      },
      "execution_count": null,
      "outputs": []
    },
    {
      "cell_type": "code",
      "source": [
        "def perturbar_columnas(cant_columnas, alfa, cant_datos_pertubar, x_test_a_modificar):\n",
        "  columnas_a_perturbar = seleccionar_columnas(cant_columnas)\n",
        "  for i in range(cant_columnas):\n",
        "    print (columnas_a_perturbar[i])\n",
        "    x_test_nuevo = crear_perturbacion(alfa, columnas_a_perturbar[i], cant_datos_pertubar, x_test_a_modificar)\n",
        "  print(\"------------------------------------------------\")\n",
        "  return x_test_nuevo"
      ],
      "metadata": {
        "id": "Rj81AKTg7vIu"
      },
      "execution_count": null,
      "outputs": []
    },
    {
      "cell_type": "markdown",
      "source": [
        "### Variables a utilizar\n",
        "\n",
        "- **a**: un alfa que indica cuanto, con respecto a la desviación estandar se va a modificar el valor respectivo.\n",
        "\n",
        "- **cant_datos_pertubar**: corresponde a la cantidad de observaciones que se van a alterar en el conjunto de prueba. "
      ],
      "metadata": {
        "id": "gYQi7WBAVJwZ"
      }
    },
    {
      "cell_type": "code",
      "source": [
        "a=0.5 \n",
        "cant_datos_pertubar=1849 \n",
        "precisiones_RF = []\n",
        "precisiones_XGB = []\n",
        "recalls_RF = []\n",
        "recalls_XGB = []\n",
        "supports_RF = []\n",
        "supports_XGB = []"
      ],
      "metadata": {
        "id": "AJIdtFoNVM_X"
      },
      "execution_count": null,
      "outputs": []
    },
    {
      "cell_type": "markdown",
      "source": [
        "Se indican los atributos que se utilizaran para predecir la variable objetivo, en este caso corresponde a \"Revenue\"."
      ],
      "metadata": {
        "id": "MXkFHYwKd9cN"
      }
    },
    {
      "cell_type": "code",
      "source": [
        "X = raw_data.loc[:,[\"BounceRates\",\"Administrative_Duration\",\"Informational\",\"Informational_Duration\",\"ProductRelated\",\"ProductRelated_Duration\",\"ExitRates\",\"SpecialDay\",\"Month\",\"Weekend\",\"PageValues\",\"TrafficType\"]]\n",
        "y = raw_data.loc[:,\"Revenue\"]"
      ],
      "metadata": {
        "id": "Jz3KwcMbdKzn"
      },
      "execution_count": null,
      "outputs": []
    },
    {
      "cell_type": "markdown",
      "source": [
        "### Particionamiento del *dataset* en conjuntos de entrenamiento y evaluación"
      ],
      "metadata": {
        "id": "tMbVLKzrN2fN"
      }
    },
    {
      "cell_type": "markdown",
      "source": [
        "Se definen los 5 splits con los cuales se van a realizar los experimentos."
      ],
      "metadata": {
        "id": "FBtZw7aO6llz"
      }
    },
    {
      "cell_type": "code",
      "source": [
        "X_train, X_test, y_train, y_test = train_test_split(X, y, test_size=0.3)\n",
        "X_train1, X_test1, y_train1, y_test1 = train_test_split(X, y, test_size=0.3)\n",
        "X_train2, X_test2, y_train2, y_test2 = train_test_split(X, y, test_size=0.3)\n",
        "X_train3, X_test3, y_train3, y_test3 = train_test_split(X, y, test_size=0.3)\n",
        "X_train4, X_test4, y_train4, y_test4 = train_test_split(X, y, test_size=0.3)\n",
        "X_train5, X_test5, y_train5, y_test5 = train_test_split(X, y, test_size=0.3)"
      ],
      "metadata": {
        "id": "82ys6GguyrdY"
      },
      "execution_count": null,
      "outputs": []
    },
    {
      "cell_type": "markdown",
      "source": [
        "Se crea el metodo para resetear los indices de las observaciones elegidas para test."
      ],
      "metadata": {
        "id": "HGl_KhgUDy3t"
      }
    },
    {
      "cell_type": "code",
      "source": [
        "def reset_index_for_split(X_test_p,y_test_p):\n",
        "  X_test_p = X_test_p.reset_index(drop=True)\n",
        "  y_test_p = y_test_p.reset_index(drop=True)\n",
        "  return X_test_p,y_test_p"
      ],
      "metadata": {
        "id": "X9zEhd__9hIv"
      },
      "execution_count": null,
      "outputs": []
    },
    {
      "cell_type": "markdown",
      "source": [
        "Se resetean los índices para los tres distintos splits de test a perturbar."
      ],
      "metadata": {
        "id": "uh0oV9KmD9MU"
      }
    },
    {
      "cell_type": "code",
      "source": [
        "X_test1,y_test1 = reset_index_for_split(X_test1,y_test1)\n",
        "X_test2,y_test2 = reset_index_for_split(X_test2,y_test2)\n",
        "X_test3,y_test3 = reset_index_for_split(X_test3,y_test3)\n",
        "X_test4,y_test4 = reset_index_for_split(X_test4,y_test4)\n",
        "X_test5,y_test5 = reset_index_for_split(X_test5,y_test5)"
      ],
      "metadata": {
        "id": "HlEsA4EkC9Sy"
      },
      "execution_count": null,
      "outputs": []
    },
    {
      "cell_type": "markdown",
      "source": [
        "#Random Forest\n",
        "\n",
        "Se elaboró el método llamado calcule_metricas_random_forest el cual recibe como parámetros el conjunto de datos que se utilizará para entrenar el modelo y el que se utilizará para evaluarlo. \n",
        "En dicho método primero se define el modelo a utilizar, en este caso el algoritmo de bosque aleatorio para problemas de clasificación. Los hiperparámetros elegidos corresponden a los establecidos por defecto, los cuales corresponden a:\n",
        "- max_samples: none\n",
        "- max_features: raíz cuadrada del número de características de entrada. \n",
        "- n_estimators: 100\n",
        "- max_depth: none\n",
        "\n",
        "Seguidamente se ajusta el modelo con el conjunto de datos de entrenamiento y se realizan las predicciones del modelo utilizando el conjunto de datos de prueba. Por último se calculan las métricas de precisión, recall y el support obtenido.  "
      ],
      "metadata": {
        "id": "lcf_JJPzmBhj"
      }
    },
    {
      "cell_type": "code",
      "source": [
        "def calcule_metricas_random_forest(X_train_p,X_test_p, y_train_p, y_test_p):\n",
        "  model = RandomForestClassifier()\n",
        "  model.fit(X_train_p,y_train_p)\n",
        "  y_pred = model.predict(X_test_p)\n",
        "  precision, recall, fscore, support = score(y_test_p, y_pred)\n",
        "  precision = precision[1]\n",
        "  recall = recall[1]\n",
        "  support = support[1]\n",
        "  print(\"-----------------------------------------------------\")\n",
        "  print(\"Resultados\")\n",
        "  print('Precision 1: %.3f' %precision)\n",
        "  print('Recall: %.3f' % recall)\n",
        "  print('Support: %.0f' % support)\n",
        "  print(\"-----------------------------------------------------\")\n",
        "    \n",
        "  return precision, recall, support"
      ],
      "metadata": {
        "id": "7deEVjqqYaiI"
      },
      "execution_count": null,
      "outputs": []
    },
    {
      "cell_type": "markdown",
      "source": [
        "## Experimento 0: Sin perturbación"
      ],
      "metadata": {
        "id": "M9z5RgtbWhWZ"
      }
    },
    {
      "cell_type": "markdown",
      "source": [
        "Se calculan cada una de las metricas para los cinco *splits* indicados anteriormente."
      ],
      "metadata": {
        "id": "gbTjJooTOHuP"
      }
    },
    {
      "cell_type": "code",
      "source": [
        "precision1, recall1, support1 = calcule_metricas_random_forest(X_train1,X_test1, y_train1, y_test1)\n",
        "precision2, recall2, support2 = calcule_metricas_random_forest(X_train2,X_test2, y_train2, y_test2)\n",
        "precision3, recall3, support3 = calcule_metricas_random_forest(X_train3,X_test3, y_train3, y_test3)\n",
        "precision4, recall4, support4 = calcule_metricas_random_forest(X_train4,X_test4, y_train4, y_test4)\n",
        "precision5, recall5, support5 = calcule_metricas_random_forest(X_train5,X_test5, y_train5, y_test5)"
      ],
      "metadata": {
        "colab": {
          "base_uri": "https://localhost:8080/"
        },
        "id": "j3OZtoQPWnjw",
        "outputId": "53cdf21e-8834-403d-8b89-c31ff15fb71d"
      },
      "execution_count": null,
      "outputs": [
        {
          "output_type": "stream",
          "name": "stdout",
          "text": [
            "-----------------------------------------------------\n",
            "Resultados\n",
            "Precision 1: 0.717\n",
            "Recall: 0.610\n",
            "Support: 557\n",
            "-----------------------------------------------------\n",
            "-----------------------------------------------------\n",
            "Resultados\n",
            "Precision 1: 0.762\n",
            "Recall: 0.579\n",
            "Support: 568\n",
            "-----------------------------------------------------\n",
            "-----------------------------------------------------\n",
            "Resultados\n",
            "Precision 1: 0.762\n",
            "Recall: 0.548\n",
            "Support: 597\n",
            "-----------------------------------------------------\n",
            "-----------------------------------------------------\n",
            "Resultados\n",
            "Precision 1: 0.716\n",
            "Recall: 0.572\n",
            "Support: 530\n",
            "-----------------------------------------------------\n",
            "-----------------------------------------------------\n",
            "Resultados\n",
            "Precision 1: 0.722\n",
            "Recall: 0.594\n",
            "Support: 564\n",
            "-----------------------------------------------------\n"
          ]
        }
      ]
    },
    {
      "cell_type": "markdown",
      "source": [
        "Se calcula el promedio de los resultados anteriores, de tal manera que se simule el comportamiento del algoritmo de *cross score validation*."
      ],
      "metadata": {
        "id": "akuY8VfnOj4v"
      }
    },
    {
      "cell_type": "code",
      "source": [
        "precision_RF = mean([precision1,precision2,precision3,precision4,precision5])\n",
        "recall_RF = mean([recall1,recall2,recall3,recall4,recall5])\n",
        "support_RF = mean([support1,support2,support3,support4,support5])\n",
        "precisiones_RF.append(precision_RF)\n",
        "recalls_RF.append(recall_RF)\n",
        "supports_RF.append(support_RF)\n",
        "print(precision_RF)\n",
        "print(recall_RF)\n",
        "print(support_RF)"
      ],
      "metadata": {
        "colab": {
          "base_uri": "https://localhost:8080/"
        },
        "id": "OGVTPzA1-hso",
        "outputId": "caa9d59f-c411-4b25-adf9-58a558283dbe"
      },
      "execution_count": null,
      "outputs": [
        {
          "output_type": "stream",
          "name": "stdout",
          "text": [
            "0.7358812459458373\n",
            "0.5806093432769232\n",
            "563.2\n"
          ]
        }
      ]
    },
    {
      "cell_type": "code",
      "source": [
        "data = [{'RF': precisiones_RF[0]}, {'RF': recalls_RF[0]}]\n",
        "df = pd.DataFrame(data, index=['Precision', 'Recall'])\n",
        "df"
      ],
      "metadata": {
        "colab": {
          "base_uri": "https://localhost:8080/",
          "height": 112
        },
        "id": "v0pnmpLYRfaO",
        "outputId": "a93b3301-7bea-493d-b9f7-f4a9fa390ea9"
      },
      "execution_count": null,
      "outputs": [
        {
          "output_type": "execute_result",
          "data": {
            "text/plain": [
              "                 RF\n",
              "Precision  0.735881\n",
              "Recall     0.580609"
            ],
            "text/html": [
              "\n",
              "  <div id=\"df-508aa9f0-5577-4140-a347-e0b03e740bd2\">\n",
              "    <div class=\"colab-df-container\">\n",
              "      <div>\n",
              "<style scoped>\n",
              "    .dataframe tbody tr th:only-of-type {\n",
              "        vertical-align: middle;\n",
              "    }\n",
              "\n",
              "    .dataframe tbody tr th {\n",
              "        vertical-align: top;\n",
              "    }\n",
              "\n",
              "    .dataframe thead th {\n",
              "        text-align: right;\n",
              "    }\n",
              "</style>\n",
              "<table border=\"1\" class=\"dataframe\">\n",
              "  <thead>\n",
              "    <tr style=\"text-align: right;\">\n",
              "      <th></th>\n",
              "      <th>RF</th>\n",
              "    </tr>\n",
              "  </thead>\n",
              "  <tbody>\n",
              "    <tr>\n",
              "      <th>Precision</th>\n",
              "      <td>0.735881</td>\n",
              "    </tr>\n",
              "    <tr>\n",
              "      <th>Recall</th>\n",
              "      <td>0.580609</td>\n",
              "    </tr>\n",
              "  </tbody>\n",
              "</table>\n",
              "</div>\n",
              "      <button class=\"colab-df-convert\" onclick=\"convertToInteractive('df-508aa9f0-5577-4140-a347-e0b03e740bd2')\"\n",
              "              title=\"Convert this dataframe to an interactive table.\"\n",
              "              style=\"display:none;\">\n",
              "        \n",
              "  <svg xmlns=\"http://www.w3.org/2000/svg\" height=\"24px\"viewBox=\"0 0 24 24\"\n",
              "       width=\"24px\">\n",
              "    <path d=\"M0 0h24v24H0V0z\" fill=\"none\"/>\n",
              "    <path d=\"M18.56 5.44l.94 2.06.94-2.06 2.06-.94-2.06-.94-.94-2.06-.94 2.06-2.06.94zm-11 1L8.5 8.5l.94-2.06 2.06-.94-2.06-.94L8.5 2.5l-.94 2.06-2.06.94zm10 10l.94 2.06.94-2.06 2.06-.94-2.06-.94-.94-2.06-.94 2.06-2.06.94z\"/><path d=\"M17.41 7.96l-1.37-1.37c-.4-.4-.92-.59-1.43-.59-.52 0-1.04.2-1.43.59L10.3 9.45l-7.72 7.72c-.78.78-.78 2.05 0 2.83L4 21.41c.39.39.9.59 1.41.59.51 0 1.02-.2 1.41-.59l7.78-7.78 2.81-2.81c.8-.78.8-2.07 0-2.86zM5.41 20L4 18.59l7.72-7.72 1.47 1.35L5.41 20z\"/>\n",
              "  </svg>\n",
              "      </button>\n",
              "      \n",
              "  <style>\n",
              "    .colab-df-container {\n",
              "      display:flex;\n",
              "      flex-wrap:wrap;\n",
              "      gap: 12px;\n",
              "    }\n",
              "\n",
              "    .colab-df-convert {\n",
              "      background-color: #E8F0FE;\n",
              "      border: none;\n",
              "      border-radius: 50%;\n",
              "      cursor: pointer;\n",
              "      display: none;\n",
              "      fill: #1967D2;\n",
              "      height: 32px;\n",
              "      padding: 0 0 0 0;\n",
              "      width: 32px;\n",
              "    }\n",
              "\n",
              "    .colab-df-convert:hover {\n",
              "      background-color: #E2EBFA;\n",
              "      box-shadow: 0px 1px 2px rgba(60, 64, 67, 0.3), 0px 1px 3px 1px rgba(60, 64, 67, 0.15);\n",
              "      fill: #174EA6;\n",
              "    }\n",
              "\n",
              "    [theme=dark] .colab-df-convert {\n",
              "      background-color: #3B4455;\n",
              "      fill: #D2E3FC;\n",
              "    }\n",
              "\n",
              "    [theme=dark] .colab-df-convert:hover {\n",
              "      background-color: #434B5C;\n",
              "      box-shadow: 0px 1px 3px 1px rgba(0, 0, 0, 0.15);\n",
              "      filter: drop-shadow(0px 1px 2px rgba(0, 0, 0, 0.3));\n",
              "      fill: #FFFFFF;\n",
              "    }\n",
              "  </style>\n",
              "\n",
              "      <script>\n",
              "        const buttonEl =\n",
              "          document.querySelector('#df-508aa9f0-5577-4140-a347-e0b03e740bd2 button.colab-df-convert');\n",
              "        buttonEl.style.display =\n",
              "          google.colab.kernel.accessAllowed ? 'block' : 'none';\n",
              "\n",
              "        async function convertToInteractive(key) {\n",
              "          const element = document.querySelector('#df-508aa9f0-5577-4140-a347-e0b03e740bd2');\n",
              "          const dataTable =\n",
              "            await google.colab.kernel.invokeFunction('convertToInteractive',\n",
              "                                                     [key], {});\n",
              "          if (!dataTable) return;\n",
              "\n",
              "          const docLinkHtml = 'Like what you see? Visit the ' +\n",
              "            '<a target=\"_blank\" href=https://colab.research.google.com/notebooks/data_table.ipynb>data table notebook</a>'\n",
              "            + ' to learn more about interactive tables.';\n",
              "          element.innerHTML = '';\n",
              "          dataTable['output_type'] = 'display_data';\n",
              "          await google.colab.output.renderOutput(dataTable, element);\n",
              "          const docLink = document.createElement('div');\n",
              "          docLink.innerHTML = docLinkHtml;\n",
              "          element.appendChild(docLink);\n",
              "        }\n",
              "      </script>\n",
              "    </div>\n",
              "  </div>\n",
              "  "
            ]
          },
          "metadata": {},
          "execution_count": 381
        }
      ]
    },
    {
      "cell_type": "markdown",
      "source": [
        "##Experimento 1: Nivel de perturbación 1 \n",
        "\n",
        "Columnas a perturbar: 3"
      ],
      "metadata": {
        "id": "R411u2P4NBz8"
      }
    },
    {
      "cell_type": "code",
      "source": [
        "cant_columnas_a_perturbar=3\n",
        "\n",
        "X_test_perturbado1 = perturbar_columnas(cant_columnas_a_perturbar, a, cant_datos_pertubar, X_test1)\n",
        "X_test_perturbado2 = perturbar_columnas(cant_columnas_a_perturbar, a, cant_datos_pertubar, X_test2)\n",
        "X_test_perturbado3 = perturbar_columnas(cant_columnas_a_perturbar, a, cant_datos_pertubar, X_test3)\n",
        "X_test_perturbado4 = perturbar_columnas(cant_columnas_a_perturbar, a, cant_datos_pertubar, X_test4)\n",
        "X_test_perturbado5 = perturbar_columnas(cant_columnas_a_perturbar, a, cant_datos_pertubar, X_test5)"
      ],
      "metadata": {
        "colab": {
          "base_uri": "https://localhost:8080/"
        },
        "outputId": "e243d93a-4085-41ff-adf6-70145a10901a",
        "id": "ugfutcnEysGA"
      },
      "execution_count": null,
      "outputs": [
        {
          "output_type": "stream",
          "name": "stdout",
          "text": [
            "ProductRelated_Duration\n",
            "ProductRelated\n",
            "Informational\n",
            "------------------------------------------------\n",
            "ExitRates\n",
            "Informational_Duration\n",
            "BounceRates\n",
            "------------------------------------------------\n",
            "BounceRates\n",
            "Informational\n",
            "PageValues\n",
            "------------------------------------------------\n",
            "ProductRelated_Duration\n",
            "PageValues\n",
            "BounceRates\n",
            "------------------------------------------------\n",
            "ProductRelated\n",
            "ProductRelated_Duration\n",
            "ExitRates\n",
            "------------------------------------------------\n"
          ]
        }
      ]
    },
    {
      "cell_type": "code",
      "source": [
        "prom_precision1, promedio_recall1, promedio_support1 = calcule_metricas_random_forest(X_train1,X_test_perturbado1, y_train1, y_test1)\n",
        "prom_precision2, promedio_recall2, promedio_support2 = calcule_metricas_random_forest(X_train2,X_test_perturbado2, y_train2, y_test2)\n",
        "prom_precision3, promedio_recall3, promedio_support3 = calcule_metricas_random_forest(X_train3,X_test_perturbado3, y_train3, y_test3)\n",
        "prom_precision4, promedio_recall4, promedio_support4 = calcule_metricas_random_forest(X_train4,X_test_perturbado4, y_train4, y_test4)\n",
        "prom_precision5, promedio_recall5, promedio_support5 = calcule_metricas_random_forest(X_train5,X_test_perturbado5, y_train5, y_test5)"
      ],
      "metadata": {
        "colab": {
          "base_uri": "https://localhost:8080/"
        },
        "id": "qJbHG6k-PQoG",
        "outputId": "6e09a154-2704-47f8-d00f-0a0f30f92d10"
      },
      "execution_count": null,
      "outputs": [
        {
          "output_type": "stream",
          "name": "stdout",
          "text": [
            "-----------------------------------------------------\n",
            "Resultados\n",
            "Precision 1: 0.707\n",
            "Recall: 0.625\n",
            "Support: 557\n",
            "-----------------------------------------------------\n",
            "-----------------------------------------------------\n",
            "Resultados\n",
            "Precision 1: 0.749\n",
            "Recall: 0.526\n",
            "Support: 568\n",
            "-----------------------------------------------------\n",
            "-----------------------------------------------------\n",
            "Resultados\n",
            "Precision 1: 0.487\n",
            "Recall: 0.509\n",
            "Support: 597\n",
            "-----------------------------------------------------\n",
            "-----------------------------------------------------\n",
            "Resultados\n",
            "Precision 1: 0.495\n",
            "Recall: 0.572\n",
            "Support: 530\n",
            "-----------------------------------------------------\n",
            "-----------------------------------------------------\n",
            "Resultados\n",
            "Precision 1: 0.720\n",
            "Recall: 0.543\n",
            "Support: 564\n",
            "-----------------------------------------------------\n"
          ]
        }
      ]
    },
    {
      "cell_type": "code",
      "source": [
        "precision_exp1_RF = mean([prom_precision1,prom_precision2,prom_precision3,prom_precision4,prom_precision5])\n",
        "recall_exp1_RF = mean([promedio_recall1,promedio_recall2,promedio_recall3,promedio_recall4,promedio_recall5])\n",
        "support_exp1_RF = mean([promedio_support1,promedio_support2,promedio_support3,promedio_support4,promedio_support5])\n",
        "precisiones_RF.append(precision_exp1_RF)\n",
        "recalls_RF.append(recall_exp1_RF)\n",
        "supports_RF.append(support_exp1_RF)\n",
        "print(\"Precision experimento 1 Random Forest\", precision_exp1_RF)\n",
        "print(\"Recall experimento 1 Random Forest\", recall_exp1_RF)\n",
        "print(\"Support experimento 1 Random Forest\",support_exp1_RF)"
      ],
      "metadata": {
        "colab": {
          "base_uri": "https://localhost:8080/"
        },
        "id": "ke-dj2sQPvUi",
        "outputId": "9d0e5c63-c95c-4cd4-8d5c-8b45060c2dbf"
      },
      "execution_count": null,
      "outputs": [
        {
          "output_type": "stream",
          "name": "stdout",
          "text": [
            "Precision experimento 1 Random Forest 0.631793606629973\n",
            "Recall experimento 1 Random Forest 0.5549296138404674\n",
            "Support experimento 1 Random Forest 563.2\n"
          ]
        }
      ]
    },
    {
      "cell_type": "code",
      "source": [
        "data = [{'RF': precisiones_RF[1]}, {'RF': recalls_RF[1]}]\n",
        "df = pd.DataFrame(data, index=['Precision', 'Recall'])\n",
        "df"
      ],
      "metadata": {
        "colab": {
          "base_uri": "https://localhost:8080/"
        },
        "id": "Mes8oABRSClm",
        "outputId": "acedb802-e1c3-47ee-9270-a535dd2f80b2"
      },
      "execution_count": null,
      "outputs": [
        {
          "output_type": "execute_result",
          "data": {
            "text/plain": [
              "                 RF\n",
              "Precision  0.631794\n",
              "Recall     0.554930"
            ],
            "text/html": [
              "\n",
              "  <div id=\"df-aed4aaac-f6bc-443b-9e68-481edd34c686\">\n",
              "    <div class=\"colab-df-container\">\n",
              "      <div>\n",
              "<style scoped>\n",
              "    .dataframe tbody tr th:only-of-type {\n",
              "        vertical-align: middle;\n",
              "    }\n",
              "\n",
              "    .dataframe tbody tr th {\n",
              "        vertical-align: top;\n",
              "    }\n",
              "\n",
              "    .dataframe thead th {\n",
              "        text-align: right;\n",
              "    }\n",
              "</style>\n",
              "<table border=\"1\" class=\"dataframe\">\n",
              "  <thead>\n",
              "    <tr style=\"text-align: right;\">\n",
              "      <th></th>\n",
              "      <th>RF</th>\n",
              "    </tr>\n",
              "  </thead>\n",
              "  <tbody>\n",
              "    <tr>\n",
              "      <th>Precision</th>\n",
              "      <td>0.631794</td>\n",
              "    </tr>\n",
              "    <tr>\n",
              "      <th>Recall</th>\n",
              "      <td>0.554930</td>\n",
              "    </tr>\n",
              "  </tbody>\n",
              "</table>\n",
              "</div>\n",
              "      <button class=\"colab-df-convert\" onclick=\"convertToInteractive('df-aed4aaac-f6bc-443b-9e68-481edd34c686')\"\n",
              "              title=\"Convert this dataframe to an interactive table.\"\n",
              "              style=\"display:none;\">\n",
              "        \n",
              "  <svg xmlns=\"http://www.w3.org/2000/svg\" height=\"24px\"viewBox=\"0 0 24 24\"\n",
              "       width=\"24px\">\n",
              "    <path d=\"M0 0h24v24H0V0z\" fill=\"none\"/>\n",
              "    <path d=\"M18.56 5.44l.94 2.06.94-2.06 2.06-.94-2.06-.94-.94-2.06-.94 2.06-2.06.94zm-11 1L8.5 8.5l.94-2.06 2.06-.94-2.06-.94L8.5 2.5l-.94 2.06-2.06.94zm10 10l.94 2.06.94-2.06 2.06-.94-2.06-.94-.94-2.06-.94 2.06-2.06.94z\"/><path d=\"M17.41 7.96l-1.37-1.37c-.4-.4-.92-.59-1.43-.59-.52 0-1.04.2-1.43.59L10.3 9.45l-7.72 7.72c-.78.78-.78 2.05 0 2.83L4 21.41c.39.39.9.59 1.41.59.51 0 1.02-.2 1.41-.59l7.78-7.78 2.81-2.81c.8-.78.8-2.07 0-2.86zM5.41 20L4 18.59l7.72-7.72 1.47 1.35L5.41 20z\"/>\n",
              "  </svg>\n",
              "      </button>\n",
              "      \n",
              "  <style>\n",
              "    .colab-df-container {\n",
              "      display:flex;\n",
              "      flex-wrap:wrap;\n",
              "      gap: 12px;\n",
              "    }\n",
              "\n",
              "    .colab-df-convert {\n",
              "      background-color: #E8F0FE;\n",
              "      border: none;\n",
              "      border-radius: 50%;\n",
              "      cursor: pointer;\n",
              "      display: none;\n",
              "      fill: #1967D2;\n",
              "      height: 32px;\n",
              "      padding: 0 0 0 0;\n",
              "      width: 32px;\n",
              "    }\n",
              "\n",
              "    .colab-df-convert:hover {\n",
              "      background-color: #E2EBFA;\n",
              "      box-shadow: 0px 1px 2px rgba(60, 64, 67, 0.3), 0px 1px 3px 1px rgba(60, 64, 67, 0.15);\n",
              "      fill: #174EA6;\n",
              "    }\n",
              "\n",
              "    [theme=dark] .colab-df-convert {\n",
              "      background-color: #3B4455;\n",
              "      fill: #D2E3FC;\n",
              "    }\n",
              "\n",
              "    [theme=dark] .colab-df-convert:hover {\n",
              "      background-color: #434B5C;\n",
              "      box-shadow: 0px 1px 3px 1px rgba(0, 0, 0, 0.15);\n",
              "      filter: drop-shadow(0px 1px 2px rgba(0, 0, 0, 0.3));\n",
              "      fill: #FFFFFF;\n",
              "    }\n",
              "  </style>\n",
              "\n",
              "      <script>\n",
              "        const buttonEl =\n",
              "          document.querySelector('#df-aed4aaac-f6bc-443b-9e68-481edd34c686 button.colab-df-convert');\n",
              "        buttonEl.style.display =\n",
              "          google.colab.kernel.accessAllowed ? 'block' : 'none';\n",
              "\n",
              "        async function convertToInteractive(key) {\n",
              "          const element = document.querySelector('#df-aed4aaac-f6bc-443b-9e68-481edd34c686');\n",
              "          const dataTable =\n",
              "            await google.colab.kernel.invokeFunction('convertToInteractive',\n",
              "                                                     [key], {});\n",
              "          if (!dataTable) return;\n",
              "\n",
              "          const docLinkHtml = 'Like what you see? Visit the ' +\n",
              "            '<a target=\"_blank\" href=https://colab.research.google.com/notebooks/data_table.ipynb>data table notebook</a>'\n",
              "            + ' to learn more about interactive tables.';\n",
              "          element.innerHTML = '';\n",
              "          dataTable['output_type'] = 'display_data';\n",
              "          await google.colab.output.renderOutput(dataTable, element);\n",
              "          const docLink = document.createElement('div');\n",
              "          docLink.innerHTML = docLinkHtml;\n",
              "          element.appendChild(docLink);\n",
              "        }\n",
              "      </script>\n",
              "    </div>\n",
              "  </div>\n",
              "  "
            ]
          },
          "metadata": {},
          "execution_count": 389
        }
      ]
    },
    {
      "cell_type": "markdown",
      "source": [
        "## Experimento 2"
      ],
      "metadata": {
        "id": "KaxDMp4ORf91"
      }
    },
    {
      "cell_type": "markdown",
      "source": [
        "Columnas a perturbar: 5"
      ],
      "metadata": {
        "id": "5UC81JNOeWO9"
      }
    },
    {
      "cell_type": "code",
      "source": [
        "cant_columnas_a_perturbar=5\n",
        "\n",
        "X_test_perturbado1 = perturbar_columnas(cant_columnas_a_perturbar, a, cant_datos_pertubar, X_test1)\n",
        "X_test_perturbado2 = perturbar_columnas(cant_columnas_a_perturbar, a, cant_datos_pertubar, X_test2)\n",
        "X_test_perturbado3 = perturbar_columnas(cant_columnas_a_perturbar, a, cant_datos_pertubar, X_test3)\n",
        "X_test_perturbado4 = perturbar_columnas(cant_columnas_a_perturbar, a, cant_datos_pertubar, X_test4)\n",
        "X_test_perturbado5 = perturbar_columnas(cant_columnas_a_perturbar, a, cant_datos_pertubar, X_test5)"
      ],
      "metadata": {
        "colab": {
          "base_uri": "https://localhost:8080/"
        },
        "id": "QcWZlKbsRvmq",
        "outputId": "c529dbec-7c13-471b-e292-d94cc5fb9ec0"
      },
      "execution_count": null,
      "outputs": [
        {
          "output_type": "stream",
          "name": "stdout",
          "text": [
            "Informational\n",
            "Administrative_Duration\n",
            "ExitRates\n",
            "BounceRates\n",
            "ProductRelated_Duration\n",
            "------------------------------------------------\n",
            "PageValues\n",
            "Informational\n",
            "ExitRates\n",
            "Administrative_Duration\n",
            "ProductRelated_Duration\n",
            "------------------------------------------------\n",
            "Informational\n",
            "ExitRates\n",
            "PageValues\n",
            "Administrative_Duration\n",
            "BounceRates\n",
            "------------------------------------------------\n",
            "BounceRates\n",
            "ProductRelated\n",
            "ExitRates\n",
            "Administrative_Duration\n",
            "Informational\n",
            "------------------------------------------------\n",
            "Administrative_Duration\n",
            "PageValues\n",
            "ExitRates\n",
            "Informational_Duration\n",
            "BounceRates\n",
            "------------------------------------------------\n"
          ]
        }
      ]
    },
    {
      "cell_type": "code",
      "source": [
        "prom_precision1, promedio_recall1, promedio_support1 = calcule_metricas_random_forest(X_train1,X_test_perturbado1, y_train1, y_test1)\n",
        "prom_precision2, promedio_recall2, promedio_support2 = calcule_metricas_random_forest(X_train2,X_test_perturbado2, y_train2, y_test2)\n",
        "prom_precision3, promedio_recall3, promedio_support3 = calcule_metricas_random_forest(X_train3,X_test_perturbado3, y_train3, y_test3)\n",
        "prom_precision4, promedio_recall4, promedio_support4 = calcule_metricas_random_forest(X_train4,X_test_perturbado4, y_train4, y_test4)\n",
        "prom_precision5, promedio_recall5, promedio_support5 = calcule_metricas_random_forest(X_train5,X_test_perturbado5, y_train5, y_test5)"
      ],
      "metadata": {
        "colab": {
          "base_uri": "https://localhost:8080/"
        },
        "id": "nVZFWoxHVaxj",
        "outputId": "8140f1b4-7635-4419-ab05-5f20cb36ed54"
      },
      "execution_count": null,
      "outputs": [
        {
          "output_type": "stream",
          "name": "stdout",
          "text": [
            "-----------------------------------------------------\n",
            "Resultados\n",
            "Precision 1: 0.692\n",
            "Recall: 0.580\n",
            "Support: 557\n",
            "-----------------------------------------------------\n",
            "-----------------------------------------------------\n",
            "Resultados\n",
            "Precision 1: 0.532\n",
            "Recall: 0.489\n",
            "Support: 568\n",
            "-----------------------------------------------------\n",
            "-----------------------------------------------------\n",
            "Resultados\n",
            "Precision 1: 0.439\n",
            "Recall: 0.476\n",
            "Support: 597\n",
            "-----------------------------------------------------\n",
            "-----------------------------------------------------\n",
            "Resultados\n",
            "Precision 1: 0.493\n",
            "Recall: 0.519\n",
            "Support: 530\n",
            "-----------------------------------------------------\n",
            "-----------------------------------------------------\n",
            "Resultados\n",
            "Precision 1: 0.526\n",
            "Recall: 0.562\n",
            "Support: 564\n",
            "-----------------------------------------------------\n"
          ]
        }
      ]
    },
    {
      "cell_type": "code",
      "source": [
        "precision_exp2_RF = mean([prom_precision1,prom_precision2,prom_precision3,prom_precision4,prom_precision5])\n",
        "recall_exp2_RF = mean([promedio_recall1,promedio_recall2,promedio_recall3,promedio_recall4,promedio_recall5])\n",
        "support_exp2_RF = mean([promedio_support1,promedio_support2,promedio_support3,promedio_support4,promedio_support5])\n",
        "precisiones_RF.append(precision_exp2_RF)\n",
        "recalls_RF.append(recall_exp2_RF)\n",
        "supports_RF.append(support_exp2_RF)\n",
        "print(\"precision_exp2_RF: \",precision_exp2_RF)\n",
        "print(\"recall_exp2_RF\",recall_exp2_RF)\n",
        "print(\"support_exp2_RF\",support_exp2_RF)"
      ],
      "metadata": {
        "colab": {
          "base_uri": "https://localhost:8080/"
        },
        "id": "nQIC-VRfVlrs",
        "outputId": "0cf7d6a0-16e2-4e52-d0e4-e15d5463e317"
      },
      "execution_count": null,
      "outputs": [
        {
          "output_type": "stream",
          "name": "stdout",
          "text": [
            "precision_exp2_RF:  0.5361365850617463\n",
            "recall_exp2_RF 0.5251930909408795\n",
            "support_exp2_RF 563.2\n"
          ]
        }
      ]
    },
    {
      "cell_type": "code",
      "source": [
        "data = [{'RF': precisiones_RF[2]}, {'RF': recalls_RF[2]}]\n",
        "df = pd.DataFrame(data, index=['Precision', 'Recall'])\n",
        "df"
      ],
      "metadata": {
        "colab": {
          "base_uri": "https://localhost:8080/"
        },
        "id": "FAfL9AY9SHgW",
        "outputId": "d764566a-23b9-4427-9cc3-7d04fcc665c2"
      },
      "execution_count": null,
      "outputs": [
        {
          "output_type": "execute_result",
          "data": {
            "text/plain": [
              "                 RF\n",
              "Precision  0.536137\n",
              "Recall     0.525193"
            ],
            "text/html": [
              "\n",
              "  <div id=\"df-00c89f6d-7662-4d15-93ca-2471ab807590\">\n",
              "    <div class=\"colab-df-container\">\n",
              "      <div>\n",
              "<style scoped>\n",
              "    .dataframe tbody tr th:only-of-type {\n",
              "        vertical-align: middle;\n",
              "    }\n",
              "\n",
              "    .dataframe tbody tr th {\n",
              "        vertical-align: top;\n",
              "    }\n",
              "\n",
              "    .dataframe thead th {\n",
              "        text-align: right;\n",
              "    }\n",
              "</style>\n",
              "<table border=\"1\" class=\"dataframe\">\n",
              "  <thead>\n",
              "    <tr style=\"text-align: right;\">\n",
              "      <th></th>\n",
              "      <th>RF</th>\n",
              "    </tr>\n",
              "  </thead>\n",
              "  <tbody>\n",
              "    <tr>\n",
              "      <th>Precision</th>\n",
              "      <td>0.536137</td>\n",
              "    </tr>\n",
              "    <tr>\n",
              "      <th>Recall</th>\n",
              "      <td>0.525193</td>\n",
              "    </tr>\n",
              "  </tbody>\n",
              "</table>\n",
              "</div>\n",
              "      <button class=\"colab-df-convert\" onclick=\"convertToInteractive('df-00c89f6d-7662-4d15-93ca-2471ab807590')\"\n",
              "              title=\"Convert this dataframe to an interactive table.\"\n",
              "              style=\"display:none;\">\n",
              "        \n",
              "  <svg xmlns=\"http://www.w3.org/2000/svg\" height=\"24px\"viewBox=\"0 0 24 24\"\n",
              "       width=\"24px\">\n",
              "    <path d=\"M0 0h24v24H0V0z\" fill=\"none\"/>\n",
              "    <path d=\"M18.56 5.44l.94 2.06.94-2.06 2.06-.94-2.06-.94-.94-2.06-.94 2.06-2.06.94zm-11 1L8.5 8.5l.94-2.06 2.06-.94-2.06-.94L8.5 2.5l-.94 2.06-2.06.94zm10 10l.94 2.06.94-2.06 2.06-.94-2.06-.94-.94-2.06-.94 2.06-2.06.94z\"/><path d=\"M17.41 7.96l-1.37-1.37c-.4-.4-.92-.59-1.43-.59-.52 0-1.04.2-1.43.59L10.3 9.45l-7.72 7.72c-.78.78-.78 2.05 0 2.83L4 21.41c.39.39.9.59 1.41.59.51 0 1.02-.2 1.41-.59l7.78-7.78 2.81-2.81c.8-.78.8-2.07 0-2.86zM5.41 20L4 18.59l7.72-7.72 1.47 1.35L5.41 20z\"/>\n",
              "  </svg>\n",
              "      </button>\n",
              "      \n",
              "  <style>\n",
              "    .colab-df-container {\n",
              "      display:flex;\n",
              "      flex-wrap:wrap;\n",
              "      gap: 12px;\n",
              "    }\n",
              "\n",
              "    .colab-df-convert {\n",
              "      background-color: #E8F0FE;\n",
              "      border: none;\n",
              "      border-radius: 50%;\n",
              "      cursor: pointer;\n",
              "      display: none;\n",
              "      fill: #1967D2;\n",
              "      height: 32px;\n",
              "      padding: 0 0 0 0;\n",
              "      width: 32px;\n",
              "    }\n",
              "\n",
              "    .colab-df-convert:hover {\n",
              "      background-color: #E2EBFA;\n",
              "      box-shadow: 0px 1px 2px rgba(60, 64, 67, 0.3), 0px 1px 3px 1px rgba(60, 64, 67, 0.15);\n",
              "      fill: #174EA6;\n",
              "    }\n",
              "\n",
              "    [theme=dark] .colab-df-convert {\n",
              "      background-color: #3B4455;\n",
              "      fill: #D2E3FC;\n",
              "    }\n",
              "\n",
              "    [theme=dark] .colab-df-convert:hover {\n",
              "      background-color: #434B5C;\n",
              "      box-shadow: 0px 1px 3px 1px rgba(0, 0, 0, 0.15);\n",
              "      filter: drop-shadow(0px 1px 2px rgba(0, 0, 0, 0.3));\n",
              "      fill: #FFFFFF;\n",
              "    }\n",
              "  </style>\n",
              "\n",
              "      <script>\n",
              "        const buttonEl =\n",
              "          document.querySelector('#df-00c89f6d-7662-4d15-93ca-2471ab807590 button.colab-df-convert');\n",
              "        buttonEl.style.display =\n",
              "          google.colab.kernel.accessAllowed ? 'block' : 'none';\n",
              "\n",
              "        async function convertToInteractive(key) {\n",
              "          const element = document.querySelector('#df-00c89f6d-7662-4d15-93ca-2471ab807590');\n",
              "          const dataTable =\n",
              "            await google.colab.kernel.invokeFunction('convertToInteractive',\n",
              "                                                     [key], {});\n",
              "          if (!dataTable) return;\n",
              "\n",
              "          const docLinkHtml = 'Like what you see? Visit the ' +\n",
              "            '<a target=\"_blank\" href=https://colab.research.google.com/notebooks/data_table.ipynb>data table notebook</a>'\n",
              "            + ' to learn more about interactive tables.';\n",
              "          element.innerHTML = '';\n",
              "          dataTable['output_type'] = 'display_data';\n",
              "          await google.colab.output.renderOutput(dataTable, element);\n",
              "          const docLink = document.createElement('div');\n",
              "          docLink.innerHTML = docLinkHtml;\n",
              "          element.appendChild(docLink);\n",
              "        }\n",
              "      </script>\n",
              "    </div>\n",
              "  </div>\n",
              "  "
            ]
          },
          "metadata": {},
          "execution_count": 393
        }
      ]
    },
    {
      "cell_type": "markdown",
      "source": [
        "## Experimento 3"
      ],
      "metadata": {
        "id": "Z3sIv9FaVujw"
      }
    },
    {
      "cell_type": "markdown",
      "source": [
        "Columnas a perturbar: 8"
      ],
      "metadata": {
        "id": "aiDVWwObeabw"
      }
    },
    {
      "cell_type": "code",
      "source": [
        "cant_columnas_a_perturbar=8\n",
        "\n",
        "X_test_perturbado1 = perturbar_columnas(cant_columnas_a_perturbar, a, cant_datos_pertubar, X_test1)\n",
        "X_test_perturbado2 = perturbar_columnas(cant_columnas_a_perturbar, a, cant_datos_pertubar, X_test2)\n",
        "X_test_perturbado3 = perturbar_columnas(cant_columnas_a_perturbar, a, cant_datos_pertubar, X_test3)\n",
        "X_test_perturbado4 = perturbar_columnas(cant_columnas_a_perturbar, a, cant_datos_pertubar, X_test4)\n",
        "X_test_perturbado5 = perturbar_columnas(cant_columnas_a_perturbar, a, cant_datos_pertubar, X_test5)"
      ],
      "metadata": {
        "colab": {
          "base_uri": "https://localhost:8080/"
        },
        "id": "mpnVRTPuVyUY",
        "outputId": "91ef979c-8511-4505-9b61-3c54f608eb81"
      },
      "execution_count": null,
      "outputs": [
        {
          "output_type": "stream",
          "name": "stdout",
          "text": [
            "ProductRelated\n",
            "PageValues\n",
            "Informational_Duration\n",
            "Informational\n",
            "Administrative_Duration\n",
            "BounceRates\n",
            "ExitRates\n",
            "ProductRelated_Duration\n",
            "------------------------------------------------\n",
            "Administrative_Duration\n",
            "ExitRates\n",
            "ProductRelated_Duration\n",
            "Informational_Duration\n",
            "ProductRelated\n",
            "BounceRates\n",
            "PageValues\n",
            "Informational\n",
            "------------------------------------------------\n",
            "Administrative_Duration\n",
            "Informational\n",
            "ExitRates\n",
            "BounceRates\n",
            "Informational_Duration\n",
            "ProductRelated_Duration\n",
            "PageValues\n",
            "ProductRelated\n",
            "------------------------------------------------\n",
            "Administrative_Duration\n",
            "ExitRates\n",
            "Informational_Duration\n",
            "ProductRelated\n",
            "PageValues\n",
            "Informational\n",
            "ProductRelated_Duration\n",
            "BounceRates\n",
            "------------------------------------------------\n",
            "Administrative_Duration\n",
            "PageValues\n",
            "Informational\n",
            "ExitRates\n",
            "ProductRelated\n",
            "Informational_Duration\n",
            "ProductRelated_Duration\n",
            "BounceRates\n",
            "------------------------------------------------\n"
          ]
        }
      ]
    },
    {
      "cell_type": "code",
      "source": [
        "prom_precision1, promedio_recall1, promedio_support1 = calcule_metricas_random_forest(X_train1,X_test_perturbado1, y_train1, y_test1)\n",
        "prom_precision2, promedio_recall2, promedio_support2 = calcule_metricas_random_forest(X_train2,X_test_perturbado2, y_train2, y_test2)\n",
        "prom_precision3, promedio_recall3, promedio_support3 = calcule_metricas_random_forest(X_train3,X_test_perturbado3, y_train3, y_test3)\n",
        "prom_precision4, promedio_recall4, promedio_support4 = calcule_metricas_random_forest(X_train4,X_test_perturbado4, y_train4, y_test4)\n",
        "prom_precision5, promedio_recall5, promedio_support5 = calcule_metricas_random_forest(X_train5,X_test_perturbado5, y_train5, y_test5)"
      ],
      "metadata": {
        "colab": {
          "base_uri": "https://localhost:8080/"
        },
        "id": "9dPug3QUV6wU",
        "outputId": "55ccda29-8cc3-4a0b-99ad-a1720cd0d8cd"
      },
      "execution_count": null,
      "outputs": [
        {
          "output_type": "stream",
          "name": "stdout",
          "text": [
            "-----------------------------------------------------\n",
            "Resultados\n",
            "Precision 1: 0.534\n",
            "Recall: 0.557\n",
            "Support: 557\n",
            "-----------------------------------------------------\n",
            "-----------------------------------------------------\n",
            "Resultados\n",
            "Precision 1: 0.459\n",
            "Recall: 0.496\n",
            "Support: 568\n",
            "-----------------------------------------------------\n",
            "-----------------------------------------------------\n",
            "Resultados\n",
            "Precision 1: 0.432\n",
            "Recall: 0.471\n",
            "Support: 597\n",
            "-----------------------------------------------------\n",
            "-----------------------------------------------------\n",
            "Resultados\n",
            "Precision 1: 0.463\n",
            "Recall: 0.534\n",
            "Support: 530\n",
            "-----------------------------------------------------\n",
            "-----------------------------------------------------\n",
            "Resultados\n",
            "Precision 1: 0.480\n",
            "Recall: 0.541\n",
            "Support: 564\n",
            "-----------------------------------------------------\n"
          ]
        }
      ]
    },
    {
      "cell_type": "code",
      "source": [
        "precision_exp3_RF = mean([prom_precision1,prom_precision2,prom_precision3,prom_precision4,prom_precision5])\n",
        "recall_exp3_RF = mean([promedio_recall1,promedio_recall2,promedio_recall3,promedio_recall4,promedio_recall5])\n",
        "support_exp3_RF = mean([promedio_support1,promedio_support2,promedio_support3,promedio_support4,promedio_support5])\n",
        "precisiones_RF.append(precision_exp3_RF)\n",
        "recalls_RF.append(recall_exp3_RF)\n",
        "supports_RF.append(support_exp3_RF)\n",
        "print(\"precision_exp3_RF \",precision_exp3_RF)\n",
        "print(\"recall_exp3_RF\",recall_exp3_RF)\n",
        "print(\"support_exp3_RF\",support_exp3_RF)"
      ],
      "metadata": {
        "colab": {
          "base_uri": "https://localhost:8080/"
        },
        "id": "7Sq5W-0cWJpZ",
        "outputId": "a2a7a427-e9fe-4f80-a41a-5caf844908d3"
      },
      "execution_count": null,
      "outputs": [
        {
          "output_type": "stream",
          "name": "stdout",
          "text": [
            "precision_exp3_RF  0.4737634239347496\n",
            "recall_exp3_RF 0.5196922017403112\n",
            "support_exp3_RF 563.2\n"
          ]
        }
      ]
    },
    {
      "cell_type": "code",
      "source": [
        "data = [{'RF': precisiones_RF[3]}, {'RF': recalls_RF[3]}]\n",
        "df = pd.DataFrame(data, index=['Precision', 'Recall'])\n",
        "df"
      ],
      "metadata": {
        "colab": {
          "base_uri": "https://localhost:8080/"
        },
        "id": "ZzYM5eGmSLfm",
        "outputId": "13f6b094-d076-4c8a-f092-3c9d15c22d88"
      },
      "execution_count": null,
      "outputs": [
        {
          "output_type": "execute_result",
          "data": {
            "text/plain": [
              "                 RF\n",
              "Precision  0.473763\n",
              "Recall     0.519692"
            ],
            "text/html": [
              "\n",
              "  <div id=\"df-d4b44a1a-5253-4c41-a66d-0fdad322ec74\">\n",
              "    <div class=\"colab-df-container\">\n",
              "      <div>\n",
              "<style scoped>\n",
              "    .dataframe tbody tr th:only-of-type {\n",
              "        vertical-align: middle;\n",
              "    }\n",
              "\n",
              "    .dataframe tbody tr th {\n",
              "        vertical-align: top;\n",
              "    }\n",
              "\n",
              "    .dataframe thead th {\n",
              "        text-align: right;\n",
              "    }\n",
              "</style>\n",
              "<table border=\"1\" class=\"dataframe\">\n",
              "  <thead>\n",
              "    <tr style=\"text-align: right;\">\n",
              "      <th></th>\n",
              "      <th>RF</th>\n",
              "    </tr>\n",
              "  </thead>\n",
              "  <tbody>\n",
              "    <tr>\n",
              "      <th>Precision</th>\n",
              "      <td>0.473763</td>\n",
              "    </tr>\n",
              "    <tr>\n",
              "      <th>Recall</th>\n",
              "      <td>0.519692</td>\n",
              "    </tr>\n",
              "  </tbody>\n",
              "</table>\n",
              "</div>\n",
              "      <button class=\"colab-df-convert\" onclick=\"convertToInteractive('df-d4b44a1a-5253-4c41-a66d-0fdad322ec74')\"\n",
              "              title=\"Convert this dataframe to an interactive table.\"\n",
              "              style=\"display:none;\">\n",
              "        \n",
              "  <svg xmlns=\"http://www.w3.org/2000/svg\" height=\"24px\"viewBox=\"0 0 24 24\"\n",
              "       width=\"24px\">\n",
              "    <path d=\"M0 0h24v24H0V0z\" fill=\"none\"/>\n",
              "    <path d=\"M18.56 5.44l.94 2.06.94-2.06 2.06-.94-2.06-.94-.94-2.06-.94 2.06-2.06.94zm-11 1L8.5 8.5l.94-2.06 2.06-.94-2.06-.94L8.5 2.5l-.94 2.06-2.06.94zm10 10l.94 2.06.94-2.06 2.06-.94-2.06-.94-.94-2.06-.94 2.06-2.06.94z\"/><path d=\"M17.41 7.96l-1.37-1.37c-.4-.4-.92-.59-1.43-.59-.52 0-1.04.2-1.43.59L10.3 9.45l-7.72 7.72c-.78.78-.78 2.05 0 2.83L4 21.41c.39.39.9.59 1.41.59.51 0 1.02-.2 1.41-.59l7.78-7.78 2.81-2.81c.8-.78.8-2.07 0-2.86zM5.41 20L4 18.59l7.72-7.72 1.47 1.35L5.41 20z\"/>\n",
              "  </svg>\n",
              "      </button>\n",
              "      \n",
              "  <style>\n",
              "    .colab-df-container {\n",
              "      display:flex;\n",
              "      flex-wrap:wrap;\n",
              "      gap: 12px;\n",
              "    }\n",
              "\n",
              "    .colab-df-convert {\n",
              "      background-color: #E8F0FE;\n",
              "      border: none;\n",
              "      border-radius: 50%;\n",
              "      cursor: pointer;\n",
              "      display: none;\n",
              "      fill: #1967D2;\n",
              "      height: 32px;\n",
              "      padding: 0 0 0 0;\n",
              "      width: 32px;\n",
              "    }\n",
              "\n",
              "    .colab-df-convert:hover {\n",
              "      background-color: #E2EBFA;\n",
              "      box-shadow: 0px 1px 2px rgba(60, 64, 67, 0.3), 0px 1px 3px 1px rgba(60, 64, 67, 0.15);\n",
              "      fill: #174EA6;\n",
              "    }\n",
              "\n",
              "    [theme=dark] .colab-df-convert {\n",
              "      background-color: #3B4455;\n",
              "      fill: #D2E3FC;\n",
              "    }\n",
              "\n",
              "    [theme=dark] .colab-df-convert:hover {\n",
              "      background-color: #434B5C;\n",
              "      box-shadow: 0px 1px 3px 1px rgba(0, 0, 0, 0.15);\n",
              "      filter: drop-shadow(0px 1px 2px rgba(0, 0, 0, 0.3));\n",
              "      fill: #FFFFFF;\n",
              "    }\n",
              "  </style>\n",
              "\n",
              "      <script>\n",
              "        const buttonEl =\n",
              "          document.querySelector('#df-d4b44a1a-5253-4c41-a66d-0fdad322ec74 button.colab-df-convert');\n",
              "        buttonEl.style.display =\n",
              "          google.colab.kernel.accessAllowed ? 'block' : 'none';\n",
              "\n",
              "        async function convertToInteractive(key) {\n",
              "          const element = document.querySelector('#df-d4b44a1a-5253-4c41-a66d-0fdad322ec74');\n",
              "          const dataTable =\n",
              "            await google.colab.kernel.invokeFunction('convertToInteractive',\n",
              "                                                     [key], {});\n",
              "          if (!dataTable) return;\n",
              "\n",
              "          const docLinkHtml = 'Like what you see? Visit the ' +\n",
              "            '<a target=\"_blank\" href=https://colab.research.google.com/notebooks/data_table.ipynb>data table notebook</a>'\n",
              "            + ' to learn more about interactive tables.';\n",
              "          element.innerHTML = '';\n",
              "          dataTable['output_type'] = 'display_data';\n",
              "          await google.colab.output.renderOutput(dataTable, element);\n",
              "          const docLink = document.createElement('div');\n",
              "          docLink.innerHTML = docLinkHtml;\n",
              "          element.appendChild(docLink);\n",
              "        }\n",
              "      </script>\n",
              "    </div>\n",
              "  </div>\n",
              "  "
            ]
          },
          "metadata": {},
          "execution_count": 397
        }
      ]
    },
    {
      "cell_type": "markdown",
      "source": [
        "# Extreme Gradiente Boosting \n",
        "\n",
        "Se elaboró el método llamado calcule_metricas_XGB el cual recibe como parámetros el conjunto de datos que se utilizará para entrenar el modelo y el que se utilizará para evaluarlo. \n",
        "En dicho método primero se define el modelo a utilizar, en este caso el algoritmo de bosque aleatorio para problemas de clasificación. Los hiperparámetros elegidos corresponden a los establecidos por defecto, los cuales corresponden a:\n",
        "- subsample: 1.0 \n",
        "- colsample_bytree: todas las caracteristicas en el *dataset* de entrenamiento.\n",
        "- n_estimators: 100\n",
        "- max_depth: 6\n",
        "- eta: 0.3\n",
        "\n",
        "Seguidamente se ajusta el modelo con el conjunto de datos de entrenamiento y se realizan las predicciones del modelo utilizando el conjunto de datos de prueba. Por último se calculan las métricas de precisión, recall y el support obtenido.  "
      ],
      "metadata": {
        "id": "LpKL2kW_3oJq"
      }
    },
    {
      "cell_type": "markdown",
      "source": [
        "## Experimento 0: no se realizan perturbaciones."
      ],
      "metadata": {
        "id": "QXOmzuKuFNmI"
      }
    },
    {
      "cell_type": "code",
      "source": [
        "def calcule_metricas_XGB(X_train_p,X_test_p, y_train_p, y_test_p):\n",
        "  model = XGBClassifier()\n",
        "  model.fit(X_train_p,y_train_p)\n",
        "  y_pred = model.predict(X_test_p)\n",
        "  precision, recall, fscore, support = score(y_test_p, y_pred)\n",
        "  precision = precision[1]\n",
        "  recall = recall[1]\n",
        "  support = support[1]\n",
        "  print(\"-----------------------------------------------------\")\n",
        "  print(\"Resultados\")\n",
        "  print('Precision 1: %.3f' %precision)\n",
        "  print('Recall: %.3f' % recall)\n",
        "  print('Support: %.0f' % support)\n",
        "  print(\"-----------------------------------------------------\")\n",
        "    \n",
        "  return precision, recall, support"
      ],
      "metadata": {
        "id": "Yma2LYV84nMy"
      },
      "execution_count": null,
      "outputs": []
    },
    {
      "cell_type": "code",
      "source": [
        "precision1, recall1, support1 = calcule_metricas_XGB(X_train1,X_test1, y_train1, y_test1)\n",
        "precision2, recall2, support2 = calcule_metricas_XGB(X_train2,X_test2, y_train2, y_test2)\n",
        "precision3, recall3, support3 = calcule_metricas_XGB(X_train3,X_test3, y_train3, y_test3)\n",
        "precision4, recall4, support4 = calcule_metricas_XGB(X_train4,X_test4, y_train4, y_test4)\n",
        "precision5, recall5, support5 = calcule_metricas_XGB(X_train5,X_test5, y_train5, y_test5)"
      ],
      "metadata": {
        "colab": {
          "base_uri": "https://localhost:8080/"
        },
        "id": "7uApJkIk51dj",
        "outputId": "ad4c5a73-07f6-47ec-b287-a745c3692ffd"
      },
      "execution_count": null,
      "outputs": [
        {
          "output_type": "stream",
          "name": "stdout",
          "text": [
            "-----------------------------------------------------\n",
            "Resultados\n",
            "Precision 1: 0.723\n",
            "Recall: 0.632\n",
            "Support: 557\n",
            "-----------------------------------------------------\n",
            "-----------------------------------------------------\n",
            "Resultados\n",
            "Precision 1: 0.741\n",
            "Recall: 0.576\n",
            "Support: 568\n",
            "-----------------------------------------------------\n",
            "-----------------------------------------------------\n",
            "Resultados\n",
            "Precision 1: 0.749\n",
            "Recall: 0.539\n",
            "Support: 597\n",
            "-----------------------------------------------------\n",
            "-----------------------------------------------------\n",
            "Resultados\n",
            "Precision 1: 0.691\n",
            "Recall: 0.583\n",
            "Support: 530\n",
            "-----------------------------------------------------\n",
            "-----------------------------------------------------\n",
            "Resultados\n",
            "Precision 1: 0.724\n",
            "Recall: 0.608\n",
            "Support: 564\n",
            "-----------------------------------------------------\n"
          ]
        }
      ]
    },
    {
      "cell_type": "code",
      "source": [
        "precision_XGB = mean([precision1,precision2,precision3,precision4,precision5])\n",
        "recall_XGB = mean([recall1,recall2,recall3,recall4,recall5])\n",
        "support_XGB = mean([support1,support2,support3,support4,support5])\n",
        "precisiones_XGB.append(precision_XGB)\n",
        "recalls_XGB.append(recall_XGB)\n",
        "supports_XGB.append(support_XGB)\n",
        "print(\"precision_XGB \",precision_XGB)\n",
        "print(\"recall_XGB \",recall_XGB)\n",
        "print(\"recall_XGB \",support_XGB)"
      ],
      "metadata": {
        "colab": {
          "base_uri": "https://localhost:8080/"
        },
        "id": "oq85mW7I_tp-",
        "outputId": "139d8f42-f048-4b89-bcad-82ba913d2208"
      },
      "execution_count": null,
      "outputs": [
        {
          "output_type": "stream",
          "name": "stdout",
          "text": [
            "precision_XGB  0.7256060551026027\n",
            "recall_XGB  0.5876399035522526\n",
            "recall_XGB  563.2\n"
          ]
        }
      ]
    },
    {
      "cell_type": "code",
      "source": [
        "data = [{'XGB': precisiones_XGB[0]}, {'XGB': recalls_XGB[0]}]\n",
        "df = pd.DataFrame(data, index=['Precision', 'Recall'])\n",
        "df"
      ],
      "metadata": {
        "colab": {
          "base_uri": "https://localhost:8080/",
          "height": 112
        },
        "id": "ZfUYIoscSQjW",
        "outputId": "59d4e59f-3dc9-45d4-f6c4-972e2929ccb1"
      },
      "execution_count": null,
      "outputs": [
        {
          "output_type": "execute_result",
          "data": {
            "text/plain": [
              "                XGB\n",
              "Precision  0.725606\n",
              "Recall     0.587640"
            ],
            "text/html": [
              "\n",
              "  <div id=\"df-87d15684-8bf0-405b-88af-1dd5679fb44a\">\n",
              "    <div class=\"colab-df-container\">\n",
              "      <div>\n",
              "<style scoped>\n",
              "    .dataframe tbody tr th:only-of-type {\n",
              "        vertical-align: middle;\n",
              "    }\n",
              "\n",
              "    .dataframe tbody tr th {\n",
              "        vertical-align: top;\n",
              "    }\n",
              "\n",
              "    .dataframe thead th {\n",
              "        text-align: right;\n",
              "    }\n",
              "</style>\n",
              "<table border=\"1\" class=\"dataframe\">\n",
              "  <thead>\n",
              "    <tr style=\"text-align: right;\">\n",
              "      <th></th>\n",
              "      <th>XGB</th>\n",
              "    </tr>\n",
              "  </thead>\n",
              "  <tbody>\n",
              "    <tr>\n",
              "      <th>Precision</th>\n",
              "      <td>0.725606</td>\n",
              "    </tr>\n",
              "    <tr>\n",
              "      <th>Recall</th>\n",
              "      <td>0.587640</td>\n",
              "    </tr>\n",
              "  </tbody>\n",
              "</table>\n",
              "</div>\n",
              "      <button class=\"colab-df-convert\" onclick=\"convertToInteractive('df-87d15684-8bf0-405b-88af-1dd5679fb44a')\"\n",
              "              title=\"Convert this dataframe to an interactive table.\"\n",
              "              style=\"display:none;\">\n",
              "        \n",
              "  <svg xmlns=\"http://www.w3.org/2000/svg\" height=\"24px\"viewBox=\"0 0 24 24\"\n",
              "       width=\"24px\">\n",
              "    <path d=\"M0 0h24v24H0V0z\" fill=\"none\"/>\n",
              "    <path d=\"M18.56 5.44l.94 2.06.94-2.06 2.06-.94-2.06-.94-.94-2.06-.94 2.06-2.06.94zm-11 1L8.5 8.5l.94-2.06 2.06-.94-2.06-.94L8.5 2.5l-.94 2.06-2.06.94zm10 10l.94 2.06.94-2.06 2.06-.94-2.06-.94-.94-2.06-.94 2.06-2.06.94z\"/><path d=\"M17.41 7.96l-1.37-1.37c-.4-.4-.92-.59-1.43-.59-.52 0-1.04.2-1.43.59L10.3 9.45l-7.72 7.72c-.78.78-.78 2.05 0 2.83L4 21.41c.39.39.9.59 1.41.59.51 0 1.02-.2 1.41-.59l7.78-7.78 2.81-2.81c.8-.78.8-2.07 0-2.86zM5.41 20L4 18.59l7.72-7.72 1.47 1.35L5.41 20z\"/>\n",
              "  </svg>\n",
              "      </button>\n",
              "      \n",
              "  <style>\n",
              "    .colab-df-container {\n",
              "      display:flex;\n",
              "      flex-wrap:wrap;\n",
              "      gap: 12px;\n",
              "    }\n",
              "\n",
              "    .colab-df-convert {\n",
              "      background-color: #E8F0FE;\n",
              "      border: none;\n",
              "      border-radius: 50%;\n",
              "      cursor: pointer;\n",
              "      display: none;\n",
              "      fill: #1967D2;\n",
              "      height: 32px;\n",
              "      padding: 0 0 0 0;\n",
              "      width: 32px;\n",
              "    }\n",
              "\n",
              "    .colab-df-convert:hover {\n",
              "      background-color: #E2EBFA;\n",
              "      box-shadow: 0px 1px 2px rgba(60, 64, 67, 0.3), 0px 1px 3px 1px rgba(60, 64, 67, 0.15);\n",
              "      fill: #174EA6;\n",
              "    }\n",
              "\n",
              "    [theme=dark] .colab-df-convert {\n",
              "      background-color: #3B4455;\n",
              "      fill: #D2E3FC;\n",
              "    }\n",
              "\n",
              "    [theme=dark] .colab-df-convert:hover {\n",
              "      background-color: #434B5C;\n",
              "      box-shadow: 0px 1px 3px 1px rgba(0, 0, 0, 0.15);\n",
              "      filter: drop-shadow(0px 1px 2px rgba(0, 0, 0, 0.3));\n",
              "      fill: #FFFFFF;\n",
              "    }\n",
              "  </style>\n",
              "\n",
              "      <script>\n",
              "        const buttonEl =\n",
              "          document.querySelector('#df-87d15684-8bf0-405b-88af-1dd5679fb44a button.colab-df-convert');\n",
              "        buttonEl.style.display =\n",
              "          google.colab.kernel.accessAllowed ? 'block' : 'none';\n",
              "\n",
              "        async function convertToInteractive(key) {\n",
              "          const element = document.querySelector('#df-87d15684-8bf0-405b-88af-1dd5679fb44a');\n",
              "          const dataTable =\n",
              "            await google.colab.kernel.invokeFunction('convertToInteractive',\n",
              "                                                     [key], {});\n",
              "          if (!dataTable) return;\n",
              "\n",
              "          const docLinkHtml = 'Like what you see? Visit the ' +\n",
              "            '<a target=\"_blank\" href=https://colab.research.google.com/notebooks/data_table.ipynb>data table notebook</a>'\n",
              "            + ' to learn more about interactive tables.';\n",
              "          element.innerHTML = '';\n",
              "          dataTable['output_type'] = 'display_data';\n",
              "          await google.colab.output.renderOutput(dataTable, element);\n",
              "          const docLink = document.createElement('div');\n",
              "          docLink.innerHTML = docLinkHtml;\n",
              "          element.appendChild(docLink);\n",
              "        }\n",
              "      </script>\n",
              "    </div>\n",
              "  </div>\n",
              "  "
            ]
          },
          "metadata": {},
          "execution_count": 385
        }
      ]
    },
    {
      "cell_type": "markdown",
      "source": [
        "## Experimento 1: nivel de perturbación 1"
      ],
      "metadata": {
        "id": "x842ieo9CGMu"
      }
    },
    {
      "cell_type": "markdown",
      "source": [
        "Columnas a perturbar: 3"
      ],
      "metadata": {
        "id": "7vnuaPKGeo3o"
      }
    },
    {
      "cell_type": "code",
      "source": [
        "cant_columnas_a_perturbar=3\n",
        "\n",
        "X_test_perturbado1 = perturbar_columnas(cant_columnas_a_perturbar, a, cant_datos_pertubar, X_test1)\n",
        "X_test_perturbado2 = perturbar_columnas(cant_columnas_a_perturbar, a, cant_datos_pertubar, X_test2)\n",
        "X_test_perturbado3 = perturbar_columnas(cant_columnas_a_perturbar, a, cant_datos_pertubar, X_test3)\n",
        "X_test_perturbado4 = perturbar_columnas(cant_columnas_a_perturbar, a, cant_datos_pertubar, X_test4)\n",
        "X_test_perturbado5 = perturbar_columnas(cant_columnas_a_perturbar, a, cant_datos_pertubar, X_test5)"
      ],
      "metadata": {
        "colab": {
          "base_uri": "https://localhost:8080/"
        },
        "id": "nlUT9BF7CN6R",
        "outputId": "43800783-1fcc-49bf-a380-3517b7a30629"
      },
      "execution_count": null,
      "outputs": [
        {
          "output_type": "stream",
          "name": "stdout",
          "text": [
            "ExitRates\n",
            "ProductRelated\n",
            "ProductRelated_Duration\n",
            "------------------------------------------------\n",
            "Informational\n",
            "PageValues\n",
            "ExitRates\n",
            "------------------------------------------------\n",
            "Informational_Duration\n",
            "ProductRelated\n",
            "ExitRates\n",
            "------------------------------------------------\n",
            "Informational\n",
            "ExitRates\n",
            "Informational_Duration\n",
            "------------------------------------------------\n",
            "ExitRates\n",
            "Administrative_Duration\n",
            "Informational\n",
            "------------------------------------------------\n"
          ]
        }
      ]
    },
    {
      "cell_type": "code",
      "source": [
        "precision1, recall1, support1 = calcule_metricas_XGB(X_train1,X_test_perturbado1, y_train1, y_test1)\n",
        "precision2, recall2, support2 = calcule_metricas_XGB(X_train2,X_test_perturbado2, y_train2, y_test2)\n",
        "precision3, recall3, support3 = calcule_metricas_XGB(X_train3,X_test_perturbado3, y_train3, y_test3)\n",
        "precision4, recall4, support4 = calcule_metricas_XGB(X_train4,X_test_perturbado4, y_train4, y_test4)\n",
        "precision5, recall5, support5 = calcule_metricas_XGB(X_train5,X_test_perturbado5, y_train5, y_test5)"
      ],
      "metadata": {
        "colab": {
          "base_uri": "https://localhost:8080/"
        },
        "id": "ytYKqp-yCzhh",
        "outputId": "63cc3d36-62a7-4850-d1a7-204d73e47cb3"
      },
      "execution_count": null,
      "outputs": [
        {
          "output_type": "stream",
          "name": "stdout",
          "text": [
            "-----------------------------------------------------\n",
            "Resultados\n",
            "Precision 1: 0.480\n",
            "Recall: 0.610\n",
            "Support: 557\n",
            "-----------------------------------------------------\n",
            "-----------------------------------------------------\n",
            "Resultados\n",
            "Precision 1: 0.428\n",
            "Recall: 0.540\n",
            "Support: 568\n",
            "-----------------------------------------------------\n",
            "-----------------------------------------------------\n",
            "Resultados\n",
            "Precision 1: 0.411\n",
            "Recall: 0.497\n",
            "Support: 597\n",
            "-----------------------------------------------------\n",
            "-----------------------------------------------------\n",
            "Resultados\n",
            "Precision 1: 0.429\n",
            "Recall: 0.583\n",
            "Support: 530\n",
            "-----------------------------------------------------\n",
            "-----------------------------------------------------\n",
            "Resultados\n",
            "Precision 1: 0.401\n",
            "Recall: 0.605\n",
            "Support: 564\n",
            "-----------------------------------------------------\n"
          ]
        }
      ]
    },
    {
      "cell_type": "code",
      "source": [
        "precision_exp1_XGB = mean([precision1,precision2,precision3,precision4,precision5])\n",
        "recall_exp1_XGB = mean([recall1,recall2,recall3,recall4,recall5])\n",
        "support_exp1_XGB = mean([support1,support2,support3,support4,support5])\n",
        "precisiones_XGB.append(precision_exp1_XGB)\n",
        "recalls_XGB.append(recall_exp1_XGB)\n",
        "supports_XGB.append(support_exp1_XGB )\n",
        "print(\"precision_exp1_XGB \",precision_exp1_XGB)\n",
        "print(\"recall_exp1_XGB \",recall_exp1_XGB)\n",
        "print(\"support_exp1_XGB \",support_exp1_XGB)"
      ],
      "metadata": {
        "colab": {
          "base_uri": "https://localhost:8080/"
        },
        "id": "NKb9eJZ0DDHG",
        "outputId": "6d78f823-0299-47cd-9301-7d7176e16294"
      },
      "execution_count": null,
      "outputs": [
        {
          "output_type": "stream",
          "name": "stdout",
          "text": [
            "precision_exp1_XGB  0.42967108501450735\n",
            "recall_exp1_XGB  0.5672044236652667\n",
            "support_exp1_XGB  563.2\n"
          ]
        }
      ]
    },
    {
      "cell_type": "code",
      "source": [
        "data = [{'XGB': precisiones_XGB[1]}, {'XGB': recalls_XGB[1]}]\n",
        "df = pd.DataFrame(data, index=['Precision', 'Recall'])\n",
        "df"
      ],
      "metadata": {
        "colab": {
          "base_uri": "https://localhost:8080/"
        },
        "id": "9m4zPnAJSXXb",
        "outputId": "aa5aa673-45db-43d0-c2ef-b662631e58cc"
      },
      "execution_count": null,
      "outputs": [
        {
          "output_type": "execute_result",
          "data": {
            "text/plain": [
              "                XGB\n",
              "Precision  0.429671\n",
              "Recall     0.567204"
            ],
            "text/html": [
              "\n",
              "  <div id=\"df-77119696-b7ca-49a1-83cb-7530fe0d2a0f\">\n",
              "    <div class=\"colab-df-container\">\n",
              "      <div>\n",
              "<style scoped>\n",
              "    .dataframe tbody tr th:only-of-type {\n",
              "        vertical-align: middle;\n",
              "    }\n",
              "\n",
              "    .dataframe tbody tr th {\n",
              "        vertical-align: top;\n",
              "    }\n",
              "\n",
              "    .dataframe thead th {\n",
              "        text-align: right;\n",
              "    }\n",
              "</style>\n",
              "<table border=\"1\" class=\"dataframe\">\n",
              "  <thead>\n",
              "    <tr style=\"text-align: right;\">\n",
              "      <th></th>\n",
              "      <th>XGB</th>\n",
              "    </tr>\n",
              "  </thead>\n",
              "  <tbody>\n",
              "    <tr>\n",
              "      <th>Precision</th>\n",
              "      <td>0.429671</td>\n",
              "    </tr>\n",
              "    <tr>\n",
              "      <th>Recall</th>\n",
              "      <td>0.567204</td>\n",
              "    </tr>\n",
              "  </tbody>\n",
              "</table>\n",
              "</div>\n",
              "      <button class=\"colab-df-convert\" onclick=\"convertToInteractive('df-77119696-b7ca-49a1-83cb-7530fe0d2a0f')\"\n",
              "              title=\"Convert this dataframe to an interactive table.\"\n",
              "              style=\"display:none;\">\n",
              "        \n",
              "  <svg xmlns=\"http://www.w3.org/2000/svg\" height=\"24px\"viewBox=\"0 0 24 24\"\n",
              "       width=\"24px\">\n",
              "    <path d=\"M0 0h24v24H0V0z\" fill=\"none\"/>\n",
              "    <path d=\"M18.56 5.44l.94 2.06.94-2.06 2.06-.94-2.06-.94-.94-2.06-.94 2.06-2.06.94zm-11 1L8.5 8.5l.94-2.06 2.06-.94-2.06-.94L8.5 2.5l-.94 2.06-2.06.94zm10 10l.94 2.06.94-2.06 2.06-.94-2.06-.94-.94-2.06-.94 2.06-2.06.94z\"/><path d=\"M17.41 7.96l-1.37-1.37c-.4-.4-.92-.59-1.43-.59-.52 0-1.04.2-1.43.59L10.3 9.45l-7.72 7.72c-.78.78-.78 2.05 0 2.83L4 21.41c.39.39.9.59 1.41.59.51 0 1.02-.2 1.41-.59l7.78-7.78 2.81-2.81c.8-.78.8-2.07 0-2.86zM5.41 20L4 18.59l7.72-7.72 1.47 1.35L5.41 20z\"/>\n",
              "  </svg>\n",
              "      </button>\n",
              "      \n",
              "  <style>\n",
              "    .colab-df-container {\n",
              "      display:flex;\n",
              "      flex-wrap:wrap;\n",
              "      gap: 12px;\n",
              "    }\n",
              "\n",
              "    .colab-df-convert {\n",
              "      background-color: #E8F0FE;\n",
              "      border: none;\n",
              "      border-radius: 50%;\n",
              "      cursor: pointer;\n",
              "      display: none;\n",
              "      fill: #1967D2;\n",
              "      height: 32px;\n",
              "      padding: 0 0 0 0;\n",
              "      width: 32px;\n",
              "    }\n",
              "\n",
              "    .colab-df-convert:hover {\n",
              "      background-color: #E2EBFA;\n",
              "      box-shadow: 0px 1px 2px rgba(60, 64, 67, 0.3), 0px 1px 3px 1px rgba(60, 64, 67, 0.15);\n",
              "      fill: #174EA6;\n",
              "    }\n",
              "\n",
              "    [theme=dark] .colab-df-convert {\n",
              "      background-color: #3B4455;\n",
              "      fill: #D2E3FC;\n",
              "    }\n",
              "\n",
              "    [theme=dark] .colab-df-convert:hover {\n",
              "      background-color: #434B5C;\n",
              "      box-shadow: 0px 1px 3px 1px rgba(0, 0, 0, 0.15);\n",
              "      filter: drop-shadow(0px 1px 2px rgba(0, 0, 0, 0.3));\n",
              "      fill: #FFFFFF;\n",
              "    }\n",
              "  </style>\n",
              "\n",
              "      <script>\n",
              "        const buttonEl =\n",
              "          document.querySelector('#df-77119696-b7ca-49a1-83cb-7530fe0d2a0f button.colab-df-convert');\n",
              "        buttonEl.style.display =\n",
              "          google.colab.kernel.accessAllowed ? 'block' : 'none';\n",
              "\n",
              "        async function convertToInteractive(key) {\n",
              "          const element = document.querySelector('#df-77119696-b7ca-49a1-83cb-7530fe0d2a0f');\n",
              "          const dataTable =\n",
              "            await google.colab.kernel.invokeFunction('convertToInteractive',\n",
              "                                                     [key], {});\n",
              "          if (!dataTable) return;\n",
              "\n",
              "          const docLinkHtml = 'Like what you see? Visit the ' +\n",
              "            '<a target=\"_blank\" href=https://colab.research.google.com/notebooks/data_table.ipynb>data table notebook</a>'\n",
              "            + ' to learn more about interactive tables.';\n",
              "          element.innerHTML = '';\n",
              "          dataTable['output_type'] = 'display_data';\n",
              "          await google.colab.output.renderOutput(dataTable, element);\n",
              "          const docLink = document.createElement('div');\n",
              "          docLink.innerHTML = docLinkHtml;\n",
              "          element.appendChild(docLink);\n",
              "        }\n",
              "      </script>\n",
              "    </div>\n",
              "  </div>\n",
              "  "
            ]
          },
          "metadata": {},
          "execution_count": 401
        }
      ]
    },
    {
      "cell_type": "markdown",
      "source": [
        "## Experimento 2: nivel perturbación 2"
      ],
      "metadata": {
        "id": "kJOZhF2gDKMD"
      }
    },
    {
      "cell_type": "markdown",
      "source": [
        "Columnas a perturbar: 5"
      ],
      "metadata": {
        "id": "HJYq_v6-erf8"
      }
    },
    {
      "cell_type": "code",
      "source": [
        "cant_columnas_a_perturbar=5\n",
        "\n",
        "X_test_perturbado1 = perturbar_columnas(cant_columnas_a_perturbar, a, cant_datos_pertubar, X_test1)\n",
        "X_test_perturbado2 = perturbar_columnas(cant_columnas_a_perturbar, a, cant_datos_pertubar, X_test2)\n",
        "X_test_perturbado3 = perturbar_columnas(cant_columnas_a_perturbar, a, cant_datos_pertubar, X_test3)\n",
        "X_test_perturbado4 = perturbar_columnas(cant_columnas_a_perturbar, a, cant_datos_pertubar, X_test4)\n",
        "X_test_perturbado5 = perturbar_columnas(cant_columnas_a_perturbar, a, cant_datos_pertubar, X_test5)"
      ],
      "metadata": {
        "colab": {
          "base_uri": "https://localhost:8080/"
        },
        "id": "jy-L1IabDW5W",
        "outputId": "5051c3cc-b67c-4e7a-e06b-927755ceffd5"
      },
      "execution_count": null,
      "outputs": [
        {
          "output_type": "stream",
          "name": "stdout",
          "text": [
            "BounceRates\n",
            "Administrative_Duration\n",
            "ExitRates\n",
            "PageValues\n",
            "ProductRelated\n",
            "------------------------------------------------\n",
            "BounceRates\n",
            "Administrative_Duration\n",
            "Informational_Duration\n",
            "ProductRelated\n",
            "Informational\n",
            "------------------------------------------------\n",
            "Administrative_Duration\n",
            "ExitRates\n",
            "BounceRates\n",
            "ProductRelated_Duration\n",
            "PageValues\n",
            "------------------------------------------------\n",
            "PageValues\n",
            "Administrative_Duration\n",
            "BounceRates\n",
            "ProductRelated_Duration\n",
            "Informational\n",
            "------------------------------------------------\n",
            "PageValues\n",
            "ProductRelated\n",
            "BounceRates\n",
            "Informational_Duration\n",
            "Administrative_Duration\n",
            "------------------------------------------------\n"
          ]
        }
      ]
    },
    {
      "cell_type": "code",
      "source": [
        "precision1, recall1, support1 = calcule_metricas_XGB(X_train1,X_test_perturbado1, y_train1, y_test1)\n",
        "precision2, recall2, support2 = calcule_metricas_XGB(X_train2,X_test_perturbado2, y_train2, y_test2)\n",
        "precision3, recall3, support3 = calcule_metricas_XGB(X_train3,X_test_perturbado3, y_train3, y_test3)\n",
        "precision4, recall4, support4 = calcule_metricas_XGB(X_train4,X_test_perturbado4, y_train4, y_test4)\n",
        "precision5, recall5, support5 = calcule_metricas_XGB(X_train5,X_test_perturbado5, y_train5, y_test5)"
      ],
      "metadata": {
        "colab": {
          "base_uri": "https://localhost:8080/"
        },
        "id": "xZvnRMX9DYiQ",
        "outputId": "c3b53b2e-c938-46ec-afb4-1c3f3fdaa05f"
      },
      "execution_count": null,
      "outputs": [
        {
          "output_type": "stream",
          "name": "stdout",
          "text": [
            "-----------------------------------------------------\n",
            "Resultados\n",
            "Precision 1: 0.433\n",
            "Recall: 0.600\n",
            "Support: 557\n",
            "-----------------------------------------------------\n",
            "-----------------------------------------------------\n",
            "Resultados\n",
            "Precision 1: 0.436\n",
            "Recall: 0.530\n",
            "Support: 568\n",
            "-----------------------------------------------------\n",
            "-----------------------------------------------------\n",
            "Resultados\n",
            "Precision 1: 0.366\n",
            "Recall: 0.477\n",
            "Support: 597\n",
            "-----------------------------------------------------\n",
            "-----------------------------------------------------\n",
            "Resultados\n",
            "Precision 1: 0.393\n",
            "Recall: 0.570\n",
            "Support: 530\n",
            "-----------------------------------------------------\n",
            "-----------------------------------------------------\n",
            "Resultados\n",
            "Precision 1: 0.369\n",
            "Recall: 0.590\n",
            "Support: 564\n",
            "-----------------------------------------------------\n"
          ]
        }
      ]
    },
    {
      "cell_type": "code",
      "source": [
        "precision_exp2_XGB = mean([precision1,precision2,precision3,precision4,precision5])\n",
        "recall_exp2_XGB = mean([recall1,recall2,recall3,recall4,recall5])\n",
        "support_exp2_XGB = mean([support1,support2,support3,support4,support5])\n",
        "precisiones_XGB.append(precision_exp2_XGB)\n",
        "recalls_XGB.append(recall_exp2_XGB)\n",
        "supports_XGB.append(support_exp2_XGB )\n",
        "print(precision_exp2_XGB)\n",
        "print(recall_exp2_XGB)\n",
        "print(support_exp2_XGB)"
      ],
      "metadata": {
        "colab": {
          "base_uri": "https://localhost:8080/"
        },
        "id": "5ij8wWYADj-9",
        "outputId": "b0e3ebb6-12ba-4939-8201-29c5da11a11a"
      },
      "execution_count": null,
      "outputs": [
        {
          "output_type": "stream",
          "name": "stdout",
          "text": [
            "0.3994373180946579\n",
            "0.5534388596760954\n",
            "563.2\n"
          ]
        }
      ]
    },
    {
      "cell_type": "code",
      "source": [
        "data = [{'XGB': precisiones_XGB[2]}, {'XGB': recalls_XGB[2]}]\n",
        "df = pd.DataFrame(data, index=['Precision', 'Recall'])\n",
        "df"
      ],
      "metadata": {
        "colab": {
          "base_uri": "https://localhost:8080/"
        },
        "id": "FI_Z2Rb0Sb1f",
        "outputId": "ec7d4dc1-81d8-41f8-9091-ad1840f14df3"
      },
      "execution_count": null,
      "outputs": [
        {
          "output_type": "execute_result",
          "data": {
            "text/plain": [
              "                XGB\n",
              "Precision  0.399437\n",
              "Recall     0.553439"
            ],
            "text/html": [
              "\n",
              "  <div id=\"df-03a64cfd-a429-43ba-998e-c35465fa8b17\">\n",
              "    <div class=\"colab-df-container\">\n",
              "      <div>\n",
              "<style scoped>\n",
              "    .dataframe tbody tr th:only-of-type {\n",
              "        vertical-align: middle;\n",
              "    }\n",
              "\n",
              "    .dataframe tbody tr th {\n",
              "        vertical-align: top;\n",
              "    }\n",
              "\n",
              "    .dataframe thead th {\n",
              "        text-align: right;\n",
              "    }\n",
              "</style>\n",
              "<table border=\"1\" class=\"dataframe\">\n",
              "  <thead>\n",
              "    <tr style=\"text-align: right;\">\n",
              "      <th></th>\n",
              "      <th>XGB</th>\n",
              "    </tr>\n",
              "  </thead>\n",
              "  <tbody>\n",
              "    <tr>\n",
              "      <th>Precision</th>\n",
              "      <td>0.399437</td>\n",
              "    </tr>\n",
              "    <tr>\n",
              "      <th>Recall</th>\n",
              "      <td>0.553439</td>\n",
              "    </tr>\n",
              "  </tbody>\n",
              "</table>\n",
              "</div>\n",
              "      <button class=\"colab-df-convert\" onclick=\"convertToInteractive('df-03a64cfd-a429-43ba-998e-c35465fa8b17')\"\n",
              "              title=\"Convert this dataframe to an interactive table.\"\n",
              "              style=\"display:none;\">\n",
              "        \n",
              "  <svg xmlns=\"http://www.w3.org/2000/svg\" height=\"24px\"viewBox=\"0 0 24 24\"\n",
              "       width=\"24px\">\n",
              "    <path d=\"M0 0h24v24H0V0z\" fill=\"none\"/>\n",
              "    <path d=\"M18.56 5.44l.94 2.06.94-2.06 2.06-.94-2.06-.94-.94-2.06-.94 2.06-2.06.94zm-11 1L8.5 8.5l.94-2.06 2.06-.94-2.06-.94L8.5 2.5l-.94 2.06-2.06.94zm10 10l.94 2.06.94-2.06 2.06-.94-2.06-.94-.94-2.06-.94 2.06-2.06.94z\"/><path d=\"M17.41 7.96l-1.37-1.37c-.4-.4-.92-.59-1.43-.59-.52 0-1.04.2-1.43.59L10.3 9.45l-7.72 7.72c-.78.78-.78 2.05 0 2.83L4 21.41c.39.39.9.59 1.41.59.51 0 1.02-.2 1.41-.59l7.78-7.78 2.81-2.81c.8-.78.8-2.07 0-2.86zM5.41 20L4 18.59l7.72-7.72 1.47 1.35L5.41 20z\"/>\n",
              "  </svg>\n",
              "      </button>\n",
              "      \n",
              "  <style>\n",
              "    .colab-df-container {\n",
              "      display:flex;\n",
              "      flex-wrap:wrap;\n",
              "      gap: 12px;\n",
              "    }\n",
              "\n",
              "    .colab-df-convert {\n",
              "      background-color: #E8F0FE;\n",
              "      border: none;\n",
              "      border-radius: 50%;\n",
              "      cursor: pointer;\n",
              "      display: none;\n",
              "      fill: #1967D2;\n",
              "      height: 32px;\n",
              "      padding: 0 0 0 0;\n",
              "      width: 32px;\n",
              "    }\n",
              "\n",
              "    .colab-df-convert:hover {\n",
              "      background-color: #E2EBFA;\n",
              "      box-shadow: 0px 1px 2px rgba(60, 64, 67, 0.3), 0px 1px 3px 1px rgba(60, 64, 67, 0.15);\n",
              "      fill: #174EA6;\n",
              "    }\n",
              "\n",
              "    [theme=dark] .colab-df-convert {\n",
              "      background-color: #3B4455;\n",
              "      fill: #D2E3FC;\n",
              "    }\n",
              "\n",
              "    [theme=dark] .colab-df-convert:hover {\n",
              "      background-color: #434B5C;\n",
              "      box-shadow: 0px 1px 3px 1px rgba(0, 0, 0, 0.15);\n",
              "      filter: drop-shadow(0px 1px 2px rgba(0, 0, 0, 0.3));\n",
              "      fill: #FFFFFF;\n",
              "    }\n",
              "  </style>\n",
              "\n",
              "      <script>\n",
              "        const buttonEl =\n",
              "          document.querySelector('#df-03a64cfd-a429-43ba-998e-c35465fa8b17 button.colab-df-convert');\n",
              "        buttonEl.style.display =\n",
              "          google.colab.kernel.accessAllowed ? 'block' : 'none';\n",
              "\n",
              "        async function convertToInteractive(key) {\n",
              "          const element = document.querySelector('#df-03a64cfd-a429-43ba-998e-c35465fa8b17');\n",
              "          const dataTable =\n",
              "            await google.colab.kernel.invokeFunction('convertToInteractive',\n",
              "                                                     [key], {});\n",
              "          if (!dataTable) return;\n",
              "\n",
              "          const docLinkHtml = 'Like what you see? Visit the ' +\n",
              "            '<a target=\"_blank\" href=https://colab.research.google.com/notebooks/data_table.ipynb>data table notebook</a>'\n",
              "            + ' to learn more about interactive tables.';\n",
              "          element.innerHTML = '';\n",
              "          dataTable['output_type'] = 'display_data';\n",
              "          await google.colab.output.renderOutput(dataTable, element);\n",
              "          const docLink = document.createElement('div');\n",
              "          docLink.innerHTML = docLinkHtml;\n",
              "          element.appendChild(docLink);\n",
              "        }\n",
              "      </script>\n",
              "    </div>\n",
              "  </div>\n",
              "  "
            ]
          },
          "metadata": {},
          "execution_count": 405
        }
      ]
    },
    {
      "cell_type": "markdown",
      "source": [
        "## Experimento 3: nivel de perturbación 3"
      ],
      "metadata": {
        "id": "-gr_WEazDo99"
      }
    },
    {
      "cell_type": "markdown",
      "source": [
        "Columnas a perturbar: 8"
      ],
      "metadata": {
        "id": "bHJA4tYPet3k"
      }
    },
    {
      "cell_type": "code",
      "source": [
        "cant_columnas_a_perturbar=8\n",
        "\n",
        "X_test_perturbado1 = perturbar_columnas(cant_columnas_a_perturbar, a, cant_datos_pertubar, X_test1)\n",
        "X_test_perturbado2 = perturbar_columnas(cant_columnas_a_perturbar, a, cant_datos_pertubar, X_test2)\n",
        "X_test_perturbado3 = perturbar_columnas(cant_columnas_a_perturbar, a, cant_datos_pertubar, X_test3)\n",
        "X_test_perturbado4 = perturbar_columnas(cant_columnas_a_perturbar, a, cant_datos_pertubar, X_test4)\n",
        "X_test_perturbado5 = perturbar_columnas(cant_columnas_a_perturbar, a, cant_datos_pertubar, X_test5)"
      ],
      "metadata": {
        "colab": {
          "base_uri": "https://localhost:8080/"
        },
        "id": "BPMwdJuADuLE",
        "outputId": "3a82d9d2-0663-4964-ee18-24ea8ad5ab75"
      },
      "execution_count": null,
      "outputs": [
        {
          "output_type": "stream",
          "name": "stdout",
          "text": [
            "Informational_Duration\n",
            "ExitRates\n",
            "PageValues\n",
            "Administrative_Duration\n",
            "BounceRates\n",
            "Informational\n",
            "ProductRelated\n",
            "ProductRelated_Duration\n",
            "------------------------------------------------\n",
            "ExitRates\n",
            "Administrative_Duration\n",
            "PageValues\n",
            "Informational\n",
            "ProductRelated\n",
            "ProductRelated_Duration\n",
            "BounceRates\n",
            "Informational_Duration\n",
            "------------------------------------------------\n",
            "PageValues\n",
            "ProductRelated_Duration\n",
            "Informational\n",
            "Administrative_Duration\n",
            "ProductRelated\n",
            "ExitRates\n",
            "BounceRates\n",
            "Informational_Duration\n",
            "------------------------------------------------\n",
            "Informational\n",
            "BounceRates\n",
            "Administrative_Duration\n",
            "PageValues\n",
            "Informational_Duration\n",
            "ProductRelated_Duration\n",
            "ProductRelated\n",
            "ExitRates\n",
            "------------------------------------------------\n",
            "ExitRates\n",
            "Administrative_Duration\n",
            "ProductRelated_Duration\n",
            "ProductRelated\n",
            "Informational\n",
            "Informational_Duration\n",
            "BounceRates\n",
            "PageValues\n",
            "------------------------------------------------\n"
          ]
        }
      ]
    },
    {
      "cell_type": "code",
      "source": [
        "precision1, recall1, support1 = calcule_metricas_XGB(X_train1,X_test_perturbado1, y_train1, y_test1)\n",
        "precision2, recall2, support2 = calcule_metricas_XGB(X_train2,X_test_perturbado2, y_train2, y_test2)\n",
        "precision3, recall3, support3 = calcule_metricas_XGB(X_train3,X_test_perturbado3, y_train3, y_test3)\n",
        "precision4, recall4, support4 = calcule_metricas_XGB(X_train4,X_test_perturbado4, y_train4, y_test4)\n",
        "precision5, recall5, support5 = calcule_metricas_XGB(X_train5,X_test_perturbado5, y_train5, y_test5)"
      ],
      "metadata": {
        "colab": {
          "base_uri": "https://localhost:8080/"
        },
        "id": "NRfJYFKbD14F",
        "outputId": "d054b165-55c2-409d-ff19-6a622c5ee25f"
      },
      "execution_count": null,
      "outputs": [
        {
          "output_type": "stream",
          "name": "stdout",
          "text": [
            "-----------------------------------------------------\n",
            "Resultados\n",
            "Precision 1: 0.414\n",
            "Recall: 0.610\n",
            "Support: 557\n",
            "-----------------------------------------------------\n",
            "-----------------------------------------------------\n",
            "Resultados\n",
            "Precision 1: 0.430\n",
            "Recall: 0.530\n",
            "Support: 568\n",
            "-----------------------------------------------------\n",
            "-----------------------------------------------------\n",
            "Resultados\n",
            "Precision 1: 0.341\n",
            "Recall: 0.464\n",
            "Support: 597\n",
            "-----------------------------------------------------\n",
            "-----------------------------------------------------\n",
            "Resultados\n",
            "Precision 1: 0.380\n",
            "Recall: 0.557\n",
            "Support: 530\n",
            "-----------------------------------------------------\n",
            "-----------------------------------------------------\n",
            "Resultados\n",
            "Precision 1: 0.360\n",
            "Recall: 0.596\n",
            "Support: 564\n",
            "-----------------------------------------------------\n"
          ]
        }
      ]
    },
    {
      "cell_type": "code",
      "source": [
        "precision_exp3_XGB = mean([precision1,precision2,precision3,precision4,precision5])\n",
        "recall_exp3_XGB = mean([recall1,recall2,recall3,recall4,recall5])\n",
        "support_exp3_XGB = mean([support1,support2,support3,support4,support5])\n",
        "precisiones_XGB.append(precision_exp3_XGB)\n",
        "recalls_XGB.append(recall_exp3_XGB)\n",
        "supports_XGB.append(support_exp3_XGB)\n",
        "print(precision_exp3_XGB)\n",
        "print(recall_exp3_XGB)\n",
        "print(support_exp3_XGB)"
      ],
      "metadata": {
        "colab": {
          "base_uri": "https://localhost:8080/"
        },
        "id": "VM8WZ8Q8D51F",
        "outputId": "ce5b7a63-5c00-4fd5-8777-3dc331db3050"
      },
      "execution_count": null,
      "outputs": [
        {
          "output_type": "stream",
          "name": "stdout",
          "text": [
            "0.3849341072234303\n",
            "0.5513355115914265\n",
            "563.2\n"
          ]
        }
      ]
    },
    {
      "cell_type": "code",
      "source": [
        "data = [{'XGB': precisiones_XGB[3]}, {'XGB': recalls_XGB[3]}]\n",
        "df = pd.DataFrame(data, index=['Precision', 'Recall'])\n",
        "df"
      ],
      "metadata": {
        "colab": {
          "base_uri": "https://localhost:8080/"
        },
        "id": "OyOsT9DbSgHh",
        "outputId": "48fb3e23-0e4d-4ea8-e497-bc7a9f8b8b25"
      },
      "execution_count": null,
      "outputs": [
        {
          "output_type": "execute_result",
          "data": {
            "text/plain": [
              "                XGB\n",
              "Precision  0.384934\n",
              "Recall     0.551336"
            ],
            "text/html": [
              "\n",
              "  <div id=\"df-ec8ed3bc-0994-4bd2-add9-bbe3a340e4aa\">\n",
              "    <div class=\"colab-df-container\">\n",
              "      <div>\n",
              "<style scoped>\n",
              "    .dataframe tbody tr th:only-of-type {\n",
              "        vertical-align: middle;\n",
              "    }\n",
              "\n",
              "    .dataframe tbody tr th {\n",
              "        vertical-align: top;\n",
              "    }\n",
              "\n",
              "    .dataframe thead th {\n",
              "        text-align: right;\n",
              "    }\n",
              "</style>\n",
              "<table border=\"1\" class=\"dataframe\">\n",
              "  <thead>\n",
              "    <tr style=\"text-align: right;\">\n",
              "      <th></th>\n",
              "      <th>XGB</th>\n",
              "    </tr>\n",
              "  </thead>\n",
              "  <tbody>\n",
              "    <tr>\n",
              "      <th>Precision</th>\n",
              "      <td>0.384934</td>\n",
              "    </tr>\n",
              "    <tr>\n",
              "      <th>Recall</th>\n",
              "      <td>0.551336</td>\n",
              "    </tr>\n",
              "  </tbody>\n",
              "</table>\n",
              "</div>\n",
              "      <button class=\"colab-df-convert\" onclick=\"convertToInteractive('df-ec8ed3bc-0994-4bd2-add9-bbe3a340e4aa')\"\n",
              "              title=\"Convert this dataframe to an interactive table.\"\n",
              "              style=\"display:none;\">\n",
              "        \n",
              "  <svg xmlns=\"http://www.w3.org/2000/svg\" height=\"24px\"viewBox=\"0 0 24 24\"\n",
              "       width=\"24px\">\n",
              "    <path d=\"M0 0h24v24H0V0z\" fill=\"none\"/>\n",
              "    <path d=\"M18.56 5.44l.94 2.06.94-2.06 2.06-.94-2.06-.94-.94-2.06-.94 2.06-2.06.94zm-11 1L8.5 8.5l.94-2.06 2.06-.94-2.06-.94L8.5 2.5l-.94 2.06-2.06.94zm10 10l.94 2.06.94-2.06 2.06-.94-2.06-.94-.94-2.06-.94 2.06-2.06.94z\"/><path d=\"M17.41 7.96l-1.37-1.37c-.4-.4-.92-.59-1.43-.59-.52 0-1.04.2-1.43.59L10.3 9.45l-7.72 7.72c-.78.78-.78 2.05 0 2.83L4 21.41c.39.39.9.59 1.41.59.51 0 1.02-.2 1.41-.59l7.78-7.78 2.81-2.81c.8-.78.8-2.07 0-2.86zM5.41 20L4 18.59l7.72-7.72 1.47 1.35L5.41 20z\"/>\n",
              "  </svg>\n",
              "      </button>\n",
              "      \n",
              "  <style>\n",
              "    .colab-df-container {\n",
              "      display:flex;\n",
              "      flex-wrap:wrap;\n",
              "      gap: 12px;\n",
              "    }\n",
              "\n",
              "    .colab-df-convert {\n",
              "      background-color: #E8F0FE;\n",
              "      border: none;\n",
              "      border-radius: 50%;\n",
              "      cursor: pointer;\n",
              "      display: none;\n",
              "      fill: #1967D2;\n",
              "      height: 32px;\n",
              "      padding: 0 0 0 0;\n",
              "      width: 32px;\n",
              "    }\n",
              "\n",
              "    .colab-df-convert:hover {\n",
              "      background-color: #E2EBFA;\n",
              "      box-shadow: 0px 1px 2px rgba(60, 64, 67, 0.3), 0px 1px 3px 1px rgba(60, 64, 67, 0.15);\n",
              "      fill: #174EA6;\n",
              "    }\n",
              "\n",
              "    [theme=dark] .colab-df-convert {\n",
              "      background-color: #3B4455;\n",
              "      fill: #D2E3FC;\n",
              "    }\n",
              "\n",
              "    [theme=dark] .colab-df-convert:hover {\n",
              "      background-color: #434B5C;\n",
              "      box-shadow: 0px 1px 3px 1px rgba(0, 0, 0, 0.15);\n",
              "      filter: drop-shadow(0px 1px 2px rgba(0, 0, 0, 0.3));\n",
              "      fill: #FFFFFF;\n",
              "    }\n",
              "  </style>\n",
              "\n",
              "      <script>\n",
              "        const buttonEl =\n",
              "          document.querySelector('#df-ec8ed3bc-0994-4bd2-add9-bbe3a340e4aa button.colab-df-convert');\n",
              "        buttonEl.style.display =\n",
              "          google.colab.kernel.accessAllowed ? 'block' : 'none';\n",
              "\n",
              "        async function convertToInteractive(key) {\n",
              "          const element = document.querySelector('#df-ec8ed3bc-0994-4bd2-add9-bbe3a340e4aa');\n",
              "          const dataTable =\n",
              "            await google.colab.kernel.invokeFunction('convertToInteractive',\n",
              "                                                     [key], {});\n",
              "          if (!dataTable) return;\n",
              "\n",
              "          const docLinkHtml = 'Like what you see? Visit the ' +\n",
              "            '<a target=\"_blank\" href=https://colab.research.google.com/notebooks/data_table.ipynb>data table notebook</a>'\n",
              "            + ' to learn more about interactive tables.';\n",
              "          element.innerHTML = '';\n",
              "          dataTable['output_type'] = 'display_data';\n",
              "          await google.colab.output.renderOutput(dataTable, element);\n",
              "          const docLink = document.createElement('div');\n",
              "          docLink.innerHTML = docLinkHtml;\n",
              "          element.appendChild(docLink);\n",
              "        }\n",
              "      </script>\n",
              "    </div>\n",
              "  </div>\n",
              "  "
            ]
          },
          "metadata": {},
          "execution_count": 409
        }
      ]
    },
    {
      "cell_type": "markdown",
      "source": [
        "# Resultados"
      ],
      "metadata": {
        "id": "HtG98vpkEtGv"
      }
    },
    {
      "cell_type": "code",
      "source": [
        "def graficar_metricas(cant_cols_perturbadas, metrica_RF, metrica_XGB, titulo, ylabel):\n",
        "  xi = list(range(len(cant_cols_perturbadas))) \n",
        "  plt.ylim(0.0,1.0) \n",
        "  plt.plot(xi, metrica_RF, marker='o', label='RF', color = '#991f17')  \n",
        "  plt.plot(xi, metrica_XGB, marker='o', label='XGB', color = '#df8879')  \n",
        "  plt.xlabel('Columnas perturbadas') \n",
        "  plt.ylabel(ylabel)  \n",
        "  plt.xticks(xi,cant_cols_perturbadas) \n",
        "  plt.title(titulo) \n",
        "  plt.legend()  \n",
        "  plt.show()"
      ],
      "metadata": {
        "id": "ZcX3vSAF99u-"
      },
      "execution_count": null,
      "outputs": []
    },
    {
      "cell_type": "markdown",
      "source": [
        "Cantidad de columnas perturbadas"
      ],
      "metadata": {
        "id": "SSuXeEkX_-p0"
      }
    },
    {
      "cell_type": "code",
      "source": [
        "cant_columnas_perturbadas = [0,3,5,8] "
      ],
      "metadata": {
        "id": "Kl6yXjpn_85J"
      },
      "execution_count": null,
      "outputs": []
    },
    {
      "cell_type": "markdown",
      "source": [
        "## Precisión"
      ],
      "metadata": {
        "id": "hr_V5BXG6g99"
      }
    },
    {
      "cell_type": "code",
      "source": [
        "print(precisiones_RF,)"
      ],
      "metadata": {
        "colab": {
          "base_uri": "https://localhost:8080/"
        },
        "id": "aJdilgoYCmK8",
        "outputId": "000f2b67-e65d-4eae-d299-d1402c7d9170"
      },
      "execution_count": null,
      "outputs": [
        {
          "output_type": "stream",
          "name": "stdout",
          "text": [
            "[0.7358812459458373, 0.631793606629973, 0.5361365850617463, 0.4737634239347496]\n"
          ]
        }
      ]
    },
    {
      "cell_type": "code",
      "source": [
        "print(precisiones_XGB,)"
      ],
      "metadata": {
        "colab": {
          "base_uri": "https://localhost:8080/"
        },
        "id": "RElgUKhZwnRH",
        "outputId": "dc052399-94b2-44cd-8b7c-95cd77901fd3"
      },
      "execution_count": null,
      "outputs": [
        {
          "output_type": "stream",
          "name": "stdout",
          "text": [
            "[0.7256060551026027, 0.42967108501450735, 0.3994373180946579, 0.3849341072234303]\n"
          ]
        }
      ]
    },
    {
      "cell_type": "code",
      "source": [
        "graficar_metricas(cant_columnas_perturbadas, precisiones_RF, precisiones_XGB, 'Comparación de precisión','Precisión obtenida');"
      ],
      "metadata": {
        "colab": {
          "base_uri": "https://localhost:8080/",
          "height": 295
        },
        "id": "N7ptwluj_HSV",
        "outputId": "981d498e-b6de-4cad-c32e-fbb7af987de1"
      },
      "execution_count": 443,
      "outputs": [
        {
          "output_type": "display_data",
          "data": {
            "text/plain": [
              "<Figure size 432x288 with 1 Axes>"
            ],
            "image/png": "[encoded data removed]"
          },
          "metadata": {
            "needs_background": "light"
          }
        }
      ]
    },
    {
      "cell_type": "markdown",
      "source": [
        "## Recall"
      ],
      "metadata": {
        "id": "0IW7i-EC7BGE"
      }
    },
    {
      "cell_type": "code",
      "source": [
        "graficar_metricas(cant_columnas_perturbadas, recalls_RF, recalls_XGB, 'Comparación de recall','Recall obtenido');"
      ],
      "metadata": {
        "colab": {
          "base_uri": "https://localhost:8080/",
          "height": 295
        },
        "id": "Or2ptdjL_wKi",
        "outputId": "3dfabd4e-ff10-4e23-97fa-a5b812929a59"
      },
      "execution_count": 442,
      "outputs": [
        {
          "output_type": "display_data",
          "data": {
            "text/plain": [
              "<Figure size 432x288 with 1 Axes>"
            ],
            "image/png": "[encoded data removed]"
          },
          "metadata": {
            "needs_background": "light"
          }
        }
      ]
    },
    {
      "cell_type": "markdown",
      "source": [
        "## Reporte de métricas"
      ],
      "metadata": {
        "id": "XGFlW7HiPtCn"
      }
    },
    {
      "cell_type": "code",
      "source": [
        "data = [{'Precision': precisiones_RF[0], 'Recall': recalls_RF[0]}, {'Precision': precisiones_XGB[0], 'Recall': recalls_XGB[0]}]\n",
        "df = pd.DataFrame(data, index=['RF', 'XGB'])\n",
        "df"
      ],
      "metadata": {
        "colab": {
          "base_uri": "https://localhost:8080/",
          "height": 112
        },
        "id": "qFFtaiV2UZA2",
        "outputId": "8844af2a-b0fa-4fed-e0a4-8468f906d267"
      },
      "execution_count": 432,
      "outputs": [
        {
          "output_type": "execute_result",
          "data": {
            "text/plain": [
              "     Precision    Recall\n",
              "RF    0.735881  0.580609\n",
              "XGB   0.725606  0.587640"
            ],
            "text/html": [
              "\n",
              "  <div id=\"df-5aa25ccc-a2f3-4615-905c-3939c8951b7b\">\n",
              "    <div class=\"colab-df-container\">\n",
              "      <div>\n",
              "<style scoped>\n",
              "    .dataframe tbody tr th:only-of-type {\n",
              "        vertical-align: middle;\n",
              "    }\n",
              "\n",
              "    .dataframe tbody tr th {\n",
              "        vertical-align: top;\n",
              "    }\n",
              "\n",
              "    .dataframe thead th {\n",
              "        text-align: right;\n",
              "    }\n",
              "</style>\n",
              "<table border=\"1\" class=\"dataframe\">\n",
              "  <thead>\n",
              "    <tr style=\"text-align: right;\">\n",
              "      <th></th>\n",
              "      <th>Precision</th>\n",
              "      <th>Recall</th>\n",
              "    </tr>\n",
              "  </thead>\n",
              "  <tbody>\n",
              "    <tr>\n",
              "      <th>RF</th>\n",
              "      <td>0.735881</td>\n",
              "      <td>0.580609</td>\n",
              "    </tr>\n",
              "    <tr>\n",
              "      <th>XGB</th>\n",
              "      <td>0.725606</td>\n",
              "      <td>0.587640</td>\n",
              "    </tr>\n",
              "  </tbody>\n",
              "</table>\n",
              "</div>\n",
              "      <button class=\"colab-df-convert\" onclick=\"convertToInteractive('df-5aa25ccc-a2f3-4615-905c-3939c8951b7b')\"\n",
              "              title=\"Convert this dataframe to an interactive table.\"\n",
              "              style=\"display:none;\">\n",
              "        \n",
              "  <svg xmlns=\"http://www.w3.org/2000/svg\" height=\"24px\"viewBox=\"0 0 24 24\"\n",
              "       width=\"24px\">\n",
              "    <path d=\"M0 0h24v24H0V0z\" fill=\"none\"/>\n",
              "    <path d=\"M18.56 5.44l.94 2.06.94-2.06 2.06-.94-2.06-.94-.94-2.06-.94 2.06-2.06.94zm-11 1L8.5 8.5l.94-2.06 2.06-.94-2.06-.94L8.5 2.5l-.94 2.06-2.06.94zm10 10l.94 2.06.94-2.06 2.06-.94-2.06-.94-.94-2.06-.94 2.06-2.06.94z\"/><path d=\"M17.41 7.96l-1.37-1.37c-.4-.4-.92-.59-1.43-.59-.52 0-1.04.2-1.43.59L10.3 9.45l-7.72 7.72c-.78.78-.78 2.05 0 2.83L4 21.41c.39.39.9.59 1.41.59.51 0 1.02-.2 1.41-.59l7.78-7.78 2.81-2.81c.8-.78.8-2.07 0-2.86zM5.41 20L4 18.59l7.72-7.72 1.47 1.35L5.41 20z\"/>\n",
              "  </svg>\n",
              "      </button>\n",
              "      \n",
              "  <style>\n",
              "    .colab-df-container {\n",
              "      display:flex;\n",
              "      flex-wrap:wrap;\n",
              "      gap: 12px;\n",
              "    }\n",
              "\n",
              "    .colab-df-convert {\n",
              "      background-color: #E8F0FE;\n",
              "      border: none;\n",
              "      border-radius: 50%;\n",
              "      cursor: pointer;\n",
              "      display: none;\n",
              "      fill: #1967D2;\n",
              "      height: 32px;\n",
              "      padding: 0 0 0 0;\n",
              "      width: 32px;\n",
              "    }\n",
              "\n",
              "    .colab-df-convert:hover {\n",
              "      background-color: #E2EBFA;\n",
              "      box-shadow: 0px 1px 2px rgba(60, 64, 67, 0.3), 0px 1px 3px 1px rgba(60, 64, 67, 0.15);\n",
              "      fill: #174EA6;\n",
              "    }\n",
              "\n",
              "    [theme=dark] .colab-df-convert {\n",
              "      background-color: #3B4455;\n",
              "      fill: #D2E3FC;\n",
              "    }\n",
              "\n",
              "    [theme=dark] .colab-df-convert:hover {\n",
              "      background-color: #434B5C;\n",
              "      box-shadow: 0px 1px 3px 1px rgba(0, 0, 0, 0.15);\n",
              "      filter: drop-shadow(0px 1px 2px rgba(0, 0, 0, 0.3));\n",
              "      fill: #FFFFFF;\n",
              "    }\n",
              "  </style>\n",
              "\n",
              "      <script>\n",
              "        const buttonEl =\n",
              "          document.querySelector('#df-5aa25ccc-a2f3-4615-905c-3939c8951b7b button.colab-df-convert');\n",
              "        buttonEl.style.display =\n",
              "          google.colab.kernel.accessAllowed ? 'block' : 'none';\n",
              "\n",
              "        async function convertToInteractive(key) {\n",
              "          const element = document.querySelector('#df-5aa25ccc-a2f3-4615-905c-3939c8951b7b');\n",
              "          const dataTable =\n",
              "            await google.colab.kernel.invokeFunction('convertToInteractive',\n",
              "                                                     [key], {});\n",
              "          if (!dataTable) return;\n",
              "\n",
              "          const docLinkHtml = 'Like what you see? Visit the ' +\n",
              "            '<a target=\"_blank\" href=https://colab.research.google.com/notebooks/data_table.ipynb>data table notebook</a>'\n",
              "            + ' to learn more about interactive tables.';\n",
              "          element.innerHTML = '';\n",
              "          dataTable['output_type'] = 'display_data';\n",
              "          await google.colab.output.renderOutput(dataTable, element);\n",
              "          const docLink = document.createElement('div');\n",
              "          docLink.innerHTML = docLinkHtml;\n",
              "          element.appendChild(docLink);\n",
              "        }\n",
              "      </script>\n",
              "    </div>\n",
              "  </div>\n",
              "  "
            ]
          },
          "metadata": {},
          "execution_count": 432
        }
      ]
    },
    {
      "cell_type": "code",
      "source": [
        "data = [{'Precision': precisiones_RF[1], 'Recall': recalls_RF[1]}, {'Precision': precisiones_XGB[1], 'Recall': recalls_XGB[1]}]\n",
        "df = pd.DataFrame(data, index=['RF_1', 'XGB_1'])\n",
        "df"
      ],
      "metadata": {
        "colab": {
          "base_uri": "https://localhost:8080/",
          "height": 112
        },
        "id": "Oc5H50zOvmn0",
        "outputId": "211e55f7-8ca7-4d19-92f2-a98da8fee1b1"
      },
      "execution_count": 433,
      "outputs": [
        {
          "output_type": "execute_result",
          "data": {
            "text/plain": [
              "       Precision    Recall\n",
              "RF_1    0.631794  0.554930\n",
              "XGB_1   0.429671  0.567204"
            ],
            "text/html": [
              "\n",
              "  <div id=\"df-06021bab-b6af-4725-8adc-1315932b0a1c\">\n",
              "    <div class=\"colab-df-container\">\n",
              "      <div>\n",
              "<style scoped>\n",
              "    .dataframe tbody tr th:only-of-type {\n",
              "        vertical-align: middle;\n",
              "    }\n",
              "\n",
              "    .dataframe tbody tr th {\n",
              "        vertical-align: top;\n",
              "    }\n",
              "\n",
              "    .dataframe thead th {\n",
              "        text-align: right;\n",
              "    }\n",
              "</style>\n",
              "<table border=\"1\" class=\"dataframe\">\n",
              "  <thead>\n",
              "    <tr style=\"text-align: right;\">\n",
              "      <th></th>\n",
              "      <th>Precision</th>\n",
              "      <th>Recall</th>\n",
              "    </tr>\n",
              "  </thead>\n",
              "  <tbody>\n",
              "    <tr>\n",
              "      <th>RF_1</th>\n",
              "      <td>0.631794</td>\n",
              "      <td>0.554930</td>\n",
              "    </tr>\n",
              "    <tr>\n",
              "      <th>XGB_1</th>\n",
              "      <td>0.429671</td>\n",
              "      <td>0.567204</td>\n",
              "    </tr>\n",
              "  </tbody>\n",
              "</table>\n",
              "</div>\n",
              "      <button class=\"colab-df-convert\" onclick=\"convertToInteractive('df-06021bab-b6af-4725-8adc-1315932b0a1c')\"\n",
              "              title=\"Convert this dataframe to an interactive table.\"\n",
              "              style=\"display:none;\">\n",
              "        \n",
              "  <svg xmlns=\"http://www.w3.org/2000/svg\" height=\"24px\"viewBox=\"0 0 24 24\"\n",
              "       width=\"24px\">\n",
              "    <path d=\"M0 0h24v24H0V0z\" fill=\"none\"/>\n",
              "    <path d=\"M18.56 5.44l.94 2.06.94-2.06 2.06-.94-2.06-.94-.94-2.06-.94 2.06-2.06.94zm-11 1L8.5 8.5l.94-2.06 2.06-.94-2.06-.94L8.5 2.5l-.94 2.06-2.06.94zm10 10l.94 2.06.94-2.06 2.06-.94-2.06-.94-.94-2.06-.94 2.06-2.06.94z\"/><path d=\"M17.41 7.96l-1.37-1.37c-.4-.4-.92-.59-1.43-.59-.52 0-1.04.2-1.43.59L10.3 9.45l-7.72 7.72c-.78.78-.78 2.05 0 2.83L4 21.41c.39.39.9.59 1.41.59.51 0 1.02-.2 1.41-.59l7.78-7.78 2.81-2.81c.8-.78.8-2.07 0-2.86zM5.41 20L4 18.59l7.72-7.72 1.47 1.35L5.41 20z\"/>\n",
              "  </svg>\n",
              "      </button>\n",
              "      \n",
              "  <style>\n",
              "    .colab-df-container {\n",
              "      display:flex;\n",
              "      flex-wrap:wrap;\n",
              "      gap: 12px;\n",
              "    }\n",
              "\n",
              "    .colab-df-convert {\n",
              "      background-color: #E8F0FE;\n",
              "      border: none;\n",
              "      border-radius: 50%;\n",
              "      cursor: pointer;\n",
              "      display: none;\n",
              "      fill: #1967D2;\n",
              "      height: 32px;\n",
              "      padding: 0 0 0 0;\n",
              "      width: 32px;\n",
              "    }\n",
              "\n",
              "    .colab-df-convert:hover {\n",
              "      background-color: #E2EBFA;\n",
              "      box-shadow: 0px 1px 2px rgba(60, 64, 67, 0.3), 0px 1px 3px 1px rgba(60, 64, 67, 0.15);\n",
              "      fill: #174EA6;\n",
              "    }\n",
              "\n",
              "    [theme=dark] .colab-df-convert {\n",
              "      background-color: #3B4455;\n",
              "      fill: #D2E3FC;\n",
              "    }\n",
              "\n",
              "    [theme=dark] .colab-df-convert:hover {\n",
              "      background-color: #434B5C;\n",
              "      box-shadow: 0px 1px 3px 1px rgba(0, 0, 0, 0.15);\n",
              "      filter: drop-shadow(0px 1px 2px rgba(0, 0, 0, 0.3));\n",
              "      fill: #FFFFFF;\n",
              "    }\n",
              "  </style>\n",
              "\n",
              "      <script>\n",
              "        const buttonEl =\n",
              "          document.querySelector('#df-06021bab-b6af-4725-8adc-1315932b0a1c button.colab-df-convert');\n",
              "        buttonEl.style.display =\n",
              "          google.colab.kernel.accessAllowed ? 'block' : 'none';\n",
              "\n",
              "        async function convertToInteractive(key) {\n",
              "          const element = document.querySelector('#df-06021bab-b6af-4725-8adc-1315932b0a1c');\n",
              "          const dataTable =\n",
              "            await google.colab.kernel.invokeFunction('convertToInteractive',\n",
              "                                                     [key], {});\n",
              "          if (!dataTable) return;\n",
              "\n",
              "          const docLinkHtml = 'Like what you see? Visit the ' +\n",
              "            '<a target=\"_blank\" href=https://colab.research.google.com/notebooks/data_table.ipynb>data table notebook</a>'\n",
              "            + ' to learn more about interactive tables.';\n",
              "          element.innerHTML = '';\n",
              "          dataTable['output_type'] = 'display_data';\n",
              "          await google.colab.output.renderOutput(dataTable, element);\n",
              "          const docLink = document.createElement('div');\n",
              "          docLink.innerHTML = docLinkHtml;\n",
              "          element.appendChild(docLink);\n",
              "        }\n",
              "      </script>\n",
              "    </div>\n",
              "  </div>\n",
              "  "
            ]
          },
          "metadata": {},
          "execution_count": 433
        }
      ]
    },
    {
      "cell_type": "code",
      "source": [
        "data = [{'Precision': precisiones_RF[2], 'Recall': recalls_RF[2]}, {'Precision': precisiones_XGB[2], 'Recall': recalls_XGB[2]}]\n",
        "df = pd.DataFrame(data, index=['RF_2', 'XGB_2'])\n",
        "df"
      ],
      "metadata": {
        "colab": {
          "base_uri": "https://localhost:8080/",
          "height": 112
        },
        "id": "Y3nEwQzGx-ju",
        "outputId": "9bc5a1a9-2e57-4114-e1d1-59d561fac925"
      },
      "execution_count": 434,
      "outputs": [
        {
          "output_type": "execute_result",
          "data": {
            "text/plain": [
              "       Precision    Recall\n",
              "RF_2    0.536137  0.525193\n",
              "XGB_2   0.399437  0.553439"
            ],
            "text/html": [
              "\n",
              "  <div id=\"df-71887d1c-2f37-4dc1-9e0f-a0a94e8ed0c2\">\n",
              "    <div class=\"colab-df-container\">\n",
              "      <div>\n",
              "<style scoped>\n",
              "    .dataframe tbody tr th:only-of-type {\n",
              "        vertical-align: middle;\n",
              "    }\n",
              "\n",
              "    .dataframe tbody tr th {\n",
              "        vertical-align: top;\n",
              "    }\n",
              "\n",
              "    .dataframe thead th {\n",
              "        text-align: right;\n",
              "    }\n",
              "</style>\n",
              "<table border=\"1\" class=\"dataframe\">\n",
              "  <thead>\n",
              "    <tr style=\"text-align: right;\">\n",
              "      <th></th>\n",
              "      <th>Precision</th>\n",
              "      <th>Recall</th>\n",
              "    </tr>\n",
              "  </thead>\n",
              "  <tbody>\n",
              "    <tr>\n",
              "      <th>RF_2</th>\n",
              "      <td>0.536137</td>\n",
              "      <td>0.525193</td>\n",
              "    </tr>\n",
              "    <tr>\n",
              "      <th>XGB_2</th>\n",
              "      <td>0.399437</td>\n",
              "      <td>0.553439</td>\n",
              "    </tr>\n",
              "  </tbody>\n",
              "</table>\n",
              "</div>\n",
              "      <button class=\"colab-df-convert\" onclick=\"convertToInteractive('df-71887d1c-2f37-4dc1-9e0f-a0a94e8ed0c2')\"\n",
              "              title=\"Convert this dataframe to an interactive table.\"\n",
              "              style=\"display:none;\">\n",
              "        \n",
              "  <svg xmlns=\"http://www.w3.org/2000/svg\" height=\"24px\"viewBox=\"0 0 24 24\"\n",
              "       width=\"24px\">\n",
              "    <path d=\"M0 0h24v24H0V0z\" fill=\"none\"/>\n",
              "    <path d=\"M18.56 5.44l.94 2.06.94-2.06 2.06-.94-2.06-.94-.94-2.06-.94 2.06-2.06.94zm-11 1L8.5 8.5l.94-2.06 2.06-.94-2.06-.94L8.5 2.5l-.94 2.06-2.06.94zm10 10l.94 2.06.94-2.06 2.06-.94-2.06-.94-.94-2.06-.94 2.06-2.06.94z\"/><path d=\"M17.41 7.96l-1.37-1.37c-.4-.4-.92-.59-1.43-.59-.52 0-1.04.2-1.43.59L10.3 9.45l-7.72 7.72c-.78.78-.78 2.05 0 2.83L4 21.41c.39.39.9.59 1.41.59.51 0 1.02-.2 1.41-.59l7.78-7.78 2.81-2.81c.8-.78.8-2.07 0-2.86zM5.41 20L4 18.59l7.72-7.72 1.47 1.35L5.41 20z\"/>\n",
              "  </svg>\n",
              "      </button>\n",
              "      \n",
              "  <style>\n",
              "    .colab-df-container {\n",
              "      display:flex;\n",
              "      flex-wrap:wrap;\n",
              "      gap: 12px;\n",
              "    }\n",
              "\n",
              "    .colab-df-convert {\n",
              "      background-color: #E8F0FE;\n",
              "      border: none;\n",
              "      border-radius: 50%;\n",
              "      cursor: pointer;\n",
              "      display: none;\n",
              "      fill: #1967D2;\n",
              "      height: 32px;\n",
              "      padding: 0 0 0 0;\n",
              "      width: 32px;\n",
              "    }\n",
              "\n",
              "    .colab-df-convert:hover {\n",
              "      background-color: #E2EBFA;\n",
              "      box-shadow: 0px 1px 2px rgba(60, 64, 67, 0.3), 0px 1px 3px 1px rgba(60, 64, 67, 0.15);\n",
              "      fill: #174EA6;\n",
              "    }\n",
              "\n",
              "    [theme=dark] .colab-df-convert {\n",
              "      background-color: #3B4455;\n",
              "      fill: #D2E3FC;\n",
              "    }\n",
              "\n",
              "    [theme=dark] .colab-df-convert:hover {\n",
              "      background-color: #434B5C;\n",
              "      box-shadow: 0px 1px 3px 1px rgba(0, 0, 0, 0.15);\n",
              "      filter: drop-shadow(0px 1px 2px rgba(0, 0, 0, 0.3));\n",
              "      fill: #FFFFFF;\n",
              "    }\n",
              "  </style>\n",
              "\n",
              "      <script>\n",
              "        const buttonEl =\n",
              "          document.querySelector('#df-71887d1c-2f37-4dc1-9e0f-a0a94e8ed0c2 button.colab-df-convert');\n",
              "        buttonEl.style.display =\n",
              "          google.colab.kernel.accessAllowed ? 'block' : 'none';\n",
              "\n",
              "        async function convertToInteractive(key) {\n",
              "          const element = document.querySelector('#df-71887d1c-2f37-4dc1-9e0f-a0a94e8ed0c2');\n",
              "          const dataTable =\n",
              "            await google.colab.kernel.invokeFunction('convertToInteractive',\n",
              "                                                     [key], {});\n",
              "          if (!dataTable) return;\n",
              "\n",
              "          const docLinkHtml = 'Like what you see? Visit the ' +\n",
              "            '<a target=\"_blank\" href=https://colab.research.google.com/notebooks/data_table.ipynb>data table notebook</a>'\n",
              "            + ' to learn more about interactive tables.';\n",
              "          element.innerHTML = '';\n",
              "          dataTable['output_type'] = 'display_data';\n",
              "          await google.colab.output.renderOutput(dataTable, element);\n",
              "          const docLink = document.createElement('div');\n",
              "          docLink.innerHTML = docLinkHtml;\n",
              "          element.appendChild(docLink);\n",
              "        }\n",
              "      </script>\n",
              "    </div>\n",
              "  </div>\n",
              "  "
            ]
          },
          "metadata": {},
          "execution_count": 434
        }
      ]
    },
    {
      "cell_type": "code",
      "source": [
        "data = [{'Precision': precisiones_RF[3], 'Recall': recalls_RF[3]}, {'Precision': precisiones_XGB[3], 'Recall': recalls_XGB[3]}]\n",
        "df = pd.DataFrame(data, index=['RF_3', 'XGB_3'])\n",
        "df"
      ],
      "metadata": {
        "colab": {
          "base_uri": "https://localhost:8080/",
          "height": 112
        },
        "id": "zm0vEyOvyeFj",
        "outputId": "91f2fdc2-27fe-4373-8a43-83ad155f8df3"
      },
      "execution_count": 435,
      "outputs": [
        {
          "output_type": "execute_result",
          "data": {
            "text/plain": [
              "       Precision    Recall\n",
              "RF_3    0.473763  0.519692\n",
              "XGB_3   0.384934  0.551336"
            ],
            "text/html": [
              "\n",
              "  <div id=\"df-42f24965-6cf7-4a97-b05d-6b48199bab22\">\n",
              "    <div class=\"colab-df-container\">\n",
              "      <div>\n",
              "<style scoped>\n",
              "    .dataframe tbody tr th:only-of-type {\n",
              "        vertical-align: middle;\n",
              "    }\n",
              "\n",
              "    .dataframe tbody tr th {\n",
              "        vertical-align: top;\n",
              "    }\n",
              "\n",
              "    .dataframe thead th {\n",
              "        text-align: right;\n",
              "    }\n",
              "</style>\n",
              "<table border=\"1\" class=\"dataframe\">\n",
              "  <thead>\n",
              "    <tr style=\"text-align: right;\">\n",
              "      <th></th>\n",
              "      <th>Precision</th>\n",
              "      <th>Recall</th>\n",
              "    </tr>\n",
              "  </thead>\n",
              "  <tbody>\n",
              "    <tr>\n",
              "      <th>RF_3</th>\n",
              "      <td>0.473763</td>\n",
              "      <td>0.519692</td>\n",
              "    </tr>\n",
              "    <tr>\n",
              "      <th>XGB_3</th>\n",
              "      <td>0.384934</td>\n",
              "      <td>0.551336</td>\n",
              "    </tr>\n",
              "  </tbody>\n",
              "</table>\n",
              "</div>\n",
              "      <button class=\"colab-df-convert\" onclick=\"convertToInteractive('df-42f24965-6cf7-4a97-b05d-6b48199bab22')\"\n",
              "              title=\"Convert this dataframe to an interactive table.\"\n",
              "              style=\"display:none;\">\n",
              "        \n",
              "  <svg xmlns=\"http://www.w3.org/2000/svg\" height=\"24px\"viewBox=\"0 0 24 24\"\n",
              "       width=\"24px\">\n",
              "    <path d=\"M0 0h24v24H0V0z\" fill=\"none\"/>\n",
              "    <path d=\"M18.56 5.44l.94 2.06.94-2.06 2.06-.94-2.06-.94-.94-2.06-.94 2.06-2.06.94zm-11 1L8.5 8.5l.94-2.06 2.06-.94-2.06-.94L8.5 2.5l-.94 2.06-2.06.94zm10 10l.94 2.06.94-2.06 2.06-.94-2.06-.94-.94-2.06-.94 2.06-2.06.94z\"/><path d=\"M17.41 7.96l-1.37-1.37c-.4-.4-.92-.59-1.43-.59-.52 0-1.04.2-1.43.59L10.3 9.45l-7.72 7.72c-.78.78-.78 2.05 0 2.83L4 21.41c.39.39.9.59 1.41.59.51 0 1.02-.2 1.41-.59l7.78-7.78 2.81-2.81c.8-.78.8-2.07 0-2.86zM5.41 20L4 18.59l7.72-7.72 1.47 1.35L5.41 20z\"/>\n",
              "  </svg>\n",
              "      </button>\n",
              "      \n",
              "  <style>\n",
              "    .colab-df-container {\n",
              "      display:flex;\n",
              "      flex-wrap:wrap;\n",
              "      gap: 12px;\n",
              "    }\n",
              "\n",
              "    .colab-df-convert {\n",
              "      background-color: #E8F0FE;\n",
              "      border: none;\n",
              "      border-radius: 50%;\n",
              "      cursor: pointer;\n",
              "      display: none;\n",
              "      fill: #1967D2;\n",
              "      height: 32px;\n",
              "      padding: 0 0 0 0;\n",
              "      width: 32px;\n",
              "    }\n",
              "\n",
              "    .colab-df-convert:hover {\n",
              "      background-color: #E2EBFA;\n",
              "      box-shadow: 0px 1px 2px rgba(60, 64, 67, 0.3), 0px 1px 3px 1px rgba(60, 64, 67, 0.15);\n",
              "      fill: #174EA6;\n",
              "    }\n",
              "\n",
              "    [theme=dark] .colab-df-convert {\n",
              "      background-color: #3B4455;\n",
              "      fill: #D2E3FC;\n",
              "    }\n",
              "\n",
              "    [theme=dark] .colab-df-convert:hover {\n",
              "      background-color: #434B5C;\n",
              "      box-shadow: 0px 1px 3px 1px rgba(0, 0, 0, 0.15);\n",
              "      filter: drop-shadow(0px 1px 2px rgba(0, 0, 0, 0.3));\n",
              "      fill: #FFFFFF;\n",
              "    }\n",
              "  </style>\n",
              "\n",
              "      <script>\n",
              "        const buttonEl =\n",
              "          document.querySelector('#df-42f24965-6cf7-4a97-b05d-6b48199bab22 button.colab-df-convert');\n",
              "        buttonEl.style.display =\n",
              "          google.colab.kernel.accessAllowed ? 'block' : 'none';\n",
              "\n",
              "        async function convertToInteractive(key) {\n",
              "          const element = document.querySelector('#df-42f24965-6cf7-4a97-b05d-6b48199bab22');\n",
              "          const dataTable =\n",
              "            await google.colab.kernel.invokeFunction('convertToInteractive',\n",
              "                                                     [key], {});\n",
              "          if (!dataTable) return;\n",
              "\n",
              "          const docLinkHtml = 'Like what you see? Visit the ' +\n",
              "            '<a target=\"_blank\" href=https://colab.research.google.com/notebooks/data_table.ipynb>data table notebook</a>'\n",
              "            + ' to learn more about interactive tables.';\n",
              "          element.innerHTML = '';\n",
              "          dataTable['output_type'] = 'display_data';\n",
              "          await google.colab.output.renderOutput(dataTable, element);\n",
              "          const docLink = document.createElement('div');\n",
              "          docLink.innerHTML = docLinkHtml;\n",
              "          element.appendChild(docLink);\n",
              "        }\n",
              "      </script>\n",
              "    </div>\n",
              "  </div>\n",
              "  "
            ]
          },
          "metadata": {},
          "execution_count": 435
        }
      ]
    },
    {
      "cell_type": "code",
      "source": [
        "data = [{'RF': precisiones_RF[0], 'RF1': precisiones_RF[1], 'RF2': precisiones_RF[2], 'RF3': precisiones_RF[3]}, {'RF': recalls_RF[0], 'RF1': recalls_RF[1],'RF2': recalls_RF[2],'RF3': recalls_RF[3]}]\n",
        "df = pd.DataFrame(data, index=['Precision', 'Recall'])\n",
        "df"
      ],
      "metadata": {
        "colab": {
          "base_uri": "https://localhost:8080/",
          "height": 112
        },
        "id": "MwFKXVftyuNe",
        "outputId": "9c086d31-c7bc-4990-bda4-ab28cdad68ff"
      },
      "execution_count": 436,
      "outputs": [
        {
          "output_type": "execute_result",
          "data": {
            "text/plain": [
              "                 RF       RF1       RF2       RF3\n",
              "Precision  0.735881  0.631794  0.536137  0.473763\n",
              "Recall     0.580609  0.554930  0.525193  0.519692"
            ],
            "text/html": [
              "\n",
              "  <div id=\"df-7b62653e-acc7-4058-b479-8a49ab697f83\">\n",
              "    <div class=\"colab-df-container\">\n",
              "      <div>\n",
              "<style scoped>\n",
              "    .dataframe tbody tr th:only-of-type {\n",
              "        vertical-align: middle;\n",
              "    }\n",
              "\n",
              "    .dataframe tbody tr th {\n",
              "        vertical-align: top;\n",
              "    }\n",
              "\n",
              "    .dataframe thead th {\n",
              "        text-align: right;\n",
              "    }\n",
              "</style>\n",
              "<table border=\"1\" class=\"dataframe\">\n",
              "  <thead>\n",
              "    <tr style=\"text-align: right;\">\n",
              "      <th></th>\n",
              "      <th>RF</th>\n",
              "      <th>RF1</th>\n",
              "      <th>RF2</th>\n",
              "      <th>RF3</th>\n",
              "    </tr>\n",
              "  </thead>\n",
              "  <tbody>\n",
              "    <tr>\n",
              "      <th>Precision</th>\n",
              "      <td>0.735881</td>\n",
              "      <td>0.631794</td>\n",
              "      <td>0.536137</td>\n",
              "      <td>0.473763</td>\n",
              "    </tr>\n",
              "    <tr>\n",
              "      <th>Recall</th>\n",
              "      <td>0.580609</td>\n",
              "      <td>0.554930</td>\n",
              "      <td>0.525193</td>\n",
              "      <td>0.519692</td>\n",
              "    </tr>\n",
              "  </tbody>\n",
              "</table>\n",
              "</div>\n",
              "      <button class=\"colab-df-convert\" onclick=\"convertToInteractive('df-7b62653e-acc7-4058-b479-8a49ab697f83')\"\n",
              "              title=\"Convert this dataframe to an interactive table.\"\n",
              "              style=\"display:none;\">\n",
              "        \n",
              "  <svg xmlns=\"http://www.w3.org/2000/svg\" height=\"24px\"viewBox=\"0 0 24 24\"\n",
              "       width=\"24px\">\n",
              "    <path d=\"M0 0h24v24H0V0z\" fill=\"none\"/>\n",
              "    <path d=\"M18.56 5.44l.94 2.06.94-2.06 2.06-.94-2.06-.94-.94-2.06-.94 2.06-2.06.94zm-11 1L8.5 8.5l.94-2.06 2.06-.94-2.06-.94L8.5 2.5l-.94 2.06-2.06.94zm10 10l.94 2.06.94-2.06 2.06-.94-2.06-.94-.94-2.06-.94 2.06-2.06.94z\"/><path d=\"M17.41 7.96l-1.37-1.37c-.4-.4-.92-.59-1.43-.59-.52 0-1.04.2-1.43.59L10.3 9.45l-7.72 7.72c-.78.78-.78 2.05 0 2.83L4 21.41c.39.39.9.59 1.41.59.51 0 1.02-.2 1.41-.59l7.78-7.78 2.81-2.81c.8-.78.8-2.07 0-2.86zM5.41 20L4 18.59l7.72-7.72 1.47 1.35L5.41 20z\"/>\n",
              "  </svg>\n",
              "      </button>\n",
              "      \n",
              "  <style>\n",
              "    .colab-df-container {\n",
              "      display:flex;\n",
              "      flex-wrap:wrap;\n",
              "      gap: 12px;\n",
              "    }\n",
              "\n",
              "    .colab-df-convert {\n",
              "      background-color: #E8F0FE;\n",
              "      border: none;\n",
              "      border-radius: 50%;\n",
              "      cursor: pointer;\n",
              "      display: none;\n",
              "      fill: #1967D2;\n",
              "      height: 32px;\n",
              "      padding: 0 0 0 0;\n",
              "      width: 32px;\n",
              "    }\n",
              "\n",
              "    .colab-df-convert:hover {\n",
              "      background-color: #E2EBFA;\n",
              "      box-shadow: 0px 1px 2px rgba(60, 64, 67, 0.3), 0px 1px 3px 1px rgba(60, 64, 67, 0.15);\n",
              "      fill: #174EA6;\n",
              "    }\n",
              "\n",
              "    [theme=dark] .colab-df-convert {\n",
              "      background-color: #3B4455;\n",
              "      fill: #D2E3FC;\n",
              "    }\n",
              "\n",
              "    [theme=dark] .colab-df-convert:hover {\n",
              "      background-color: #434B5C;\n",
              "      box-shadow: 0px 1px 3px 1px rgba(0, 0, 0, 0.15);\n",
              "      filter: drop-shadow(0px 1px 2px rgba(0, 0, 0, 0.3));\n",
              "      fill: #FFFFFF;\n",
              "    }\n",
              "  </style>\n",
              "\n",
              "      <script>\n",
              "        const buttonEl =\n",
              "          document.querySelector('#df-7b62653e-acc7-4058-b479-8a49ab697f83 button.colab-df-convert');\n",
              "        buttonEl.style.display =\n",
              "          google.colab.kernel.accessAllowed ? 'block' : 'none';\n",
              "\n",
              "        async function convertToInteractive(key) {\n",
              "          const element = document.querySelector('#df-7b62653e-acc7-4058-b479-8a49ab697f83');\n",
              "          const dataTable =\n",
              "            await google.colab.kernel.invokeFunction('convertToInteractive',\n",
              "                                                     [key], {});\n",
              "          if (!dataTable) return;\n",
              "\n",
              "          const docLinkHtml = 'Like what you see? Visit the ' +\n",
              "            '<a target=\"_blank\" href=https://colab.research.google.com/notebooks/data_table.ipynb>data table notebook</a>'\n",
              "            + ' to learn more about interactive tables.';\n",
              "          element.innerHTML = '';\n",
              "          dataTable['output_type'] = 'display_data';\n",
              "          await google.colab.output.renderOutput(dataTable, element);\n",
              "          const docLink = document.createElement('div');\n",
              "          docLink.innerHTML = docLinkHtml;\n",
              "          element.appendChild(docLink);\n",
              "        }\n",
              "      </script>\n",
              "    </div>\n",
              "  </div>\n",
              "  "
            ]
          },
          "metadata": {},
          "execution_count": 436
        }
      ]
    },
    {
      "cell_type": "code",
      "source": [
        "sns.color_palette(\"rocket\", as_cmap=True)\n",
        "sns.cubehelix_palette(start=.5, rot=-.5, as_cmap=True)\n",
        "sns.heatmap(df.iloc[:, :].T, annot=True, cmap=\"rocket\")\n"
      ],
      "metadata": {
        "colab": {
          "base_uri": "https://localhost:8080/",
          "height": 282
        },
        "id": "ipbH4y9555Ou",
        "outputId": "2b1acd5d-24f0-4175-bc64-f32ade1b9795"
      },
      "execution_count": 437,
      "outputs": [
        {
          "output_type": "execute_result",
          "data": {
            "text/plain": [
              "<matplotlib.axes._subplots.AxesSubplot at 0x7fdd009a8f50>"
            ]
          },
          "metadata": {},
          "execution_count": 437
        },
        {
          "output_type": "display_data",
          "data": {
            "text/plain": [
              "<Figure size 432x288 with 2 Axes>"
            ],
            "image/png": "[encoded data removed]"
          },
          "metadata": {
            "needs_background": "light"
          }
        }
      ]
    },
    {
      "cell_type": "code",
      "source": [
        "data = [{'XGB': precisiones_XGB[0], 'XGB1': precisiones_XGB[1], 'XGB2': precisiones_XGB[2], 'XGB3': precisiones_XGB[3]}, {'XGB': recalls_XGB[0], 'XGB1': recalls_XGB[1],'XGB2': recalls_RF[2],'XGB3': recalls_RF[3]}]\n",
        "df = pd.DataFrame(data, index=['Precision', 'Recall'])\n",
        "df"
      ],
      "metadata": {
        "colab": {
          "base_uri": "https://localhost:8080/",
          "height": 112
        },
        "id": "hJziYwvK2nys",
        "outputId": "1b278a5f-208e-4eac-a083-c50798d3f40b"
      },
      "execution_count": 438,
      "outputs": [
        {
          "output_type": "execute_result",
          "data": {
            "text/plain": [
              "                XGB      XGB1      XGB2      XGB3\n",
              "Precision  0.725606  0.429671  0.399437  0.384934\n",
              "Recall     0.587640  0.567204  0.525193  0.519692"
            ],
            "text/html": [
              "\n",
              "  <div id=\"df-8c5d2a78-c530-4dd9-8e3e-d0f7cd6464cb\">\n",
              "    <div class=\"colab-df-container\">\n",
              "      <div>\n",
              "<style scoped>\n",
              "    .dataframe tbody tr th:only-of-type {\n",
              "        vertical-align: middle;\n",
              "    }\n",
              "\n",
              "    .dataframe tbody tr th {\n",
              "        vertical-align: top;\n",
              "    }\n",
              "\n",
              "    .dataframe thead th {\n",
              "        text-align: right;\n",
              "    }\n",
              "</style>\n",
              "<table border=\"1\" class=\"dataframe\">\n",
              "  <thead>\n",
              "    <tr style=\"text-align: right;\">\n",
              "      <th></th>\n",
              "      <th>XGB</th>\n",
              "      <th>XGB1</th>\n",
              "      <th>XGB2</th>\n",
              "      <th>XGB3</th>\n",
              "    </tr>\n",
              "  </thead>\n",
              "  <tbody>\n",
              "    <tr>\n",
              "      <th>Precision</th>\n",
              "      <td>0.725606</td>\n",
              "      <td>0.429671</td>\n",
              "      <td>0.399437</td>\n",
              "      <td>0.384934</td>\n",
              "    </tr>\n",
              "    <tr>\n",
              "      <th>Recall</th>\n",
              "      <td>0.587640</td>\n",
              "      <td>0.567204</td>\n",
              "      <td>0.525193</td>\n",
              "      <td>0.519692</td>\n",
              "    </tr>\n",
              "  </tbody>\n",
              "</table>\n",
              "</div>\n",
              "      <button class=\"colab-df-convert\" onclick=\"convertToInteractive('df-8c5d2a78-c530-4dd9-8e3e-d0f7cd6464cb')\"\n",
              "              title=\"Convert this dataframe to an interactive table.\"\n",
              "              style=\"display:none;\">\n",
              "        \n",
              "  <svg xmlns=\"http://www.w3.org/2000/svg\" height=\"24px\"viewBox=\"0 0 24 24\"\n",
              "       width=\"24px\">\n",
              "    <path d=\"M0 0h24v24H0V0z\" fill=\"none\"/>\n",
              "    <path d=\"M18.56 5.44l.94 2.06.94-2.06 2.06-.94-2.06-.94-.94-2.06-.94 2.06-2.06.94zm-11 1L8.5 8.5l.94-2.06 2.06-.94-2.06-.94L8.5 2.5l-.94 2.06-2.06.94zm10 10l.94 2.06.94-2.06 2.06-.94-2.06-.94-.94-2.06-.94 2.06-2.06.94z\"/><path d=\"M17.41 7.96l-1.37-1.37c-.4-.4-.92-.59-1.43-.59-.52 0-1.04.2-1.43.59L10.3 9.45l-7.72 7.72c-.78.78-.78 2.05 0 2.83L4 21.41c.39.39.9.59 1.41.59.51 0 1.02-.2 1.41-.59l7.78-7.78 2.81-2.81c.8-.78.8-2.07 0-2.86zM5.41 20L4 18.59l7.72-7.72 1.47 1.35L5.41 20z\"/>\n",
              "  </svg>\n",
              "      </button>\n",
              "      \n",
              "  <style>\n",
              "    .colab-df-container {\n",
              "      display:flex;\n",
              "      flex-wrap:wrap;\n",
              "      gap: 12px;\n",
              "    }\n",
              "\n",
              "    .colab-df-convert {\n",
              "      background-color: #E8F0FE;\n",
              "      border: none;\n",
              "      border-radius: 50%;\n",
              "      cursor: pointer;\n",
              "      display: none;\n",
              "      fill: #1967D2;\n",
              "      height: 32px;\n",
              "      padding: 0 0 0 0;\n",
              "      width: 32px;\n",
              "    }\n",
              "\n",
              "    .colab-df-convert:hover {\n",
              "      background-color: #E2EBFA;\n",
              "      box-shadow: 0px 1px 2px rgba(60, 64, 67, 0.3), 0px 1px 3px 1px rgba(60, 64, 67, 0.15);\n",
              "      fill: #174EA6;\n",
              "    }\n",
              "\n",
              "    [theme=dark] .colab-df-convert {\n",
              "      background-color: #3B4455;\n",
              "      fill: #D2E3FC;\n",
              "    }\n",
              "\n",
              "    [theme=dark] .colab-df-convert:hover {\n",
              "      background-color: #434B5C;\n",
              "      box-shadow: 0px 1px 3px 1px rgba(0, 0, 0, 0.15);\n",
              "      filter: drop-shadow(0px 1px 2px rgba(0, 0, 0, 0.3));\n",
              "      fill: #FFFFFF;\n",
              "    }\n",
              "  </style>\n",
              "\n",
              "      <script>\n",
              "        const buttonEl =\n",
              "          document.querySelector('#df-8c5d2a78-c530-4dd9-8e3e-d0f7cd6464cb button.colab-df-convert');\n",
              "        buttonEl.style.display =\n",
              "          google.colab.kernel.accessAllowed ? 'block' : 'none';\n",
              "\n",
              "        async function convertToInteractive(key) {\n",
              "          const element = document.querySelector('#df-8c5d2a78-c530-4dd9-8e3e-d0f7cd6464cb');\n",
              "          const dataTable =\n",
              "            await google.colab.kernel.invokeFunction('convertToInteractive',\n",
              "                                                     [key], {});\n",
              "          if (!dataTable) return;\n",
              "\n",
              "          const docLinkHtml = 'Like what you see? Visit the ' +\n",
              "            '<a target=\"_blank\" href=https://colab.research.google.com/notebooks/data_table.ipynb>data table notebook</a>'\n",
              "            + ' to learn more about interactive tables.';\n",
              "          element.innerHTML = '';\n",
              "          dataTable['output_type'] = 'display_data';\n",
              "          await google.colab.output.renderOutput(dataTable, element);\n",
              "          const docLink = document.createElement('div');\n",
              "          docLink.innerHTML = docLinkHtml;\n",
              "          element.appendChild(docLink);\n",
              "        }\n",
              "      </script>\n",
              "    </div>\n",
              "  </div>\n",
              "  "
            ]
          },
          "metadata": {},
          "execution_count": 438
        }
      ]
    },
    {
      "cell_type": "code",
      "source": [
        "sns.color_palette(\"rocket\", as_cmap=True)\n",
        "sns.cubehelix_palette(start=.5, rot=-.5, as_cmap=True)\n",
        "sns.heatmap(df.iloc[:, :].T, annot=True, cmap=\"rocket\")"
      ],
      "metadata": {
        "colab": {
          "base_uri": "https://localhost:8080/",
          "height": 282
        },
        "id": "I7vyhz5gMlng",
        "outputId": "fd1a6793-fb25-43e5-a478-2a6380d53013"
      },
      "execution_count": 439,
      "outputs": [
        {
          "output_type": "execute_result",
          "data": {
            "text/plain": [
              "<matplotlib.axes._subplots.AxesSubplot at 0x7fdd008ddb50>"
            ]
          },
          "metadata": {},
          "execution_count": 439
        },
        {
          "output_type": "display_data",
          "data": {
            "text/plain": [
              "<Figure size 432x288 with 2 Axes>"
            ],
            "image/png": "[encoded data removed]"
          },
          "metadata": {
            "needs_background": "light"
          }
        }
      ]
    },
    {
      "cell_type": "code",
      "source": [
        "data = [{'RF': precisiones_RF[0], 'RF1': precisiones_RF[1], 'RF2': precisiones_RF[2], 'RF3': precisiones_RF[3],'XGB': precisiones_XGB[0], 'XGB1': precisiones_XGB[1], 'XGB2': precisiones_XGB[2], 'XGB3': precisiones_XGB[3]}, {'RF': recalls_RF[0], 'RF1': recalls_RF[1],'RF2': recalls_RF[2],'RF3': recalls_RF[3],'XGB': recalls_XGB[0], 'XGB1': recalls_XGB[1],'XGB2': recalls_RF[2],'XGB3': recalls_RF[3]}]\n",
        "df = pd.DataFrame(data, index=['Precision', 'Recall'])\n",
        "df"
      ],
      "metadata": {
        "colab": {
          "base_uri": "https://localhost:8080/",
          "height": 156
        },
        "id": "IIH-18xPDEpJ",
        "outputId": "265b547e-391b-4312-acc7-2e2e19103036"
      },
      "execution_count": 440,
      "outputs": [
        {
          "output_type": "execute_result",
          "data": {
            "text/plain": [
              "                 RF       RF1       RF2       RF3       XGB      XGB1  \\\n",
              "Precision  0.735881  0.631794  0.536137  0.473763  0.725606  0.429671   \n",
              "Recall     0.580609  0.554930  0.525193  0.519692  0.587640  0.567204   \n",
              "\n",
              "               XGB2      XGB3  \n",
              "Precision  0.399437  0.384934  \n",
              "Recall     0.525193  0.519692  "
            ],
            "text/html": [
              "\n",
              "  <div id=\"df-9753a6f1-8908-457b-b61e-f6252e86892c\">\n",
              "    <div class=\"colab-df-container\">\n",
              "      <div>\n",
              "<style scoped>\n",
              "    .dataframe tbody tr th:only-of-type {\n",
              "        vertical-align: middle;\n",
              "    }\n",
              "\n",
              "    .dataframe tbody tr th {\n",
              "        vertical-align: top;\n",
              "    }\n",
              "\n",
              "    .dataframe thead th {\n",
              "        text-align: right;\n",
              "    }\n",
              "</style>\n",
              "<table border=\"1\" class=\"dataframe\">\n",
              "  <thead>\n",
              "    <tr style=\"text-align: right;\">\n",
              "      <th></th>\n",
              "      <th>RF</th>\n",
              "      <th>RF1</th>\n",
              "      <th>RF2</th>\n",
              "      <th>RF3</th>\n",
              "      <th>XGB</th>\n",
              "      <th>XGB1</th>\n",
              "      <th>XGB2</th>\n",
              "      <th>XGB3</th>\n",
              "    </tr>\n",
              "  </thead>\n",
              "  <tbody>\n",
              "    <tr>\n",
              "      <th>Precision</th>\n",
              "      <td>0.735881</td>\n",
              "      <td>0.631794</td>\n",
              "      <td>0.536137</td>\n",
              "      <td>0.473763</td>\n",
              "      <td>0.725606</td>\n",
              "      <td>0.429671</td>\n",
              "      <td>0.399437</td>\n",
              "      <td>0.384934</td>\n",
              "    </tr>\n",
              "    <tr>\n",
              "      <th>Recall</th>\n",
              "      <td>0.580609</td>\n",
              "      <td>0.554930</td>\n",
              "      <td>0.525193</td>\n",
              "      <td>0.519692</td>\n",
              "      <td>0.587640</td>\n",
              "      <td>0.567204</td>\n",
              "      <td>0.525193</td>\n",
              "      <td>0.519692</td>\n",
              "    </tr>\n",
              "  </tbody>\n",
              "</table>\n",
              "</div>\n",
              "      <button class=\"colab-df-convert\" onclick=\"convertToInteractive('df-9753a6f1-8908-457b-b61e-f6252e86892c')\"\n",
              "              title=\"Convert this dataframe to an interactive table.\"\n",
              "              style=\"display:none;\">\n",
              "        \n",
              "  <svg xmlns=\"http://www.w3.org/2000/svg\" height=\"24px\"viewBox=\"0 0 24 24\"\n",
              "       width=\"24px\">\n",
              "    <path d=\"M0 0h24v24H0V0z\" fill=\"none\"/>\n",
              "    <path d=\"M18.56 5.44l.94 2.06.94-2.06 2.06-.94-2.06-.94-.94-2.06-.94 2.06-2.06.94zm-11 1L8.5 8.5l.94-2.06 2.06-.94-2.06-.94L8.5 2.5l-.94 2.06-2.06.94zm10 10l.94 2.06.94-2.06 2.06-.94-2.06-.94-.94-2.06-.94 2.06-2.06.94z\"/><path d=\"M17.41 7.96l-1.37-1.37c-.4-.4-.92-.59-1.43-.59-.52 0-1.04.2-1.43.59L10.3 9.45l-7.72 7.72c-.78.78-.78 2.05 0 2.83L4 21.41c.39.39.9.59 1.41.59.51 0 1.02-.2 1.41-.59l7.78-7.78 2.81-2.81c.8-.78.8-2.07 0-2.86zM5.41 20L4 18.59l7.72-7.72 1.47 1.35L5.41 20z\"/>\n",
              "  </svg>\n",
              "      </button>\n",
              "      \n",
              "  <style>\n",
              "    .colab-df-container {\n",
              "      display:flex;\n",
              "      flex-wrap:wrap;\n",
              "      gap: 12px;\n",
              "    }\n",
              "\n",
              "    .colab-df-convert {\n",
              "      background-color: #E8F0FE;\n",
              "      border: none;\n",
              "      border-radius: 50%;\n",
              "      cursor: pointer;\n",
              "      display: none;\n",
              "      fill: #1967D2;\n",
              "      height: 32px;\n",
              "      padding: 0 0 0 0;\n",
              "      width: 32px;\n",
              "    }\n",
              "\n",
              "    .colab-df-convert:hover {\n",
              "      background-color: #E2EBFA;\n",
              "      box-shadow: 0px 1px 2px rgba(60, 64, 67, 0.3), 0px 1px 3px 1px rgba(60, 64, 67, 0.15);\n",
              "      fill: #174EA6;\n",
              "    }\n",
              "\n",
              "    [theme=dark] .colab-df-convert {\n",
              "      background-color: #3B4455;\n",
              "      fill: #D2E3FC;\n",
              "    }\n",
              "\n",
              "    [theme=dark] .colab-df-convert:hover {\n",
              "      background-color: #434B5C;\n",
              "      box-shadow: 0px 1px 3px 1px rgba(0, 0, 0, 0.15);\n",
              "      filter: drop-shadow(0px 1px 2px rgba(0, 0, 0, 0.3));\n",
              "      fill: #FFFFFF;\n",
              "    }\n",
              "  </style>\n",
              "\n",
              "      <script>\n",
              "        const buttonEl =\n",
              "          document.querySelector('#df-9753a6f1-8908-457b-b61e-f6252e86892c button.colab-df-convert');\n",
              "        buttonEl.style.display =\n",
              "          google.colab.kernel.accessAllowed ? 'block' : 'none';\n",
              "\n",
              "        async function convertToInteractive(key) {\n",
              "          const element = document.querySelector('#df-9753a6f1-8908-457b-b61e-f6252e86892c');\n",
              "          const dataTable =\n",
              "            await google.colab.kernel.invokeFunction('convertToInteractive',\n",
              "                                                     [key], {});\n",
              "          if (!dataTable) return;\n",
              "\n",
              "          const docLinkHtml = 'Like what you see? Visit the ' +\n",
              "            '<a target=\"_blank\" href=https://colab.research.google.com/notebooks/data_table.ipynb>data table notebook</a>'\n",
              "            + ' to learn more about interactive tables.';\n",
              "          element.innerHTML = '';\n",
              "          dataTable['output_type'] = 'display_data';\n",
              "          await google.colab.output.renderOutput(dataTable, element);\n",
              "          const docLink = document.createElement('div');\n",
              "          docLink.innerHTML = docLinkHtml;\n",
              "          element.appendChild(docLink);\n",
              "        }\n",
              "      </script>\n",
              "    </div>\n",
              "  </div>\n",
              "  "
            ]
          },
          "metadata": {},
          "execution_count": 440
        }
      ]
    },
    {
      "cell_type": "code",
      "source": [
        "sns.color_palette(\"rocket\", as_cmap=True)\n",
        "sns.cubehelix_palette(start=.5, rot=-.5, as_cmap=True)\n",
        "sns.heatmap(df.iloc[:, :].T, annot=True, cmap=\"rocket\")"
      ],
      "metadata": {
        "colab": {
          "base_uri": "https://localhost:8080/",
          "height": 282
        },
        "id": "qJt0dpXcDj4X",
        "outputId": "bcc1360f-ffa5-4481-ab2c-5268f84ebbe3"
      },
      "execution_count": 441,
      "outputs": [
        {
          "output_type": "execute_result",
          "data": {
            "text/plain": [
              "<matplotlib.axes._subplots.AxesSubplot at 0x7fdd00945090>"
            ]
          },
          "metadata": {},
          "execution_count": 441
        },
        {
          "output_type": "display_data",
          "data": {
            "text/plain": [
              "<Figure size 432x288 with 2 Axes>"
            ],
            "image/png": "[encoded data removed]"
          },
          "metadata": {
            "needs_background": "light"
          }
        }
      ]
    }
  ]
}